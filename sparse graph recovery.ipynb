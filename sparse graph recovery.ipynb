{
 "metadata": {
  "name": "",
  "signature": "sha256:af06b3a05bd45dc8e235dbd03d5be3afdf569cfecb72ab2bbe182d7de547cd8e"
 },
 "nbformat": 3,
 "nbformat_minor": 0,
 "worksheets": [
  {
   "cells": [
    {
     "cell_type": "code",
     "collapsed": false,
     "input": [
      "import pandas as pd\n",
      "import numpy as np\n",
      "import difflib\n",
      "import matplotlib.pyplot as plt\n",
      "import cPickle as pickle\n",
      "import networkx as nx\n",
      "import random"
     ],
     "language": "python",
     "metadata": {},
     "outputs": [],
     "prompt_number": 88
    },
    {
     "cell_type": "code",
     "collapsed": false,
     "input": [
      "#parameters\n",
      "numMeasurements = 10\n",
      "treeDepth = 2\n"
     ],
     "language": "python",
     "metadata": {},
     "outputs": [],
     "prompt_number": 89
    },
    {
     "cell_type": "code",
     "collapsed": false,
     "input": [
      "#load the node and edge data\n",
      "nodes = pd.read_pickle('C:\\Users\\Shan\\Documents\\GitHub\\\\compressiveSensing\\\\nodes.pkl')\n",
      "edges = pd.read_pickle('C:\\Users\\Shan\\Documents\\GitHub\\\\compressiveSensing\\edges.pkl')"
     ],
     "language": "python",
     "metadata": {},
     "outputs": [],
     "prompt_number": 90
    },
    {
     "cell_type": "code",
     "collapsed": false,
     "input": [
      "#\n",
      "# create graph\n",
      "#\n",
      "guid_1 = edges['GUID_1'].tolist()\n",
      "guid_2 = edges['GUID_2'].tolist()\n",
      "distance = edges['TCS'].tolist()\n",
      "\n",
      "guid_1 = [str(key) for key in guid_1]\n",
      "guid_2 = [str(key) for key in guid_2]\n",
      "distance = [(1 - float(key)) for key in distance]\n",
      "\n",
      "adj_list=[]\n",
      "for i in range(0,len(guid_1)):\n",
      "    adj_list.append(guid_1[i] + ' ' + guid_2[i] + ' ' + str(distance[i]))\n",
      "G = nx.parse_edgelist(adj_list, nodetype = str, data=(('weight',float),))"
     ],
     "language": "python",
     "metadata": {},
     "outputs": [],
     "prompt_number": 91
    },
    {
     "cell_type": "code",
     "collapsed": false,
     "input": [
      "#get the m << n measurements, choose m random vertices and put them into a list to iterate through later\n",
      "randomNodes = []\n",
      "\n",
      "# for i in range(0, numMeasurements):\n",
      "#     randomNodes.append(random.randint(1, len(nodes)))\n",
      "#     #I Have to check if they are in the connected component don't I???\n",
      "\n",
      "#\n",
      "# get random vertices from connected components\n",
      "#\n",
      "while(len(randomNodes) != numMeasurements):\n",
      "    #get random int\n",
      "    nodeNum = random.randint(1, len(nodes))\n",
      "    #check to see if its in the connected component by checking to see if the vertex is in the edge set\n",
      "    guid = nodes.loc[nodeNum]['GUID']\n",
      "    if (len(edges[(edges['GUID_1'] == guid) | (edges['GUID_2'] == guid)]) != 0):\n",
      "        #append number if so\n",
      "         randomNodes.append(nodeNum)\n",
      "            \n",
      "print randomNodes\n",
      "\n",
      "#check and make sure all random nodes are in the connected component\n",
      "for i in range(0,len(randomNodes)): \n",
      "    guid = nodes.loc[randomNodes[i]]['GUID']\n",
      "    tmp =  len(edges[(edges['GUID_1'] == guid) | (edges['GUID_2'] == guid)])\n",
      "    if(tmp == 0):\n",
      "        print str(randomNodes[i]) + '\\tNot in Conncected component'\n",
      "        \n",
      "\n"
     ],
     "language": "python",
     "metadata": {},
     "outputs": [
      {
       "output_type": "stream",
       "stream": "stdout",
       "text": [
        "[128290, 203618, 247502, 86769, 17385, 57895, 100497, 226325, 29489, 298509]\n"
       ]
      }
     ],
     "prompt_number": 92
    },
    {
     "cell_type": "code",
     "collapsed": false,
     "input": [
      "\n",
      "\n",
      "#\n",
      "# Use this function to get all nodes at a certain depth\n",
      "# Current level is initially 0 and starts at the randomly chosen vertex\n",
      "# the recursively go down if the current level is the depth append the node guid and return\n",
      "# else go through all the nodes possible neighbors and increment current level\n",
      "#\n",
      "def drillToDepth(node_guid, curr_level, depth, result):\n",
      "    if(curr_level == depth):\n",
      "        result.append(node_guid)\n",
      "    else:\n",
      "        for key in G[node_guid]:\n",
      "            drillToDepth (key, curr_level + 1, depth, result);\n",
      "\n"
     ],
     "language": "python",
     "metadata": {},
     "outputs": [],
     "prompt_number": 117
    },
    {
     "cell_type": "code",
     "collapsed": false,
     "input": [
      "#\n",
      "# Now need to obtain the measurements y_i for each randomly chosen node\n",
      "#\n",
      "\n",
      "y = [] #this is our y in y = Ax, each entry y_i a measurement sum\n",
      "A = []\n",
      "\n",
      "#iterate through all our random chosen nodes\n",
      "for i in range(0,len(randomNodes)): \n",
      "    #for each node get all the vertices that make the clique up to the depth \n",
      "    \n",
      "    nodesInClique = []\n",
      "    #get all nodes up to the tree depth\n",
      "    for d in range(0,treeDepth):\n",
      "        drillToDepth(nodes.loc[randomNodes[i]]['GUID'], 0, d, nodesInClique)\n",
      "\n",
      "    #now for each node in this clique find the shortest path\n",
      "    #get it's length and add it to a rolling sum\n",
      "\n",
      "    measurement_sum = 0\n",
      "    for n in nodesInClique:\n",
      "        try:\n",
      "            measurement_sum += len(nx.shortest_path(G,'SEED-1',n,weight='weight'))\n",
      "        except:\n",
      "            #no networkx path to seed-1\n",
      "            measurement_sum = 0\n",
      "    y.append(measurement_sum)\n",
      "    \n",
      "    #\n",
      "    # create the row of the A matrix, NOTE: I need a better way to do this I think\n",
      "    # otherwise this will be crazy slow\n",
      "    #\n",
      "    irow =[]\n",
      "    row_iterator = nodes.iterrows()\n",
      "    for i, row in row_iterator:\n",
      "        if row['GUID'] in nodesInClique:\n",
      "            irow.append(1)\n",
      "        else:\n",
      "            irow.append(0)\n",
      "    A.append(irow)\n"
     ],
     "language": "python",
     "metadata": {},
     "outputs": [],
     "prompt_number": 140
    },
    {
     "cell_type": "code",
     "collapsed": false,
     "input": [
      "print nodesInClique \n",
      "print y"
     ],
     "language": "python",
     "metadata": {},
     "outputs": [
      {
       "output_type": "stream",
       "stream": "stdout",
       "text": [
        "[u'WP-81b6992c-b9e9-4103-a7c4-2c9f15716ea0', 'HR-830e9747-4f37-4210-ba2b-cef3db4dc573', 'HR-09095e36-7bd8-48ee-b42b-aeed229c93c2', 'HR-2c92d958-0907-4753-b225-5e08d2426bfa']\n",
        "[0, 0, 117, 0, 35, 0, 0, 0, 9, 0]\n"
       ]
      }
     ],
     "prompt_number": 138
    },
    {
     "cell_type": "code",
     "collapsed": false,
     "input": [
      "# just checking there are actually 1's in this A matrix \n",
      "for k in A:\n",
      "    indices = [i for i, x in enumerate(k) if x == 1]\n",
      "    print indices\n"
     ],
     "language": "python",
     "metadata": {},
     "outputs": [
      {
       "output_type": "stream",
       "stream": "stdout",
       "text": [
        "[128290, 235379]\n",
        "[203618, 252972]\n",
        "[422, 879, 1761, 2894, 3974, 6655, 7495, 8865, 9163, 10763, 11243, 11274, 16188, 16561, 20349, 24949, 25099, 25779, 25931, 27383, 27874, 32086, 32694, 32978, 33338, 33670, 36226, 38203, 38821, 39180, 39965, 40675, 40767, 41329, 42440, 43444, 46389, 46804, 247472, 247502]"
       ]
      },
      {
       "output_type": "stream",
       "stream": "stdout",
       "text": [
        "\n",
        "[36971, 86769]\n",
        "[17385, 247474, 247495, 247515, 247541, 247542, 247543, 247553, 247555, 247556, 247558, 247577, 247579, 247587, 247590, 247596, 247598]"
       ]
      },
      {
       "output_type": "stream",
       "stream": "stdout",
       "text": [
        "\n",
        "[8582, 57895]\n",
        "[6551, 100497]"
       ]
      },
      {
       "output_type": "stream",
       "stream": "stdout",
       "text": [
        "\n",
        "[108633, 226325]\n",
        "[29489, 247526, 247527, 247576]"
       ]
      },
      {
       "output_type": "stream",
       "stream": "stdout",
       "text": [
        "\n",
        "[148329, 157602, 160370, 298509]\n"
       ]
      }
     ],
     "prompt_number": 154
    },
    {
     "cell_type": "code",
     "collapsed": false,
     "input": [
      "#write the y and A to spereate files\n",
      "import csv\n",
      "with open('C:\\Users\\Shan\\Documents\\GitHub\\\\compressiveSensing\\\\y_vector.csv', 'wb') as f:\n",
      "    writer = csv.writer(f)\n",
      "    writer.writerow(y)"
     ],
     "language": "python",
     "metadata": {},
     "outputs": [],
     "prompt_number": 158
    },
    {
     "cell_type": "code",
     "collapsed": false,
     "input": [
      "import csv\n",
      "with open('C:\\Users\\Shan\\Documents\\GitHub\\\\compressiveSensing\\\\A_matrix.csv', 'wb') as f:\n",
      "    writer = csv.writer(f)\n",
      "    writer.writerows(A)"
     ],
     "language": "python",
     "metadata": {},
     "outputs": [],
     "prompt_number": 157
    },
    {
     "cell_type": "code",
     "collapsed": false,
     "input": [],
     "language": "python",
     "metadata": {},
     "outputs": [],
     "prompt_number": 153
    },
    {
     "cell_type": "code",
     "collapsed": false,
     "input": [],
     "language": "python",
     "metadata": {},
     "outputs": [],
     "prompt_number": 153
    },
    {
     "cell_type": "raw",
     "metadata": {},
     "source": []
    },
    {
     "cell_type": "code",
     "collapsed": false,
     "input": [],
     "language": "python",
     "metadata": {},
     "outputs": []
    }
   ],
   "metadata": {}
  }
 ]
}