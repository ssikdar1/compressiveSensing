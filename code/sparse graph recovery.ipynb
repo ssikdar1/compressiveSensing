{
 "metadata": {
  "name": "",
  "signature": "sha256:99dc6e70840736237aa07b64cdad453c32b73d0ef885398198b636554d55b063"
 },
 "nbformat": 3,
 "nbformat_minor": 0,
 "worksheets": [
  {
   "cells": [
    {
     "cell_type": "code",
     "collapsed": false,
     "input": [
      "import pandas as pd\n",
      "import numpy as np\n",
      "import difflib\n",
      "import matplotlib.pyplot as plt\n",
      "import cPickle as pickle\n",
      "import networkx as nx\n",
      "import random"
     ],
     "language": "python",
     "metadata": {},
     "outputs": [],
     "prompt_number": 13
    },
    {
     "cell_type": "code",
     "collapsed": false,
     "input": [
      "#parameters\n",
      "numMeasurements = 100\n",
      "treeDepth = 3\n"
     ],
     "language": "python",
     "metadata": {},
     "outputs": [],
     "prompt_number": 14
    },
    {
     "cell_type": "code",
     "collapsed": false,
     "input": [
      "#load the node and edge data\n",
      "original_nodes = pd.read_pickle('C:\\Users\\Shan\\Documents\\GitHub\\\\compressiveSensing\\\\nodes.pkl')\n",
      "edges = pd.read_pickle('C:\\Users\\Shan\\Documents\\GitHub\\\\compressiveSensing\\edges.pkl')"
     ],
     "language": "python",
     "metadata": {},
     "outputs": [],
     "prompt_number": 15
    },
    {
     "cell_type": "code",
     "collapsed": false,
     "input": [
      "#\n",
      "# create the dataframes for a smaller node set to get a smaller A matrix\n",
      "#\n",
      "\n",
      "#get only the nodes that are in the edge set\n",
      "new = pd.merge(original_nodes,edges, left_on='GUID', right_on = 'GUID_1', how='right')\n",
      "new2 = pd.merge(original_nodes,edges, left_on='GUID', right_on = 'GUID_2', how='right')\n",
      "small_set = pd.merge(new,new2, on='GUID', how='outer')\n",
      "reducedNodes = pd.DataFrame({'count' : small_set.groupby( [\"GUID\"] ).size()}).reset_index()\n",
      "\n",
      "#get rid of all nodes of degree 1\n",
      "reducedNodes2 = reducedNodes[reducedNodes['count'] > 1]\n",
      "print len(reducedNodes)\n",
      "\n",
      "nodes = reducedNodes2.reset_index()\n",
      "nodes_list = nodes['GUID'].tolist()\n",
      "# reducedNodes['GUID']\n",
      "# reducedNodes[reducedNodes['GUID'].str.contains('SEED')]\n",
      "# reducedNodes.sort(columns='count',ascending=False)"
     ],
     "language": "python",
     "metadata": {},
     "outputs": [
      {
       "output_type": "stream",
       "stream": "stdout",
       "text": [
        "68986\n"
       ]
      }
     ],
     "prompt_number": 16
    },
    {
     "cell_type": "code",
     "collapsed": false,
     "input": [
      "edges_pruned = edges[edges['GUID_1'].isin(nodes['GUID'])]\n",
      "edges_pruned = edges_pruned[edges_pruned['GUID_2'].isin(nodes['GUID'])]\n",
      "print len(edges_pruned)\n",
      "print len(edges)\n",
      "edges_pruned\n"
     ],
     "language": "python",
     "metadata": {},
     "outputs": [
      {
       "output_type": "stream",
       "stream": "stdout",
       "text": [
        "23811\n",
        "58047\n"
       ]
      },
      {
       "html": [
        "<div style=\"max-height:1000px;max-width:1500px;overflow:auto;\">\n",
        "<table border=\"1\" class=\"dataframe\">\n",
        "  <thead>\n",
        "    <tr style=\"text-align: right;\">\n",
        "      <th></th>\n",
        "      <th>EDGE_ID</th>\n",
        "      <th>GUID_1</th>\n",
        "      <th>GUID_2</th>\n",
        "      <th>LastName_APS</th>\n",
        "      <th>MiddleName_APS</th>\n",
        "      <th>FirstName_APS</th>\n",
        "      <th>Street_APS</th>\n",
        "      <th>City_APS</th>\n",
        "      <th>State_APS</th>\n",
        "      <th>Zip_APS</th>\n",
        "      <th>Phone_APS</th>\n",
        "      <th>ID-DOC_APS</th>\n",
        "      <th>TCS</th>\n",
        "    </tr>\n",
        "  </thead>\n",
        "  <tbody>\n",
        "    <tr>\n",
        "      <th>0    </th>\n",
        "      <td>     Edge_1</td>\n",
        "      <td>                                    SEED-1</td>\n",
        "      <td> SRLU-2a5289eb-5406-4da3-941d-dcb19b3ca628</td>\n",
        "      <td> 0.000000</td>\n",
        "      <td> 0</td>\n",
        "      <td> 0.000000</td>\n",
        "      <td> 0.000000</td>\n",
        "      <td> 0</td>\n",
        "      <td> 0</td>\n",
        "      <td> 0</td>\n",
        "      <td> 1</td>\n",
        "      <td> 0</td>\n",
        "      <td> 0.714286</td>\n",
        "    </tr>\n",
        "    <tr>\n",
        "      <th>1    </th>\n",
        "      <td>     Edge_2</td>\n",
        "      <td>                                    SEED-1</td>\n",
        "      <td> SRLU-b46f584e-a4b0-4dcf-8d62-7b2d377651ca</td>\n",
        "      <td> 0.000000</td>\n",
        "      <td> 0</td>\n",
        "      <td> 0.000000</td>\n",
        "      <td> 0.000000</td>\n",
        "      <td> 0</td>\n",
        "      <td> 0</td>\n",
        "      <td> 0</td>\n",
        "      <td> 1</td>\n",
        "      <td> 0</td>\n",
        "      <td> 0.714286</td>\n",
        "    </tr>\n",
        "    <tr>\n",
        "      <th>2    </th>\n",
        "      <td>     Edge_3</td>\n",
        "      <td>                                    SEED-1</td>\n",
        "      <td> SRLU-1d7e29dc-448f-414a-bd52-1b800e1e89ca</td>\n",
        "      <td> 0.000000</td>\n",
        "      <td> 0</td>\n",
        "      <td> 0.000000</td>\n",
        "      <td> 0.000000</td>\n",
        "      <td> 0</td>\n",
        "      <td> 0</td>\n",
        "      <td> 0</td>\n",
        "      <td> 1</td>\n",
        "      <td> 0</td>\n",
        "      <td> 0.714286</td>\n",
        "    </tr>\n",
        "    <tr>\n",
        "      <th>3    </th>\n",
        "      <td>     Edge_4</td>\n",
        "      <td>                                    SEED-1</td>\n",
        "      <td> SRLU-ba7ffda1-deb3-4a01-a789-c60724f5193c</td>\n",
        "      <td> 0.000000</td>\n",
        "      <td> 0</td>\n",
        "      <td> 0.000000</td>\n",
        "      <td> 0.000000</td>\n",
        "      <td> 0</td>\n",
        "      <td> 0</td>\n",
        "      <td> 0</td>\n",
        "      <td> 1</td>\n",
        "      <td> 0</td>\n",
        "      <td> 0.714286</td>\n",
        "    </tr>\n",
        "    <tr>\n",
        "      <th>4    </th>\n",
        "      <td>     Edge_5</td>\n",
        "      <td>                                    SEED-1</td>\n",
        "      <td> SRLU-f442a34f-fe35-437f-9658-001be9b6d9dd</td>\n",
        "      <td> 0.000000</td>\n",
        "      <td> 0</td>\n",
        "      <td> 0.000000</td>\n",
        "      <td> 0.000000</td>\n",
        "      <td> 0</td>\n",
        "      <td> 0</td>\n",
        "      <td> 0</td>\n",
        "      <td> 1</td>\n",
        "      <td> 0</td>\n",
        "      <td> 0.714286</td>\n",
        "    </tr>\n",
        "    <tr>\n",
        "      <th>5    </th>\n",
        "      <td>     Edge_6</td>\n",
        "      <td>                                    SEED-1</td>\n",
        "      <td> SRLU-f31ebc0f-a760-419c-9097-aeb00bc6e3c5</td>\n",
        "      <td> 0.000000</td>\n",
        "      <td> 0</td>\n",
        "      <td> 0.000000</td>\n",
        "      <td> 0.000000</td>\n",
        "      <td> 0</td>\n",
        "      <td> 0</td>\n",
        "      <td> 0</td>\n",
        "      <td> 1</td>\n",
        "      <td> 0</td>\n",
        "      <td> 0.714286</td>\n",
        "    </tr>\n",
        "    <tr>\n",
        "      <th>6    </th>\n",
        "      <td>     Edge_7</td>\n",
        "      <td>                                    SEED-1</td>\n",
        "      <td> SRLU-48d78656-ffe6-4980-8fe7-6db33411cba0</td>\n",
        "      <td> 0.000000</td>\n",
        "      <td> 0</td>\n",
        "      <td> 0.000000</td>\n",
        "      <td> 0.000000</td>\n",
        "      <td> 0</td>\n",
        "      <td> 0</td>\n",
        "      <td> 0</td>\n",
        "      <td> 1</td>\n",
        "      <td> 0</td>\n",
        "      <td> 0.714286</td>\n",
        "    </tr>\n",
        "    <tr>\n",
        "      <th>7    </th>\n",
        "      <td>     Edge_8</td>\n",
        "      <td>                                    SEED-1</td>\n",
        "      <td> SRLU-4ba9dcc2-ad36-434a-865d-8cfaa5c173f2</td>\n",
        "      <td> 0.000000</td>\n",
        "      <td> 0</td>\n",
        "      <td> 0.000000</td>\n",
        "      <td> 0.000000</td>\n",
        "      <td> 0</td>\n",
        "      <td> 0</td>\n",
        "      <td> 0</td>\n",
        "      <td> 1</td>\n",
        "      <td> 0</td>\n",
        "      <td> 0.714286</td>\n",
        "    </tr>\n",
        "    <tr>\n",
        "      <th>8    </th>\n",
        "      <td>     Edge_9</td>\n",
        "      <td>                                    SEED-1</td>\n",
        "      <td> SRLU-75ad518a-421d-4d51-adb8-838188e25476</td>\n",
        "      <td> 0.000000</td>\n",
        "      <td> 0</td>\n",
        "      <td> 0.000000</td>\n",
        "      <td> 0.000000</td>\n",
        "      <td> 0</td>\n",
        "      <td> 0</td>\n",
        "      <td> 0</td>\n",
        "      <td> 1</td>\n",
        "      <td> 0</td>\n",
        "      <td> 0.714286</td>\n",
        "    </tr>\n",
        "    <tr>\n",
        "      <th>9    </th>\n",
        "      <td>    Edge_10</td>\n",
        "      <td>                                    SEED-1</td>\n",
        "      <td> SRLU-f5c4ba25-dd2b-499a-bb6b-3a88e87e818f</td>\n",
        "      <td> 0.000000</td>\n",
        "      <td> 0</td>\n",
        "      <td> 0.000000</td>\n",
        "      <td> 0.000000</td>\n",
        "      <td> 0</td>\n",
        "      <td> 0</td>\n",
        "      <td> 0</td>\n",
        "      <td> 1</td>\n",
        "      <td> 0</td>\n",
        "      <td> 0.714286</td>\n",
        "    </tr>\n",
        "    <tr>\n",
        "      <th>10   </th>\n",
        "      <td>    Edge_11</td>\n",
        "      <td>                                    SEED-1</td>\n",
        "      <td> SRLU-fb55d529-9460-4ef7-ba52-dfba5fb0dfd0</td>\n",
        "      <td> 0.000000</td>\n",
        "      <td> 0</td>\n",
        "      <td> 0.000000</td>\n",
        "      <td> 0.000000</td>\n",
        "      <td> 0</td>\n",
        "      <td> 0</td>\n",
        "      <td> 0</td>\n",
        "      <td> 1</td>\n",
        "      <td> 0</td>\n",
        "      <td> 0.714286</td>\n",
        "    </tr>\n",
        "    <tr>\n",
        "      <th>11   </th>\n",
        "      <td>    Edge_12</td>\n",
        "      <td>                                    SEED-1</td>\n",
        "      <td> SRLU-1fa2e3bf-a3e3-485e-a7ae-24d2b6f04728</td>\n",
        "      <td> 0.000000</td>\n",
        "      <td> 0</td>\n",
        "      <td> 0.000000</td>\n",
        "      <td> 0.000000</td>\n",
        "      <td> 0</td>\n",
        "      <td> 0</td>\n",
        "      <td> 0</td>\n",
        "      <td> 1</td>\n",
        "      <td> 0</td>\n",
        "      <td> 0.714286</td>\n",
        "    </tr>\n",
        "    <tr>\n",
        "      <th>12   </th>\n",
        "      <td>    Edge_13</td>\n",
        "      <td>                                    SEED-1</td>\n",
        "      <td> SRLU-0bba8d3b-281f-485f-b855-bfd63589f596</td>\n",
        "      <td> 0.000000</td>\n",
        "      <td> 0</td>\n",
        "      <td> 0.000000</td>\n",
        "      <td> 0.000000</td>\n",
        "      <td> 0</td>\n",
        "      <td> 0</td>\n",
        "      <td> 0</td>\n",
        "      <td> 1</td>\n",
        "      <td> 0</td>\n",
        "      <td> 0.714286</td>\n",
        "    </tr>\n",
        "    <tr>\n",
        "      <th>13   </th>\n",
        "      <td>    Edge_14</td>\n",
        "      <td>                                    SEED-1</td>\n",
        "      <td> SRLU-b072dd94-2b8a-4c28-a52d-fa77d8cd56a0</td>\n",
        "      <td> 0.000000</td>\n",
        "      <td> 0</td>\n",
        "      <td> 0.000000</td>\n",
        "      <td> 0.000000</td>\n",
        "      <td> 0</td>\n",
        "      <td> 0</td>\n",
        "      <td> 0</td>\n",
        "      <td> 1</td>\n",
        "      <td> 0</td>\n",
        "      <td> 0.714286</td>\n",
        "    </tr>\n",
        "    <tr>\n",
        "      <th>14   </th>\n",
        "      <td>    Edge_15</td>\n",
        "      <td>                                    SEED-1</td>\n",
        "      <td> SRLU-2028b038-e0bf-44f8-a9c7-9423a5c2d6c1</td>\n",
        "      <td> 0.000000</td>\n",
        "      <td> 0</td>\n",
        "      <td> 0.000000</td>\n",
        "      <td> 0.000000</td>\n",
        "      <td> 0</td>\n",
        "      <td> 0</td>\n",
        "      <td> 0</td>\n",
        "      <td> 1</td>\n",
        "      <td> 0</td>\n",
        "      <td> 0.714286</td>\n",
        "    </tr>\n",
        "    <tr>\n",
        "      <th>15   </th>\n",
        "      <td>    Edge_16</td>\n",
        "      <td>                                    SEED-1</td>\n",
        "      <td> SRLU-861fc3ea-e53b-477c-a635-4c4367ed0f9f</td>\n",
        "      <td> 0.000000</td>\n",
        "      <td> 0</td>\n",
        "      <td> 0.000000</td>\n",
        "      <td> 0.000000</td>\n",
        "      <td> 0</td>\n",
        "      <td> 0</td>\n",
        "      <td> 0</td>\n",
        "      <td> 1</td>\n",
        "      <td> 0</td>\n",
        "      <td> 0.714286</td>\n",
        "    </tr>\n",
        "    <tr>\n",
        "      <th>16   </th>\n",
        "      <td>    Edge_17</td>\n",
        "      <td>                                    SEED-1</td>\n",
        "      <td> SRLU-c028a607-cc60-42b1-9467-071ed71636a0</td>\n",
        "      <td> 0.000000</td>\n",
        "      <td> 0</td>\n",
        "      <td> 0.000000</td>\n",
        "      <td> 0.000000</td>\n",
        "      <td> 0</td>\n",
        "      <td> 0</td>\n",
        "      <td> 0</td>\n",
        "      <td> 1</td>\n",
        "      <td> 0</td>\n",
        "      <td> 0.714286</td>\n",
        "    </tr>\n",
        "    <tr>\n",
        "      <th>17   </th>\n",
        "      <td>    Edge_18</td>\n",
        "      <td>                                    SEED-1</td>\n",
        "      <td> SRLU-1b141f22-5ab4-496d-9d69-acb2560605e1</td>\n",
        "      <td> 0.000000</td>\n",
        "      <td> 0</td>\n",
        "      <td> 0.000000</td>\n",
        "      <td> 0.000000</td>\n",
        "      <td> 0</td>\n",
        "      <td> 0</td>\n",
        "      <td> 0</td>\n",
        "      <td> 1</td>\n",
        "      <td> 0</td>\n",
        "      <td> 0.714286</td>\n",
        "    </tr>\n",
        "    <tr>\n",
        "      <th>18   </th>\n",
        "      <td>    Edge_19</td>\n",
        "      <td>                                    SEED-1</td>\n",
        "      <td> SRLU-da07614a-01bc-4918-b542-e88007337cca</td>\n",
        "      <td> 0.000000</td>\n",
        "      <td> 0</td>\n",
        "      <td> 0.000000</td>\n",
        "      <td> 0.000000</td>\n",
        "      <td> 0</td>\n",
        "      <td> 0</td>\n",
        "      <td> 0</td>\n",
        "      <td> 1</td>\n",
        "      <td> 0</td>\n",
        "      <td> 0.714286</td>\n",
        "    </tr>\n",
        "    <tr>\n",
        "      <th>19   </th>\n",
        "      <td>    Edge_20</td>\n",
        "      <td>                                    SEED-1</td>\n",
        "      <td> SRLU-74353c40-9ba0-46ff-85c4-1f2f2473ec44</td>\n",
        "      <td> 0.000000</td>\n",
        "      <td> 0</td>\n",
        "      <td> 0.000000</td>\n",
        "      <td> 0.000000</td>\n",
        "      <td> 0</td>\n",
        "      <td> 0</td>\n",
        "      <td> 0</td>\n",
        "      <td> 1</td>\n",
        "      <td> 0</td>\n",
        "      <td> 0.714286</td>\n",
        "    </tr>\n",
        "    <tr>\n",
        "      <th>20   </th>\n",
        "      <td>    Edge_21</td>\n",
        "      <td>                                    SEED-1</td>\n",
        "      <td> SRLU-0722366a-f8ff-4429-afae-7e57a74b8a74</td>\n",
        "      <td> 0.000000</td>\n",
        "      <td> 0</td>\n",
        "      <td> 0.000000</td>\n",
        "      <td> 0.000000</td>\n",
        "      <td> 0</td>\n",
        "      <td> 0</td>\n",
        "      <td> 0</td>\n",
        "      <td> 1</td>\n",
        "      <td> 0</td>\n",
        "      <td> 0.714286</td>\n",
        "    </tr>\n",
        "    <tr>\n",
        "      <th>21   </th>\n",
        "      <td>    Edge_22</td>\n",
        "      <td>                                    SEED-1</td>\n",
        "      <td> SRLU-8575b2c5-b50b-4ace-8c75-88d9d5518802</td>\n",
        "      <td> 0.000000</td>\n",
        "      <td> 0</td>\n",
        "      <td> 0.000000</td>\n",
        "      <td> 0.000000</td>\n",
        "      <td> 0</td>\n",
        "      <td> 0</td>\n",
        "      <td> 0</td>\n",
        "      <td> 1</td>\n",
        "      <td> 0</td>\n",
        "      <td> 0.714286</td>\n",
        "    </tr>\n",
        "    <tr>\n",
        "      <th>22   </th>\n",
        "      <td>    Edge_23</td>\n",
        "      <td>                                    SEED-1</td>\n",
        "      <td> SRLU-eba54968-69e0-457c-88f1-971ffb8b588e</td>\n",
        "      <td> 0.000000</td>\n",
        "      <td> 0</td>\n",
        "      <td> 0.000000</td>\n",
        "      <td> 0.000000</td>\n",
        "      <td> 0</td>\n",
        "      <td> 0</td>\n",
        "      <td> 0</td>\n",
        "      <td> 1</td>\n",
        "      <td> 0</td>\n",
        "      <td> 0.714286</td>\n",
        "    </tr>\n",
        "    <tr>\n",
        "      <th>23   </th>\n",
        "      <td>    Edge_24</td>\n",
        "      <td>                                    SEED-1</td>\n",
        "      <td> SRLU-373543b3-5a3f-46d8-ac5d-3d9c62dc4f45</td>\n",
        "      <td> 0.000000</td>\n",
        "      <td> 0</td>\n",
        "      <td> 0.000000</td>\n",
        "      <td> 0.000000</td>\n",
        "      <td> 0</td>\n",
        "      <td> 0</td>\n",
        "      <td> 0</td>\n",
        "      <td> 1</td>\n",
        "      <td> 0</td>\n",
        "      <td> 0.714286</td>\n",
        "    </tr>\n",
        "    <tr>\n",
        "      <th>24   </th>\n",
        "      <td>    Edge_25</td>\n",
        "      <td>                                    SEED-1</td>\n",
        "      <td> SRLU-acfed352-571e-4d86-8797-e06bbef82174</td>\n",
        "      <td> 0.000000</td>\n",
        "      <td> 0</td>\n",
        "      <td> 0.000000</td>\n",
        "      <td> 0.000000</td>\n",
        "      <td> 0</td>\n",
        "      <td> 0</td>\n",
        "      <td> 0</td>\n",
        "      <td> 1</td>\n",
        "      <td> 0</td>\n",
        "      <td> 0.714286</td>\n",
        "    </tr>\n",
        "    <tr>\n",
        "      <th>25   </th>\n",
        "      <td>    Edge_26</td>\n",
        "      <td>                                    SEED-1</td>\n",
        "      <td> SRLU-0d1d1c47-b636-4976-a7ff-b588054831a7</td>\n",
        "      <td> 0.000000</td>\n",
        "      <td> 0</td>\n",
        "      <td> 0.000000</td>\n",
        "      <td> 0.000000</td>\n",
        "      <td> 0</td>\n",
        "      <td> 0</td>\n",
        "      <td> 0</td>\n",
        "      <td> 1</td>\n",
        "      <td> 0</td>\n",
        "      <td> 0.714286</td>\n",
        "    </tr>\n",
        "    <tr>\n",
        "      <th>26   </th>\n",
        "      <td>    Edge_27</td>\n",
        "      <td>                                    SEED-1</td>\n",
        "      <td> SRLU-b2af4b9b-1f21-4062-b35a-02119cf9f84a</td>\n",
        "      <td> 0.000000</td>\n",
        "      <td> 0</td>\n",
        "      <td> 0.000000</td>\n",
        "      <td> 0.000000</td>\n",
        "      <td> 0</td>\n",
        "      <td> 0</td>\n",
        "      <td> 0</td>\n",
        "      <td> 1</td>\n",
        "      <td> 0</td>\n",
        "      <td> 0.714286</td>\n",
        "    </tr>\n",
        "    <tr>\n",
        "      <th>27   </th>\n",
        "      <td>    Edge_28</td>\n",
        "      <td>                                    SEED-1</td>\n",
        "      <td> SRLU-3221c550-4da9-45fc-916f-1309ccda0b15</td>\n",
        "      <td> 0.000000</td>\n",
        "      <td> 0</td>\n",
        "      <td> 0.000000</td>\n",
        "      <td> 0.000000</td>\n",
        "      <td> 0</td>\n",
        "      <td> 0</td>\n",
        "      <td> 0</td>\n",
        "      <td> 1</td>\n",
        "      <td> 0</td>\n",
        "      <td> 0.714286</td>\n",
        "    </tr>\n",
        "    <tr>\n",
        "      <th>28   </th>\n",
        "      <td>    Edge_29</td>\n",
        "      <td>                                    SEED-1</td>\n",
        "      <td> SRLU-6b735a32-7a6f-4448-bc48-7126f87af0f8</td>\n",
        "      <td> 0.000000</td>\n",
        "      <td> 0</td>\n",
        "      <td> 0.000000</td>\n",
        "      <td> 0.000000</td>\n",
        "      <td> 0</td>\n",
        "      <td> 0</td>\n",
        "      <td> 0</td>\n",
        "      <td> 1</td>\n",
        "      <td> 0</td>\n",
        "      <td> 0.714286</td>\n",
        "    </tr>\n",
        "    <tr>\n",
        "      <th>29   </th>\n",
        "      <td>    Edge_30</td>\n",
        "      <td>                                    SEED-1</td>\n",
        "      <td> SRLU-631b3946-4e66-4b08-8060-b4948c47292e</td>\n",
        "      <td> 0.000000</td>\n",
        "      <td> 0</td>\n",
        "      <td> 0.000000</td>\n",
        "      <td> 0.000000</td>\n",
        "      <td> 0</td>\n",
        "      <td> 0</td>\n",
        "      <td> 0</td>\n",
        "      <td> 1</td>\n",
        "      <td> 0</td>\n",
        "      <td> 0.714286</td>\n",
        "    </tr>\n",
        "    <tr>\n",
        "      <th>...</th>\n",
        "      <td>...</td>\n",
        "      <td>...</td>\n",
        "      <td>...</td>\n",
        "      <td>...</td>\n",
        "      <td>...</td>\n",
        "      <td>...</td>\n",
        "      <td>...</td>\n",
        "      <td>...</td>\n",
        "      <td>...</td>\n",
        "      <td>...</td>\n",
        "      <td>...</td>\n",
        "      <td>...</td>\n",
        "      <td>...</td>\n",
        "    </tr>\n",
        "    <tr>\n",
        "      <th>57977</th>\n",
        "      <td> Edge_57978</td>\n",
        "      <td>   HR-8b5a6062-6e23-46c4-b9e7-90ca3db97f58</td>\n",
        "      <td>   WP-3a78c7b6-2484-41f1-a04f-eabe390de16b</td>\n",
        "      <td> 0.430556</td>\n",
        "      <td> 0</td>\n",
        "      <td> 0.436508</td>\n",
        "      <td> 0.750000</td>\n",
        "      <td> 1</td>\n",
        "      <td> 1</td>\n",
        "      <td> 1</td>\n",
        "      <td> 0</td>\n",
        "      <td> 0</td>\n",
        "      <td> 0.937500</td>\n",
        "    </tr>\n",
        "    <tr>\n",
        "      <th>57978</th>\n",
        "      <td> Edge_57979</td>\n",
        "      <td>   HR-bafdd6a2-3ff2-4833-8dd7-6540f96dd664</td>\n",
        "      <td>   WP-3a78c7b6-2484-41f1-a04f-eabe390de16b</td>\n",
        "      <td> 0.436508</td>\n",
        "      <td> 0</td>\n",
        "      <td> 0.422619</td>\n",
        "      <td> 0.750000</td>\n",
        "      <td> 1</td>\n",
        "      <td> 1</td>\n",
        "      <td> 1</td>\n",
        "      <td> 0</td>\n",
        "      <td> 0</td>\n",
        "      <td> 0.937500</td>\n",
        "    </tr>\n",
        "    <tr>\n",
        "      <th>57979</th>\n",
        "      <td> Edge_57980</td>\n",
        "      <td>   HR-42421e1e-9f6d-4b3a-a120-a03a313deb72</td>\n",
        "      <td>   WP-3a78c7b6-2484-41f1-a04f-eabe390de16b</td>\n",
        "      <td> 0.436508</td>\n",
        "      <td> 0</td>\n",
        "      <td> 0.436508</td>\n",
        "      <td> 0.750000</td>\n",
        "      <td> 1</td>\n",
        "      <td> 1</td>\n",
        "      <td> 1</td>\n",
        "      <td> 0</td>\n",
        "      <td> 0</td>\n",
        "      <td> 0.937500</td>\n",
        "    </tr>\n",
        "    <tr>\n",
        "      <th>57980</th>\n",
        "      <td> Edge_57981</td>\n",
        "      <td>   HR-6ad7d798-2ee9-46b3-9361-ad487717e419</td>\n",
        "      <td>   WP-3a78c7b6-2484-41f1-a04f-eabe390de16b</td>\n",
        "      <td> 0.422222</td>\n",
        "      <td> 0</td>\n",
        "      <td> 0.464286</td>\n",
        "      <td> 0.750000</td>\n",
        "      <td> 1</td>\n",
        "      <td> 1</td>\n",
        "      <td> 1</td>\n",
        "      <td> 0</td>\n",
        "      <td> 0</td>\n",
        "      <td> 0.937500</td>\n",
        "    </tr>\n",
        "    <tr>\n",
        "      <th>57981</th>\n",
        "      <td> Edge_57982</td>\n",
        "      <td>   HR-1e1706ca-ab14-4a86-85ed-a15c976e1c77</td>\n",
        "      <td>   WP-3a78c7b6-2484-41f1-a04f-eabe390de16b</td>\n",
        "      <td> 0.460317</td>\n",
        "      <td> 0</td>\n",
        "      <td> 0.561905</td>\n",
        "      <td> 0.800000</td>\n",
        "      <td> 1</td>\n",
        "      <td> 1</td>\n",
        "      <td> 1</td>\n",
        "      <td> 0</td>\n",
        "      <td> 0</td>\n",
        "      <td> 0.950000</td>\n",
        "    </tr>\n",
        "    <tr>\n",
        "      <th>57982</th>\n",
        "      <td> Edge_57983</td>\n",
        "      <td>   HR-adf8475e-6485-4c97-b6e5-ad6850c44af6</td>\n",
        "      <td>   WP-3a78c7b6-2484-41f1-a04f-eabe390de16b</td>\n",
        "      <td> 0.422222</td>\n",
        "      <td> 0</td>\n",
        "      <td> 0.511905</td>\n",
        "      <td> 0.750000</td>\n",
        "      <td> 1</td>\n",
        "      <td> 1</td>\n",
        "      <td> 1</td>\n",
        "      <td> 0</td>\n",
        "      <td> 0</td>\n",
        "      <td> 0.937500</td>\n",
        "    </tr>\n",
        "    <tr>\n",
        "      <th>57983</th>\n",
        "      <td> Edge_57984</td>\n",
        "      <td>   HR-1252a3a9-13b0-4adf-bc75-371b97323530</td>\n",
        "      <td>   WP-3a78c7b6-2484-41f1-a04f-eabe390de16b</td>\n",
        "      <td> 0.000000</td>\n",
        "      <td> 0</td>\n",
        "      <td> 0.523810</td>\n",
        "      <td> 0.750000</td>\n",
        "      <td> 1</td>\n",
        "      <td> 1</td>\n",
        "      <td> 1</td>\n",
        "      <td> 0</td>\n",
        "      <td> 0</td>\n",
        "      <td> 0.937500</td>\n",
        "    </tr>\n",
        "    <tr>\n",
        "      <th>57986</th>\n",
        "      <td> Edge_57987</td>\n",
        "      <td>   HR-3a362323-7ac9-4635-82ca-55932e1ffd6e</td>\n",
        "      <td>   WP-e11be4ae-c0f8-4d46-b759-f57068376aa5</td>\n",
        "      <td> 0.605556</td>\n",
        "      <td> 0</td>\n",
        "      <td> 0.683333</td>\n",
        "      <td> 0.761905</td>\n",
        "      <td> 1</td>\n",
        "      <td> 1</td>\n",
        "      <td> 1</td>\n",
        "      <td> 0</td>\n",
        "      <td> 0</td>\n",
        "      <td> 0.940476</td>\n",
        "    </tr>\n",
        "    <tr>\n",
        "      <th>57987</th>\n",
        "      <td> Edge_57988</td>\n",
        "      <td>   HR-e68a8799-c630-4413-ad2e-f32646b58a0d</td>\n",
        "      <td>   WP-e11be4ae-c0f8-4d46-b759-f57068376aa5</td>\n",
        "      <td> 0.666667</td>\n",
        "      <td> 0</td>\n",
        "      <td> 0.000000</td>\n",
        "      <td> 0.761905</td>\n",
        "      <td> 1</td>\n",
        "      <td> 1</td>\n",
        "      <td> 1</td>\n",
        "      <td> 0</td>\n",
        "      <td> 0</td>\n",
        "      <td> 0.940476</td>\n",
        "    </tr>\n",
        "    <tr>\n",
        "      <th>57988</th>\n",
        "      <td> Edge_57989</td>\n",
        "      <td>   HR-6cfc19b9-804a-4c51-aa7f-3845d47faa4d</td>\n",
        "      <td>   WP-e11be4ae-c0f8-4d46-b759-f57068376aa5</td>\n",
        "      <td> 0.000000</td>\n",
        "      <td> 0</td>\n",
        "      <td> 0.550000</td>\n",
        "      <td> 0.761905</td>\n",
        "      <td> 1</td>\n",
        "      <td> 1</td>\n",
        "      <td> 1</td>\n",
        "      <td> 0</td>\n",
        "      <td> 0</td>\n",
        "      <td> 0.940476</td>\n",
        "    </tr>\n",
        "    <tr>\n",
        "      <th>57993</th>\n",
        "      <td> Edge_57994</td>\n",
        "      <td>   HR-17d05cea-9a6d-453f-81fe-c2108fd02255</td>\n",
        "      <td>   WP-df165a38-4010-4de2-8799-2f1971e1c227</td>\n",
        "      <td> 0.412037</td>\n",
        "      <td> 0</td>\n",
        "      <td> 0.000000</td>\n",
        "      <td> 0.736842</td>\n",
        "      <td> 1</td>\n",
        "      <td> 1</td>\n",
        "      <td> 1</td>\n",
        "      <td> 0</td>\n",
        "      <td> 0</td>\n",
        "      <td> 0.934211</td>\n",
        "    </tr>\n",
        "    <tr>\n",
        "      <th>57994</th>\n",
        "      <td> Edge_57995</td>\n",
        "      <td>   HR-d8962d81-2b6d-419e-8534-90e6a2004e80</td>\n",
        "      <td>   WP-df165a38-4010-4de2-8799-2f1971e1c227</td>\n",
        "      <td> 0.483333</td>\n",
        "      <td> 0</td>\n",
        "      <td> 0.000000</td>\n",
        "      <td> 0.736842</td>\n",
        "      <td> 1</td>\n",
        "      <td> 1</td>\n",
        "      <td> 1</td>\n",
        "      <td> 0</td>\n",
        "      <td> 0</td>\n",
        "      <td> 0.934211</td>\n",
        "    </tr>\n",
        "    <tr>\n",
        "      <th>57995</th>\n",
        "      <td> Edge_57996</td>\n",
        "      <td>   HR-27325b9e-7729-44ba-8567-0b5d6832117b</td>\n",
        "      <td>   WP-df165a38-4010-4de2-8799-2f1971e1c227</td>\n",
        "      <td> 0.000000</td>\n",
        "      <td> 0</td>\n",
        "      <td> 0.437037</td>\n",
        "      <td> 0.736842</td>\n",
        "      <td> 1</td>\n",
        "      <td> 1</td>\n",
        "      <td> 1</td>\n",
        "      <td> 0</td>\n",
        "      <td> 0</td>\n",
        "      <td> 0.934211</td>\n",
        "    </tr>\n",
        "    <tr>\n",
        "      <th>57996</th>\n",
        "      <td> Edge_57997</td>\n",
        "      <td>   HR-78faf70e-2bbe-48dc-b020-b9bb1419555d</td>\n",
        "      <td>   WP-df165a38-4010-4de2-8799-2f1971e1c227</td>\n",
        "      <td> 0.430556</td>\n",
        "      <td> 0</td>\n",
        "      <td> 0.000000</td>\n",
        "      <td> 0.736842</td>\n",
        "      <td> 1</td>\n",
        "      <td> 1</td>\n",
        "      <td> 1</td>\n",
        "      <td> 0</td>\n",
        "      <td> 0</td>\n",
        "      <td> 0.934211</td>\n",
        "    </tr>\n",
        "    <tr>\n",
        "      <th>57997</th>\n",
        "      <td> Edge_57998</td>\n",
        "      <td>   HR-38ff18c4-8165-452b-9761-ef5360bc2ef4</td>\n",
        "      <td>   WP-df165a38-4010-4de2-8799-2f1971e1c227</td>\n",
        "      <td> 0.458333</td>\n",
        "      <td> 0</td>\n",
        "      <td> 0.561905</td>\n",
        "      <td> 0.789474</td>\n",
        "      <td> 1</td>\n",
        "      <td> 1</td>\n",
        "      <td> 1</td>\n",
        "      <td> 0</td>\n",
        "      <td> 0</td>\n",
        "      <td> 0.947368</td>\n",
        "    </tr>\n",
        "    <tr>\n",
        "      <th>57998</th>\n",
        "      <td> Edge_57999</td>\n",
        "      <td>   HR-e9bd91ed-89cb-4981-aa3a-86d2395d809c</td>\n",
        "      <td>   WP-df165a38-4010-4de2-8799-2f1971e1c227</td>\n",
        "      <td> 0.601190</td>\n",
        "      <td> 0</td>\n",
        "      <td> 0.000000</td>\n",
        "      <td> 0.736842</td>\n",
        "      <td> 1</td>\n",
        "      <td> 1</td>\n",
        "      <td> 1</td>\n",
        "      <td> 0</td>\n",
        "      <td> 0</td>\n",
        "      <td> 0.934211</td>\n",
        "    </tr>\n",
        "    <tr>\n",
        "      <th>58006</th>\n",
        "      <td> Edge_58007</td>\n",
        "      <td>   HR-526f6b35-0d16-4a9e-aab6-8caa197ccccd</td>\n",
        "      <td>   WP-a9af7613-ed36-4d6a-8a62-67bf442207e7</td>\n",
        "      <td> 0.726852</td>\n",
        "      <td> 0</td>\n",
        "      <td> 0.683333</td>\n",
        "      <td> 0.826087</td>\n",
        "      <td> 1</td>\n",
        "      <td> 1</td>\n",
        "      <td> 1</td>\n",
        "      <td> 0</td>\n",
        "      <td> 0</td>\n",
        "      <td> 0.956522</td>\n",
        "    </tr>\n",
        "    <tr>\n",
        "      <th>58007</th>\n",
        "      <td> Edge_58008</td>\n",
        "      <td>   HR-709f1a2f-fe9a-4854-9bb9-33e248aa46e2</td>\n",
        "      <td>   WP-a9af7613-ed36-4d6a-8a62-67bf442207e7</td>\n",
        "      <td> 0.000000</td>\n",
        "      <td> 0</td>\n",
        "      <td> 0.412037</td>\n",
        "      <td> 0.826087</td>\n",
        "      <td> 1</td>\n",
        "      <td> 1</td>\n",
        "      <td> 1</td>\n",
        "      <td> 0</td>\n",
        "      <td> 0</td>\n",
        "      <td> 0.956522</td>\n",
        "    </tr>\n",
        "    <tr>\n",
        "      <th>58008</th>\n",
        "      <td> Edge_58009</td>\n",
        "      <td>   HR-e190e157-16ff-479a-b28a-ed1d85dba87d</td>\n",
        "      <td>   WP-e0dc89c6-dc95-4ed1-89fc-63f3adacca45</td>\n",
        "      <td> 0.000000</td>\n",
        "      <td> 0</td>\n",
        "      <td> 0.511905</td>\n",
        "      <td> 0.827586</td>\n",
        "      <td> 1</td>\n",
        "      <td> 1</td>\n",
        "      <td> 1</td>\n",
        "      <td> 0</td>\n",
        "      <td> 0</td>\n",
        "      <td> 0.956897</td>\n",
        "    </tr>\n",
        "    <tr>\n",
        "      <th>58009</th>\n",
        "      <td> Edge_58010</td>\n",
        "      <td>   HR-3f92d357-39d2-4aad-bbb1-04b778348ba7</td>\n",
        "      <td>   WP-e0dc89c6-dc95-4ed1-89fc-63f3adacca45</td>\n",
        "      <td> 0.700000</td>\n",
        "      <td> 0</td>\n",
        "      <td> 0.511905</td>\n",
        "      <td> 0.827586</td>\n",
        "      <td> 1</td>\n",
        "      <td> 1</td>\n",
        "      <td> 1</td>\n",
        "      <td> 0</td>\n",
        "      <td> 0</td>\n",
        "      <td> 0.956897</td>\n",
        "    </tr>\n",
        "    <tr>\n",
        "      <th>58011</th>\n",
        "      <td> Edge_58012</td>\n",
        "      <td>   HR-99085816-70bd-415f-a528-bf5b8a770ba4</td>\n",
        "      <td>   WP-9534fd94-9673-4115-bce6-e471c5042e01</td>\n",
        "      <td> 0.616667</td>\n",
        "      <td> 0</td>\n",
        "      <td> 0.619048</td>\n",
        "      <td> 0.761905</td>\n",
        "      <td> 1</td>\n",
        "      <td> 1</td>\n",
        "      <td> 1</td>\n",
        "      <td> 0</td>\n",
        "      <td> 0</td>\n",
        "      <td> 0.940476</td>\n",
        "    </tr>\n",
        "    <tr>\n",
        "      <th>58012</th>\n",
        "      <td> Edge_58013</td>\n",
        "      <td>   HR-0f630c94-6250-4a45-8379-2350632221d7</td>\n",
        "      <td>   WP-9534fd94-9673-4115-bce6-e471c5042e01</td>\n",
        "      <td> 0.328571</td>\n",
        "      <td> 0</td>\n",
        "      <td> 0.000000</td>\n",
        "      <td> 0.761905</td>\n",
        "      <td> 1</td>\n",
        "      <td> 1</td>\n",
        "      <td> 1</td>\n",
        "      <td> 0</td>\n",
        "      <td> 0</td>\n",
        "      <td> 0.940476</td>\n",
        "    </tr>\n",
        "    <tr>\n",
        "      <th>58013</th>\n",
        "      <td> Edge_58014</td>\n",
        "      <td>   HR-b91bbb92-0d92-4b3e-b48d-2adbdf43c767</td>\n",
        "      <td>   WP-22d930cf-d34c-4662-b8ca-579b3744fc4e</td>\n",
        "      <td> 0.424242</td>\n",
        "      <td> 0</td>\n",
        "      <td> 0.458333</td>\n",
        "      <td> 0.761905</td>\n",
        "      <td> 1</td>\n",
        "      <td> 1</td>\n",
        "      <td> 1</td>\n",
        "      <td> 0</td>\n",
        "      <td> 0</td>\n",
        "      <td> 0.940476</td>\n",
        "    </tr>\n",
        "    <tr>\n",
        "      <th>58014</th>\n",
        "      <td> Edge_58015</td>\n",
        "      <td>   HR-93743dfe-a51c-4fe2-bf18-e17ac50b9b19</td>\n",
        "      <td>   WP-22d930cf-d34c-4662-b8ca-579b3744fc4e</td>\n",
        "      <td> 0.519360</td>\n",
        "      <td> 0</td>\n",
        "      <td> 0.453704</td>\n",
        "      <td> 0.761905</td>\n",
        "      <td> 1</td>\n",
        "      <td> 1</td>\n",
        "      <td> 1</td>\n",
        "      <td> 0</td>\n",
        "      <td> 0</td>\n",
        "      <td> 0.940476</td>\n",
        "    </tr>\n",
        "    <tr>\n",
        "      <th>58017</th>\n",
        "      <td> Edge_58018</td>\n",
        "      <td>   HR-58b74eac-275d-43aa-aaa4-d9deb607de7d</td>\n",
        "      <td>   WP-98fd6cb3-da44-4f53-86a7-bf1cc237cc6c</td>\n",
        "      <td> 0.455556</td>\n",
        "      <td> 0</td>\n",
        "      <td> 0.428571</td>\n",
        "      <td> 0.809524</td>\n",
        "      <td> 1</td>\n",
        "      <td> 1</td>\n",
        "      <td> 1</td>\n",
        "      <td> 0</td>\n",
        "      <td> 0</td>\n",
        "      <td> 0.952381</td>\n",
        "    </tr>\n",
        "    <tr>\n",
        "      <th>58018</th>\n",
        "      <td> Edge_58019</td>\n",
        "      <td>   HR-33e62213-6059-4865-b4b1-005e34047830</td>\n",
        "      <td>   WP-98fd6cb3-da44-4f53-86a7-bf1cc237cc6c</td>\n",
        "      <td> 0.633333</td>\n",
        "      <td> 0</td>\n",
        "      <td> 0.476190</td>\n",
        "      <td> 0.761905</td>\n",
        "      <td> 1</td>\n",
        "      <td> 1</td>\n",
        "      <td> 1</td>\n",
        "      <td> 0</td>\n",
        "      <td> 0</td>\n",
        "      <td> 0.940476</td>\n",
        "    </tr>\n",
        "    <tr>\n",
        "      <th>58019</th>\n",
        "      <td> Edge_58020</td>\n",
        "      <td>   HR-85ddd498-d78d-4ec3-8a5e-088191beb4be</td>\n",
        "      <td>   WP-98fd6cb3-da44-4f53-86a7-bf1cc237cc6c</td>\n",
        "      <td> 0.455556</td>\n",
        "      <td> 0</td>\n",
        "      <td> 0.000000</td>\n",
        "      <td> 0.761905</td>\n",
        "      <td> 1</td>\n",
        "      <td> 1</td>\n",
        "      <td> 1</td>\n",
        "      <td> 0</td>\n",
        "      <td> 0</td>\n",
        "      <td> 0.940476</td>\n",
        "    </tr>\n",
        "    <tr>\n",
        "      <th>58026</th>\n",
        "      <td> Edge_58027</td>\n",
        "      <td>                                    SEED-2</td>\n",
        "      <td>   WP-14e51385-33a3-4588-b60c-004a2a1f74b0</td>\n",
        "      <td> 0.000000</td>\n",
        "      <td> 0</td>\n",
        "      <td> 0.000000</td>\n",
        "      <td> 0.130435</td>\n",
        "      <td> 1</td>\n",
        "      <td> 1</td>\n",
        "      <td> 1</td>\n",
        "      <td> 0</td>\n",
        "      <td> 0</td>\n",
        "      <td> 0.782609</td>\n",
        "    </tr>\n",
        "    <tr>\n",
        "      <th>58027</th>\n",
        "      <td> Edge_58028</td>\n",
        "      <td>                                    SEED-2</td>\n",
        "      <td>   WP-13390206-aba0-46aa-a849-3f04dea6de91</td>\n",
        "      <td> 0.000000</td>\n",
        "      <td> 0</td>\n",
        "      <td> 0.000000</td>\n",
        "      <td> 0.217391</td>\n",
        "      <td> 1</td>\n",
        "      <td> 1</td>\n",
        "      <td> 0</td>\n",
        "      <td> 0</td>\n",
        "      <td> 0</td>\n",
        "      <td> 0.554348</td>\n",
        "    </tr>\n",
        "    <tr>\n",
        "      <th>58044</th>\n",
        "      <td> Edge_58045</td>\n",
        "      <td> CCTR-a95c7942-7d7a-43b7-9fff-1e01218b7b46</td>\n",
        "      <td>                                    SEED-2</td>\n",
        "      <td> 0.000000</td>\n",
        "      <td> 0</td>\n",
        "      <td> 0.000000</td>\n",
        "      <td> 0.086957</td>\n",
        "      <td> 1</td>\n",
        "      <td> 1</td>\n",
        "      <td> 1</td>\n",
        "      <td> 0</td>\n",
        "      <td> 0</td>\n",
        "      <td> 0.951945</td>\n",
        "    </tr>\n",
        "  </tbody>\n",
        "</table>\n",
        "<p>23811 rows \u00d7 13 columns</p>\n",
        "</div>"
       ],
       "metadata": {},
       "output_type": "pyout",
       "prompt_number": 17,
       "text": [
        "          EDGE_ID                                     GUID_1  \\\n",
        "0          Edge_1                                     SEED-1   \n",
        "1          Edge_2                                     SEED-1   \n",
        "2          Edge_3                                     SEED-1   \n",
        "3          Edge_4                                     SEED-1   \n",
        "4          Edge_5                                     SEED-1   \n",
        "5          Edge_6                                     SEED-1   \n",
        "6          Edge_7                                     SEED-1   \n",
        "7          Edge_8                                     SEED-1   \n",
        "8          Edge_9                                     SEED-1   \n",
        "9         Edge_10                                     SEED-1   \n",
        "10        Edge_11                                     SEED-1   \n",
        "11        Edge_12                                     SEED-1   \n",
        "12        Edge_13                                     SEED-1   \n",
        "13        Edge_14                                     SEED-1   \n",
        "14        Edge_15                                     SEED-1   \n",
        "15        Edge_16                                     SEED-1   \n",
        "16        Edge_17                                     SEED-1   \n",
        "17        Edge_18                                     SEED-1   \n",
        "18        Edge_19                                     SEED-1   \n",
        "19        Edge_20                                     SEED-1   \n",
        "20        Edge_21                                     SEED-1   \n",
        "21        Edge_22                                     SEED-1   \n",
        "22        Edge_23                                     SEED-1   \n",
        "23        Edge_24                                     SEED-1   \n",
        "24        Edge_25                                     SEED-1   \n",
        "25        Edge_26                                     SEED-1   \n",
        "26        Edge_27                                     SEED-1   \n",
        "27        Edge_28                                     SEED-1   \n",
        "28        Edge_29                                     SEED-1   \n",
        "29        Edge_30                                     SEED-1   \n",
        "...           ...                                        ...   \n",
        "57977  Edge_57978    HR-8b5a6062-6e23-46c4-b9e7-90ca3db97f58   \n",
        "57978  Edge_57979    HR-bafdd6a2-3ff2-4833-8dd7-6540f96dd664   \n",
        "57979  Edge_57980    HR-42421e1e-9f6d-4b3a-a120-a03a313deb72   \n",
        "57980  Edge_57981    HR-6ad7d798-2ee9-46b3-9361-ad487717e419   \n",
        "57981  Edge_57982    HR-1e1706ca-ab14-4a86-85ed-a15c976e1c77   \n",
        "57982  Edge_57983    HR-adf8475e-6485-4c97-b6e5-ad6850c44af6   \n",
        "57983  Edge_57984    HR-1252a3a9-13b0-4adf-bc75-371b97323530   \n",
        "57986  Edge_57987    HR-3a362323-7ac9-4635-82ca-55932e1ffd6e   \n",
        "57987  Edge_57988    HR-e68a8799-c630-4413-ad2e-f32646b58a0d   \n",
        "57988  Edge_57989    HR-6cfc19b9-804a-4c51-aa7f-3845d47faa4d   \n",
        "57993  Edge_57994    HR-17d05cea-9a6d-453f-81fe-c2108fd02255   \n",
        "57994  Edge_57995    HR-d8962d81-2b6d-419e-8534-90e6a2004e80   \n",
        "57995  Edge_57996    HR-27325b9e-7729-44ba-8567-0b5d6832117b   \n",
        "57996  Edge_57997    HR-78faf70e-2bbe-48dc-b020-b9bb1419555d   \n",
        "57997  Edge_57998    HR-38ff18c4-8165-452b-9761-ef5360bc2ef4   \n",
        "57998  Edge_57999    HR-e9bd91ed-89cb-4981-aa3a-86d2395d809c   \n",
        "58006  Edge_58007    HR-526f6b35-0d16-4a9e-aab6-8caa197ccccd   \n",
        "58007  Edge_58008    HR-709f1a2f-fe9a-4854-9bb9-33e248aa46e2   \n",
        "58008  Edge_58009    HR-e190e157-16ff-479a-b28a-ed1d85dba87d   \n",
        "58009  Edge_58010    HR-3f92d357-39d2-4aad-bbb1-04b778348ba7   \n",
        "58011  Edge_58012    HR-99085816-70bd-415f-a528-bf5b8a770ba4   \n",
        "58012  Edge_58013    HR-0f630c94-6250-4a45-8379-2350632221d7   \n",
        "58013  Edge_58014    HR-b91bbb92-0d92-4b3e-b48d-2adbdf43c767   \n",
        "58014  Edge_58015    HR-93743dfe-a51c-4fe2-bf18-e17ac50b9b19   \n",
        "58017  Edge_58018    HR-58b74eac-275d-43aa-aaa4-d9deb607de7d   \n",
        "58018  Edge_58019    HR-33e62213-6059-4865-b4b1-005e34047830   \n",
        "58019  Edge_58020    HR-85ddd498-d78d-4ec3-8a5e-088191beb4be   \n",
        "58026  Edge_58027                                     SEED-2   \n",
        "58027  Edge_58028                                     SEED-2   \n",
        "58044  Edge_58045  CCTR-a95c7942-7d7a-43b7-9fff-1e01218b7b46   \n",
        "\n",
        "                                          GUID_2  LastName_APS  \\\n",
        "0      SRLU-2a5289eb-5406-4da3-941d-dcb19b3ca628      0.000000   \n",
        "1      SRLU-b46f584e-a4b0-4dcf-8d62-7b2d377651ca      0.000000   \n",
        "2      SRLU-1d7e29dc-448f-414a-bd52-1b800e1e89ca      0.000000   \n",
        "3      SRLU-ba7ffda1-deb3-4a01-a789-c60724f5193c      0.000000   \n",
        "4      SRLU-f442a34f-fe35-437f-9658-001be9b6d9dd      0.000000   \n",
        "5      SRLU-f31ebc0f-a760-419c-9097-aeb00bc6e3c5      0.000000   \n",
        "6      SRLU-48d78656-ffe6-4980-8fe7-6db33411cba0      0.000000   \n",
        "7      SRLU-4ba9dcc2-ad36-434a-865d-8cfaa5c173f2      0.000000   \n",
        "8      SRLU-75ad518a-421d-4d51-adb8-838188e25476      0.000000   \n",
        "9      SRLU-f5c4ba25-dd2b-499a-bb6b-3a88e87e818f      0.000000   \n",
        "10     SRLU-fb55d529-9460-4ef7-ba52-dfba5fb0dfd0      0.000000   \n",
        "11     SRLU-1fa2e3bf-a3e3-485e-a7ae-24d2b6f04728      0.000000   \n",
        "12     SRLU-0bba8d3b-281f-485f-b855-bfd63589f596      0.000000   \n",
        "13     SRLU-b072dd94-2b8a-4c28-a52d-fa77d8cd56a0      0.000000   \n",
        "14     SRLU-2028b038-e0bf-44f8-a9c7-9423a5c2d6c1      0.000000   \n",
        "15     SRLU-861fc3ea-e53b-477c-a635-4c4367ed0f9f      0.000000   \n",
        "16     SRLU-c028a607-cc60-42b1-9467-071ed71636a0      0.000000   \n",
        "17     SRLU-1b141f22-5ab4-496d-9d69-acb2560605e1      0.000000   \n",
        "18     SRLU-da07614a-01bc-4918-b542-e88007337cca      0.000000   \n",
        "19     SRLU-74353c40-9ba0-46ff-85c4-1f2f2473ec44      0.000000   \n",
        "20     SRLU-0722366a-f8ff-4429-afae-7e57a74b8a74      0.000000   \n",
        "21     SRLU-8575b2c5-b50b-4ace-8c75-88d9d5518802      0.000000   \n",
        "22     SRLU-eba54968-69e0-457c-88f1-971ffb8b588e      0.000000   \n",
        "23     SRLU-373543b3-5a3f-46d8-ac5d-3d9c62dc4f45      0.000000   \n",
        "24     SRLU-acfed352-571e-4d86-8797-e06bbef82174      0.000000   \n",
        "25     SRLU-0d1d1c47-b636-4976-a7ff-b588054831a7      0.000000   \n",
        "26     SRLU-b2af4b9b-1f21-4062-b35a-02119cf9f84a      0.000000   \n",
        "27     SRLU-3221c550-4da9-45fc-916f-1309ccda0b15      0.000000   \n",
        "28     SRLU-6b735a32-7a6f-4448-bc48-7126f87af0f8      0.000000   \n",
        "29     SRLU-631b3946-4e66-4b08-8060-b4948c47292e      0.000000   \n",
        "...                                          ...           ...   \n",
        "57977    WP-3a78c7b6-2484-41f1-a04f-eabe390de16b      0.430556   \n",
        "57978    WP-3a78c7b6-2484-41f1-a04f-eabe390de16b      0.436508   \n",
        "57979    WP-3a78c7b6-2484-41f1-a04f-eabe390de16b      0.436508   \n",
        "57980    WP-3a78c7b6-2484-41f1-a04f-eabe390de16b      0.422222   \n",
        "57981    WP-3a78c7b6-2484-41f1-a04f-eabe390de16b      0.460317   \n",
        "57982    WP-3a78c7b6-2484-41f1-a04f-eabe390de16b      0.422222   \n",
        "57983    WP-3a78c7b6-2484-41f1-a04f-eabe390de16b      0.000000   \n",
        "57986    WP-e11be4ae-c0f8-4d46-b759-f57068376aa5      0.605556   \n",
        "57987    WP-e11be4ae-c0f8-4d46-b759-f57068376aa5      0.666667   \n",
        "57988    WP-e11be4ae-c0f8-4d46-b759-f57068376aa5      0.000000   \n",
        "57993    WP-df165a38-4010-4de2-8799-2f1971e1c227      0.412037   \n",
        "57994    WP-df165a38-4010-4de2-8799-2f1971e1c227      0.483333   \n",
        "57995    WP-df165a38-4010-4de2-8799-2f1971e1c227      0.000000   \n",
        "57996    WP-df165a38-4010-4de2-8799-2f1971e1c227      0.430556   \n",
        "57997    WP-df165a38-4010-4de2-8799-2f1971e1c227      0.458333   \n",
        "57998    WP-df165a38-4010-4de2-8799-2f1971e1c227      0.601190   \n",
        "58006    WP-a9af7613-ed36-4d6a-8a62-67bf442207e7      0.726852   \n",
        "58007    WP-a9af7613-ed36-4d6a-8a62-67bf442207e7      0.000000   \n",
        "58008    WP-e0dc89c6-dc95-4ed1-89fc-63f3adacca45      0.000000   \n",
        "58009    WP-e0dc89c6-dc95-4ed1-89fc-63f3adacca45      0.700000   \n",
        "58011    WP-9534fd94-9673-4115-bce6-e471c5042e01      0.616667   \n",
        "58012    WP-9534fd94-9673-4115-bce6-e471c5042e01      0.328571   \n",
        "58013    WP-22d930cf-d34c-4662-b8ca-579b3744fc4e      0.424242   \n",
        "58014    WP-22d930cf-d34c-4662-b8ca-579b3744fc4e      0.519360   \n",
        "58017    WP-98fd6cb3-da44-4f53-86a7-bf1cc237cc6c      0.455556   \n",
        "58018    WP-98fd6cb3-da44-4f53-86a7-bf1cc237cc6c      0.633333   \n",
        "58019    WP-98fd6cb3-da44-4f53-86a7-bf1cc237cc6c      0.455556   \n",
        "58026    WP-14e51385-33a3-4588-b60c-004a2a1f74b0      0.000000   \n",
        "58027    WP-13390206-aba0-46aa-a849-3f04dea6de91      0.000000   \n",
        "58044                                     SEED-2      0.000000   \n",
        "\n",
        "       MiddleName_APS  FirstName_APS  Street_APS  City_APS  State_APS  \\\n",
        "0                   0       0.000000    0.000000         0          0   \n",
        "1                   0       0.000000    0.000000         0          0   \n",
        "2                   0       0.000000    0.000000         0          0   \n",
        "3                   0       0.000000    0.000000         0          0   \n",
        "4                   0       0.000000    0.000000         0          0   \n",
        "5                   0       0.000000    0.000000         0          0   \n",
        "6                   0       0.000000    0.000000         0          0   \n",
        "7                   0       0.000000    0.000000         0          0   \n",
        "8                   0       0.000000    0.000000         0          0   \n",
        "9                   0       0.000000    0.000000         0          0   \n",
        "10                  0       0.000000    0.000000         0          0   \n",
        "11                  0       0.000000    0.000000         0          0   \n",
        "12                  0       0.000000    0.000000         0          0   \n",
        "13                  0       0.000000    0.000000         0          0   \n",
        "14                  0       0.000000    0.000000         0          0   \n",
        "15                  0       0.000000    0.000000         0          0   \n",
        "16                  0       0.000000    0.000000         0          0   \n",
        "17                  0       0.000000    0.000000         0          0   \n",
        "18                  0       0.000000    0.000000         0          0   \n",
        "19                  0       0.000000    0.000000         0          0   \n",
        "20                  0       0.000000    0.000000         0          0   \n",
        "21                  0       0.000000    0.000000         0          0   \n",
        "22                  0       0.000000    0.000000         0          0   \n",
        "23                  0       0.000000    0.000000         0          0   \n",
        "24                  0       0.000000    0.000000         0          0   \n",
        "25                  0       0.000000    0.000000         0          0   \n",
        "26                  0       0.000000    0.000000         0          0   \n",
        "27                  0       0.000000    0.000000         0          0   \n",
        "28                  0       0.000000    0.000000         0          0   \n",
        "29                  0       0.000000    0.000000         0          0   \n",
        "...               ...            ...         ...       ...        ...   \n",
        "57977               0       0.436508    0.750000         1          1   \n",
        "57978               0       0.422619    0.750000         1          1   \n",
        "57979               0       0.436508    0.750000         1          1   \n",
        "57980               0       0.464286    0.750000         1          1   \n",
        "57981               0       0.561905    0.800000         1          1   \n",
        "57982               0       0.511905    0.750000         1          1   \n",
        "57983               0       0.523810    0.750000         1          1   \n",
        "57986               0       0.683333    0.761905         1          1   \n",
        "57987               0       0.000000    0.761905         1          1   \n",
        "57988               0       0.550000    0.761905         1          1   \n",
        "57993               0       0.000000    0.736842         1          1   \n",
        "57994               0       0.000000    0.736842         1          1   \n",
        "57995               0       0.437037    0.736842         1          1   \n",
        "57996               0       0.000000    0.736842         1          1   \n",
        "57997               0       0.561905    0.789474         1          1   \n",
        "57998               0       0.000000    0.736842         1          1   \n",
        "58006               0       0.683333    0.826087         1          1   \n",
        "58007               0       0.412037    0.826087         1          1   \n",
        "58008               0       0.511905    0.827586         1          1   \n",
        "58009               0       0.511905    0.827586         1          1   \n",
        "58011               0       0.619048    0.761905         1          1   \n",
        "58012               0       0.000000    0.761905         1          1   \n",
        "58013               0       0.458333    0.761905         1          1   \n",
        "58014               0       0.453704    0.761905         1          1   \n",
        "58017               0       0.428571    0.809524         1          1   \n",
        "58018               0       0.476190    0.761905         1          1   \n",
        "58019               0       0.000000    0.761905         1          1   \n",
        "58026               0       0.000000    0.130435         1          1   \n",
        "58027               0       0.000000    0.217391         1          1   \n",
        "58044               0       0.000000    0.086957         1          1   \n",
        "\n",
        "       Zip_APS  Phone_APS  ID-DOC_APS       TCS  \n",
        "0            0          1           0  0.714286  \n",
        "1            0          1           0  0.714286  \n",
        "2            0          1           0  0.714286  \n",
        "3            0          1           0  0.714286  \n",
        "4            0          1           0  0.714286  \n",
        "5            0          1           0  0.714286  \n",
        "6            0          1           0  0.714286  \n",
        "7            0          1           0  0.714286  \n",
        "8            0          1           0  0.714286  \n",
        "9            0          1           0  0.714286  \n",
        "10           0          1           0  0.714286  \n",
        "11           0          1           0  0.714286  \n",
        "12           0          1           0  0.714286  \n",
        "13           0          1           0  0.714286  \n",
        "14           0          1           0  0.714286  \n",
        "15           0          1           0  0.714286  \n",
        "16           0          1           0  0.714286  \n",
        "17           0          1           0  0.714286  \n",
        "18           0          1           0  0.714286  \n",
        "19           0          1           0  0.714286  \n",
        "20           0          1           0  0.714286  \n",
        "21           0          1           0  0.714286  \n",
        "22           0          1           0  0.714286  \n",
        "23           0          1           0  0.714286  \n",
        "24           0          1           0  0.714286  \n",
        "25           0          1           0  0.714286  \n",
        "26           0          1           0  0.714286  \n",
        "27           0          1           0  0.714286  \n",
        "28           0          1           0  0.714286  \n",
        "29           0          1           0  0.714286  \n",
        "...        ...        ...         ...       ...  \n",
        "57977        1          0           0  0.937500  \n",
        "57978        1          0           0  0.937500  \n",
        "57979        1          0           0  0.937500  \n",
        "57980        1          0           0  0.937500  \n",
        "57981        1          0           0  0.950000  \n",
        "57982        1          0           0  0.937500  \n",
        "57983        1          0           0  0.937500  \n",
        "57986        1          0           0  0.940476  \n",
        "57987        1          0           0  0.940476  \n",
        "57988        1          0           0  0.940476  \n",
        "57993        1          0           0  0.934211  \n",
        "57994        1          0           0  0.934211  \n",
        "57995        1          0           0  0.934211  \n",
        "57996        1          0           0  0.934211  \n",
        "57997        1          0           0  0.947368  \n",
        "57998        1          0           0  0.934211  \n",
        "58006        1          0           0  0.956522  \n",
        "58007        1          0           0  0.956522  \n",
        "58008        1          0           0  0.956897  \n",
        "58009        1          0           0  0.956897  \n",
        "58011        1          0           0  0.940476  \n",
        "58012        1          0           0  0.940476  \n",
        "58013        1          0           0  0.940476  \n",
        "58014        1          0           0  0.940476  \n",
        "58017        1          0           0  0.952381  \n",
        "58018        1          0           0  0.940476  \n",
        "58019        1          0           0  0.940476  \n",
        "58026        1          0           0  0.782609  \n",
        "58027        0          0           0  0.554348  \n",
        "58044        1          0           0  0.951945  \n",
        "\n",
        "[23811 rows x 13 columns]"
       ]
      }
     ],
     "prompt_number": 17
    },
    {
     "cell_type": "code",
     "collapsed": false,
     "input": [
      "#\n",
      "# create graph\n",
      "#\n",
      "\n",
      "guid_1 = edges_pruned['GUID_1'].tolist()\n",
      "guid_2 = edges_pruned['GUID_2'].tolist()\n",
      "\n",
      "\n",
      "distance = edges_pruned['TCS'].tolist()\n",
      "\n",
      "guid_1 = [str(key) for key in guid_1]\n",
      "guid_2 = [str(key) for key in guid_2]\n",
      "distance = [(1 - float(key)) for key in distance]\n",
      "\n",
      "adj_list=[]\n",
      "for i in range(0,len(guid_1)):\n",
      "    adj_list.append(guid_1[i] + ' ' + guid_2[i] + ' ' + str(distance[i]))\n",
      "G = nx.parse_edgelist(adj_list, nodetype = str, data=(('weight',float),))"
     ],
     "language": "python",
     "metadata": {},
     "outputs": [],
     "prompt_number": 18
    },
    {
     "cell_type": "code",
     "collapsed": false,
     "input": [
      "#get the m << n measurements, choose m random vertices and put them into a list to iterate through later\n",
      "randomNodes = []\n",
      "\n",
      "# for i in range(0, numMeasurements):\n",
      "#     randomNodes.append(random.randint(1, len(nodes)))\n",
      "#     #I Have to check if they are in the connected component don't I???\n",
      "\n",
      "#\n",
      "# get random vertices from connected components\n",
      "#\n",
      "while(len(randomNodes) != numMeasurements):\n",
      "    #get random int\n",
      "    nodeNum = random.randint(1, len(nodes))\n",
      "    \n",
      "    #check to see if its in the connected component by checking to see if the vertex is in the edge set\n",
      "    guid = nodes.loc[nodeNum]['GUID']\n",
      "    if (len(edges_pruned[(edges_pruned['GUID_1'] == guid) | (edges_pruned['GUID_2'] == guid)]) != 0) and (len(nodes[nodes['GUID'] == guid]) != 0) :\n",
      "        #append number if so\n",
      "         randomNodes.append(nodeNum)\n",
      "            \n",
      "print randomNodes\n",
      "\n",
      "#check and make sure all random nodes are in the connected component\n",
      "for i in range(0,len(randomNodes)): \n",
      "    guid = nodes.loc[randomNodes[i]]['GUID']\n",
      "    tmp =  len(edges_pruned[(edges_pruned['GUID_1'] == guid) | (edges_pruned['GUID_2'] == guid)])\n",
      "    if(tmp == 0):\n",
      "        print str(randomNodes[i]) + '\\tNot in Conncected component'\n",
      "        \n",
      "\n"
     ],
     "language": "python",
     "metadata": {},
     "outputs": [
      {
       "output_type": "stream",
       "stream": "stdout",
       "text": [
        "[8339, 8683, 4352, 6797, 8507, 3832, 8931, 11802, 12134, 10095, 2806, 5397, 7661, 7391, 4595, 6978, 2897, 11873, 9185, 1585, 8091, 12504, 4627, 3253, 6366, 1841, 2542, 12511, 3036, 477, 1183, 798, 8733, 4558, 8097, 3335, 655, 6838, 4363, 1611, 7358, 3965, 1377, 1996, 3280, 9868, 10355, 11916, 1276, 7900, 4162, 1615, 7366, 9150, 7189, 2125, 5445, 8983, 7938, 8801, 9220, 8298, 1029, 8146, 12262, 460, 2142, 9604, 8615, 4130, 6118, 12908, 3231, 2697, 7515, 3579, 8260, 2320, 8714, 1427, 1966, 786, 2270, 3208, 290, 6735, 3449, 2875, 4096, 7401, 209, 8221, 418, 2757, 10474, 5417, 8263, 1315, 8673, 8668]\n"
       ]
      }
     ],
     "prompt_number": 19
    },
    {
     "cell_type": "code",
     "collapsed": false,
     "input": [],
     "language": "python",
     "metadata": {},
     "outputs": [],
     "prompt_number": 20
    },
    {
     "cell_type": "code",
     "collapsed": false,
     "input": [
      "\n",
      "#\n",
      "# Use this function to get all nodes at a certain depth\n",
      "# Current level is initially 0 and starts at the randomly chosen vertex\n",
      "# the recursively go down if the current level is the depth append the node guid and return\n",
      "# else go through all the nodes possible neighbors and increment current level\n",
      "#\n",
      "def drillToDepth(node_guid, curr_level, depth, result):\n",
      "    if(curr_level == depth):\n",
      "        result.append(node_guid)\n",
      "    else:\n",
      "        for key in G[node_guid]:\n",
      "            drillToDepth (key, curr_level + 1, depth, result);\n",
      "\n"
     ],
     "language": "python",
     "metadata": {},
     "outputs": [],
     "prompt_number": 20
    },
    {
     "cell_type": "code",
     "collapsed": false,
     "input": [
      "def pathDistance(path):\n",
      "    path_distance = 0\n",
      "    for i in range(0,len(path)-2):\n",
      "        node1 = path[i]\n",
      "        node2 = path[i+1]\n",
      "        path_distance += G[node1][node2]['weight']\n",
      "    return path_distance"
     ],
     "language": "python",
     "metadata": {},
     "outputs": [],
     "prompt_number": 21
    },
    {
     "cell_type": "code",
     "collapsed": false,
     "input": [
      "#\n",
      "# Now need to obtain the measurements y_i for each randomly chosen node\n",
      "#\n",
      "\n",
      "y = [] #this is our y in y = Ax, each entry y_i a measurement sum\n",
      "s = (len(randomNodes),len(nodes))\n",
      "A = np.zeros(s)\n",
      "\n",
      "cliqueSizes = []\n",
      "\n",
      "#shortest path between Seed-1 and Seed 2\n",
      "seed_path = nx.shortest_path(G,'SEED-1','SEED-2',weight='weight')\n",
      "seed_nodes = [node for node in seed_path]\n",
      "\n",
      "#iterate through all our random chosen nodes\n",
      "for i in range(0,len(randomNodes)): \n",
      "    #for each node get all the vertices that make the clique up to the depth \n",
      "    \n",
      "    nodesInClique = []\n",
      "    #get all nodes up to the tree depth\n",
      "    for d in range(0,treeDepth):\n",
      "        drillToDepth(nodes.loc[randomNodes[i]]['GUID'], 0, d, nodesInClique)\n",
      "\n",
      "    cliqueSizes.append(len(nodesInClique))\n",
      "    \n",
      "    #now for each node in this clique find the shortest path\n",
      "    #go throught the click and take the smallest shortest path\n",
      "\n",
      "    measurement_sum = 0\n",
      "    \n",
      "    for n in nodesInClique:\n",
      "        try:\n",
      "            shortest_dist = 1000000\n",
      "            for node in seed_nodes:\n",
      "                path = nx.shortest_path(G,n,node,weight='weight')\n",
      "                path_dist = pathDistance(path)\n",
      "                if path_dist < shortest_dist:\n",
      "                    shortest_dist = path_dist\n",
      "\n",
      "            measurement_sum += shortest_dist\n",
      "        except:\n",
      "            #no networkx path to seed-1\n",
      "            measurement_sum = 0\n",
      "#             print \"shortest path not found\"\n",
      "            pass\n",
      "    y.append(measurement_sum)\n",
      "    \n",
      "    #for every node in the clique change its corresponding position to 1\n",
      "    for gid in nodesInClique:\n",
      "        \n",
      "        j = int(nodes[nodes['GUID'] == gid].index.values.tolist()[0])\n",
      "        A[i,j] = 1\n",
      "        "
     ],
     "language": "python",
     "metadata": {},
     "outputs": [
      {
       "output_type": "stream",
       "stream": "stdout",
       "text": [
        "0\n",
        "1"
       ]
      },
      {
       "output_type": "stream",
       "stream": "stdout",
       "text": [
        "\n",
        "2"
       ]
      },
      {
       "output_type": "stream",
       "stream": "stdout",
       "text": [
        "\n",
        "3\n",
        "4\n",
        "5"
       ]
      },
      {
       "output_type": "stream",
       "stream": "stdout",
       "text": [
        "\n",
        "6"
       ]
      },
      {
       "output_type": "stream",
       "stream": "stdout",
       "text": [
        "\n",
        "7\n",
        "8"
       ]
      },
      {
       "output_type": "stream",
       "stream": "stdout",
       "text": [
        "\n",
        "9"
       ]
      },
      {
       "output_type": "stream",
       "stream": "stdout",
       "text": [
        "\n",
        "10\n",
        "11"
       ]
      },
      {
       "output_type": "stream",
       "stream": "stdout",
       "text": [
        "\n",
        "12"
       ]
      },
      {
       "output_type": "stream",
       "stream": "stdout",
       "text": [
        "\n",
        "13"
       ]
      },
      {
       "output_type": "stream",
       "stream": "stdout",
       "text": [
        "\n",
        "14"
       ]
      },
      {
       "output_type": "stream",
       "stream": "stdout",
       "text": [
        "\n",
        "15"
       ]
      },
      {
       "output_type": "stream",
       "stream": "stdout",
       "text": [
        "\n",
        "16\n",
        "17"
       ]
      },
      {
       "output_type": "stream",
       "stream": "stdout",
       "text": [
        "\n",
        "18\n",
        "19"
       ]
      },
      {
       "output_type": "stream",
       "stream": "stdout",
       "text": [
        "\n",
        "20\n",
        "21"
       ]
      },
      {
       "output_type": "stream",
       "stream": "stdout",
       "text": [
        "\n",
        "22\n",
        "23"
       ]
      },
      {
       "output_type": "stream",
       "stream": "stdout",
       "text": [
        "\n",
        "24"
       ]
      },
      {
       "output_type": "stream",
       "stream": "stdout",
       "text": [
        "\n",
        "25"
       ]
      },
      {
       "output_type": "stream",
       "stream": "stdout",
       "text": [
        "\n",
        "26"
       ]
      },
      {
       "output_type": "stream",
       "stream": "stdout",
       "text": [
        "\n",
        "27"
       ]
      },
      {
       "output_type": "stream",
       "stream": "stdout",
       "text": [
        "\n",
        "28\n",
        "29"
       ]
      },
      {
       "output_type": "stream",
       "stream": "stdout",
       "text": [
        "\n",
        "30"
       ]
      },
      {
       "output_type": "stream",
       "stream": "stdout",
       "text": [
        "\n",
        "31"
       ]
      },
      {
       "output_type": "stream",
       "stream": "stdout",
       "text": [
        "\n",
        "32"
       ]
      },
      {
       "output_type": "stream",
       "stream": "stdout",
       "text": [
        "\n",
        "33\n",
        "34\n",
        "35"
       ]
      },
      {
       "output_type": "stream",
       "stream": "stdout",
       "text": [
        "\n",
        "36\n",
        "37"
       ]
      },
      {
       "output_type": "stream",
       "stream": "stdout",
       "text": [
        "\n",
        "38"
       ]
      },
      {
       "output_type": "stream",
       "stream": "stdout",
       "text": [
        "\n",
        "39"
       ]
      },
      {
       "output_type": "stream",
       "stream": "stdout",
       "text": [
        "\n",
        "40"
       ]
      },
      {
       "output_type": "stream",
       "stream": "stdout",
       "text": [
        "\n"
       ]
      },
      {
       "ename": "KeyboardInterrupt",
       "evalue": "",
       "output_type": "pyerr",
       "traceback": [
        "\u001b[1;31m---------------------------------------------------------------------------\u001b[0m\n\u001b[1;31mKeyboardInterrupt\u001b[0m                         Traceback (most recent call last)",
        "\u001b[1;32m<ipython-input-23-11415610b6d9>\u001b[0m in \u001b[0;36m<module>\u001b[1;34m()\u001b[0m\n\u001b[0;32m     50\u001b[0m     \u001b[1;32mfor\u001b[0m \u001b[0mgid\u001b[0m \u001b[1;32min\u001b[0m \u001b[0mnodesInClique\u001b[0m\u001b[1;33m:\u001b[0m\u001b[1;33m\u001b[0m\u001b[0m\n\u001b[0;32m     51\u001b[0m \u001b[1;33m\u001b[0m\u001b[0m\n\u001b[1;32m---> 52\u001b[1;33m         \u001b[0mj\u001b[0m \u001b[1;33m=\u001b[0m \u001b[0mint\u001b[0m\u001b[1;33m(\u001b[0m\u001b[0mnodes\u001b[0m\u001b[1;33m[\u001b[0m\u001b[0mnodes\u001b[0m\u001b[1;33m[\u001b[0m\u001b[1;34m'GUID'\u001b[0m\u001b[1;33m]\u001b[0m \u001b[1;33m==\u001b[0m \u001b[0mgid\u001b[0m\u001b[1;33m]\u001b[0m\u001b[1;33m.\u001b[0m\u001b[0mindex\u001b[0m\u001b[1;33m.\u001b[0m\u001b[0mvalues\u001b[0m\u001b[1;33m.\u001b[0m\u001b[0mtolist\u001b[0m\u001b[1;33m(\u001b[0m\u001b[1;33m)\u001b[0m\u001b[1;33m[\u001b[0m\u001b[1;36m0\u001b[0m\u001b[1;33m]\u001b[0m\u001b[1;33m)\u001b[0m\u001b[1;33m\u001b[0m\u001b[0m\n\u001b[0m\u001b[0;32m     53\u001b[0m         \u001b[0mA\u001b[0m\u001b[1;33m[\u001b[0m\u001b[0mi\u001b[0m\u001b[1;33m,\u001b[0m\u001b[0mj\u001b[0m\u001b[1;33m]\u001b[0m \u001b[1;33m=\u001b[0m \u001b[1;36m1\u001b[0m\u001b[1;33m\u001b[0m\u001b[0m\n\u001b[0;32m     54\u001b[0m \u001b[1;33m\u001b[0m\u001b[0m\n",
        "\u001b[1;32mC:\\Python27\\lib\\site-packages\\pandas\\core\\ops.pyc\u001b[0m in \u001b[0;36mwrapper\u001b[1;34m(self, other)\u001b[0m\n\u001b[0;32m    579\u001b[0m \u001b[1;33m\u001b[0m\u001b[0m\n\u001b[0;32m    580\u001b[0m             res = pd.Series(res, index=self.index, name=self.name,\n\u001b[1;32m--> 581\u001b[1;33m                             dtype='bool')\n\u001b[0m\u001b[0;32m    582\u001b[0m \u001b[1;33m\u001b[0m\u001b[0m\n\u001b[0;32m    583\u001b[0m             \u001b[1;31m# mask out the invalids\u001b[0m\u001b[1;33m\u001b[0m\u001b[1;33m\u001b[0m\u001b[0m\n",
        "\u001b[1;32mC:\\Python27\\lib\\site-packages\\pandas\\core\\series.pyc\u001b[0m in \u001b[0;36m__init__\u001b[1;34m(self, data, index, dtype, name, copy, fastpath)\u001b[0m\n\u001b[0;32m    227\u001b[0m             \u001b[1;32melse\u001b[0m\u001b[1;33m:\u001b[0m\u001b[1;33m\u001b[0m\u001b[0m\n\u001b[0;32m    228\u001b[0m                 data = _sanitize_array(data, index, dtype, copy,\n\u001b[1;32m--> 229\u001b[1;33m                                        raise_cast_failure=True)\n\u001b[0m\u001b[0;32m    230\u001b[0m \u001b[1;33m\u001b[0m\u001b[0m\n\u001b[0;32m    231\u001b[0m                 \u001b[0mdata\u001b[0m \u001b[1;33m=\u001b[0m \u001b[0mSingleBlockManager\u001b[0m\u001b[1;33m(\u001b[0m\u001b[0mdata\u001b[0m\u001b[1;33m,\u001b[0m \u001b[0mindex\u001b[0m\u001b[1;33m,\u001b[0m \u001b[0mfastpath\u001b[0m\u001b[1;33m=\u001b[0m\u001b[0mTrue\u001b[0m\u001b[1;33m)\u001b[0m\u001b[1;33m\u001b[0m\u001b[0m\n",
        "\u001b[1;32mC:\\Python27\\lib\\site-packages\\pandas\\core\\series.pyc\u001b[0m in \u001b[0;36m_sanitize_array\u001b[1;34m(data, index, dtype, copy, raise_cast_failure)\u001b[0m\n\u001b[0;32m   2437\u001b[0m                     \u001b[0msubarr\u001b[0m \u001b[1;33m=\u001b[0m \u001b[0mdata\u001b[0m\u001b[1;33m.\u001b[0m\u001b[0mcopy\u001b[0m\u001b[1;33m(\u001b[0m\u001b[1;33m)\u001b[0m\u001b[1;33m\u001b[0m\u001b[0m\n\u001b[0;32m   2438\u001b[0m             \u001b[1;32melse\u001b[0m\u001b[1;33m:\u001b[0m\u001b[1;33m\u001b[0m\u001b[0m\n\u001b[1;32m-> 2439\u001b[1;33m                 if (com.is_datetime64_dtype(data.dtype) and\n\u001b[0m\u001b[0;32m   2440\u001b[0m                         not com.is_datetime64_dtype(dtype)):\n\u001b[0;32m   2441\u001b[0m                     \u001b[1;32mif\u001b[0m \u001b[0mdtype\u001b[0m \u001b[1;33m==\u001b[0m \u001b[0mobject\u001b[0m\u001b[1;33m:\u001b[0m\u001b[1;33m\u001b[0m\u001b[0m\n",
        "\u001b[1;32mC:\\Python27\\lib\\site-packages\\pandas\\core\\common.pyc\u001b[0m in \u001b[0;36mis_datetime64_dtype\u001b[1;34m(arr_or_dtype)\u001b[0m\n\u001b[0;32m   2272\u001b[0m \u001b[1;33m\u001b[0m\u001b[0m\n\u001b[0;32m   2273\u001b[0m \u001b[1;32mdef\u001b[0m \u001b[0mis_datetime64_dtype\u001b[0m\u001b[1;33m(\u001b[0m\u001b[0marr_or_dtype\u001b[0m\u001b[1;33m)\u001b[0m\u001b[1;33m:\u001b[0m\u001b[1;33m\u001b[0m\u001b[0m\n\u001b[1;32m-> 2274\u001b[1;33m     \u001b[0mtipo\u001b[0m \u001b[1;33m=\u001b[0m \u001b[0m_get_dtype_type\u001b[0m\u001b[1;33m(\u001b[0m\u001b[0marr_or_dtype\u001b[0m\u001b[1;33m)\u001b[0m\u001b[1;33m\u001b[0m\u001b[0m\n\u001b[0m\u001b[0;32m   2275\u001b[0m     \u001b[1;32mreturn\u001b[0m \u001b[0missubclass\u001b[0m\u001b[1;33m(\u001b[0m\u001b[0mtipo\u001b[0m\u001b[1;33m,\u001b[0m \u001b[0mnp\u001b[0m\u001b[1;33m.\u001b[0m\u001b[0mdatetime64\u001b[0m\u001b[1;33m)\u001b[0m\u001b[1;33m\u001b[0m\u001b[0m\n\u001b[0;32m   2276\u001b[0m \u001b[1;33m\u001b[0m\u001b[0m\n",
        "\u001b[1;32mC:\\Python27\\lib\\site-packages\\pandas\\core\\common.pyc\u001b[0m in \u001b[0;36m_get_dtype_type\u001b[1;34m(arr_or_dtype)\u001b[0m\n\u001b[0;32m   2247\u001b[0m \u001b[1;33m\u001b[0m\u001b[0m\n\u001b[0;32m   2248\u001b[0m \u001b[1;32mdef\u001b[0m \u001b[0m_get_dtype_type\u001b[0m\u001b[1;33m(\u001b[0m\u001b[0marr_or_dtype\u001b[0m\u001b[1;33m)\u001b[0m\u001b[1;33m:\u001b[0m\u001b[1;33m\u001b[0m\u001b[0m\n\u001b[1;32m-> 2249\u001b[1;33m     \u001b[1;32mif\u001b[0m \u001b[0misinstance\u001b[0m\u001b[1;33m(\u001b[0m\u001b[0marr_or_dtype\u001b[0m\u001b[1;33m,\u001b[0m \u001b[0mnp\u001b[0m\u001b[1;33m.\u001b[0m\u001b[0mdtype\u001b[0m\u001b[1;33m)\u001b[0m\u001b[1;33m:\u001b[0m\u001b[1;33m\u001b[0m\u001b[0m\n\u001b[0m\u001b[0;32m   2250\u001b[0m         \u001b[1;32mreturn\u001b[0m \u001b[0marr_or_dtype\u001b[0m\u001b[1;33m.\u001b[0m\u001b[0mtype\u001b[0m\u001b[1;33m\u001b[0m\u001b[0m\n\u001b[0;32m   2251\u001b[0m     \u001b[1;32mif\u001b[0m \u001b[0misinstance\u001b[0m\u001b[1;33m(\u001b[0m\u001b[0marr_or_dtype\u001b[0m\u001b[1;33m,\u001b[0m \u001b[0mtype\u001b[0m\u001b[1;33m)\u001b[0m\u001b[1;33m:\u001b[0m\u001b[1;33m\u001b[0m\u001b[0m\n",
        "\u001b[1;31mKeyboardInterrupt\u001b[0m: "
       ]
      },
      {
       "output_type": "stream",
       "stream": "stderr",
       "text": [
        "ERROR:tornado.general:Uncaught exception, closing connection.\n",
        "Traceback (most recent call last):\n",
        "  File \"C:\\Python27\\lib\\site-packages\\zmq\\eventloop\\zmqstream.py\", line 407, in _run_callback\n",
        "    callback(*args, **kwargs)\n",
        "  File \"C:\\Python27\\lib\\site-packages\\tornado\\stack_context.py\", line 275, in null_wrapper\n",
        "    return fn(*args, **kwargs)\n",
        "  File \"C:\\Python27\\lib\\site-packages\\IPython\\kernel\\zmq\\ipkernel.py\", line 281, in dispatcher\n",
        "    return self.dispatch_shell(stream, msg)\n",
        "  File \"C:\\Python27\\lib\\site-packages\\IPython\\kernel\\zmq\\ipkernel.py\", line 245, in dispatch_shell\n",
        "    handler(stream, idents, msg)\n",
        "  File \"C:\\Python27\\lib\\site-packages\\IPython\\kernel\\zmq\\ipkernel.py\", line 474, in execute_request\n",
        "    self._abort_queues()\n",
        "  File \"C:\\Python27\\lib\\site-packages\\IPython\\kernel\\zmq\\ipkernel.py\", line 706, in _abort_queues\n",
        "    self._abort_queue(stream)\n",
        "  File \"C:\\Python27\\lib\\site-packages\\IPython\\kernel\\zmq\\ipkernel.py\", line 729, in _abort_queue\n",
        "    poller.poll(50)\n",
        "  File \"C:\\Python27\\lib\\site-packages\\zmq\\sugar\\poll.py\", line 101, in poll\n",
        "    return zmq_poll(self.sockets, timeout=timeout)\n",
        "KeyboardInterrupt\n"
       ]
      },
      {
       "output_type": "stream",
       "stream": "stderr",
       "text": [
        "ERROR:tornado.general:Uncaught exception, closing connection.\n",
        "Traceback (most recent call last):\n",
        "  File \"C:\\Python27\\lib\\site-packages\\zmq\\eventloop\\zmqstream.py\", line 433, in _handle_events\n",
        "    self._handle_recv()\n",
        "  File \"C:\\Python27\\lib\\site-packages\\zmq\\eventloop\\zmqstream.py\", line 465, in _handle_recv\n",
        "    self._run_callback(callback, msg)\n",
        "  File \"C:\\Python27\\lib\\site-packages\\zmq\\eventloop\\zmqstream.py\", line 407, in _run_callback\n",
        "    callback(*args, **kwargs)\n",
        "  File \"C:\\Python27\\lib\\site-packages\\tornado\\stack_context.py\", line 275, in null_wrapper\n",
        "    return fn(*args, **kwargs)\n",
        "  File \"C:\\Python27\\lib\\site-packages\\IPython\\kernel\\zmq\\ipkernel.py\", line 281, in dispatcher\n",
        "    return self.dispatch_shell(stream, msg)\n",
        "  File \"C:\\Python27\\lib\\site-packages\\IPython\\kernel\\zmq\\ipkernel.py\", line 245, in dispatch_shell\n",
        "    handler(stream, idents, msg)\n",
        "  File \"C:\\Python27\\lib\\site-packages\\IPython\\kernel\\zmq\\ipkernel.py\", line 474, in execute_request\n",
        "    self._abort_queues()\n",
        "  File \"C:\\Python27\\lib\\site-packages\\IPython\\kernel\\zmq\\ipkernel.py\", line 706, in _abort_queues\n",
        "    self._abort_queue(stream)\n",
        "  File \"C:\\Python27\\lib\\site-packages\\IPython\\kernel\\zmq\\ipkernel.py\", line 729, in _abort_queue\n",
        "    poller.poll(50)\n",
        "  File \"C:\\Python27\\lib\\site-packages\\zmq\\sugar\\poll.py\", line 101, in poll\n",
        "    return zmq_poll(self.sockets, timeout=timeout)\n",
        "KeyboardInterrupt\n"
       ]
      },
      {
       "output_type": "stream",
       "stream": "stderr",
       "text": [
        "Error in atexit._run_exitfuncs:\n",
        "Traceback (most recent call last):\n",
        "  File \"C:\\PYTHON27\\LIB\\atexit.py\", line 24, in _run_exitfuncs\n",
        "    func(*targs, **kargs)\n",
        "  File \"C:\\Python27\\lib\\site-packages\\IPython\\core\\interactiveshell.py\", line 3206, in atexit_operations\n",
        "    self.reset(new_session=False)\n",
        "  File \"C:\\Python27\\lib\\site-packages\\IPython\\core\\interactiveshell.py\", line 1220, in reset\n",
        "    del ns[k]\n",
        "TypeError: 'int' object is not callable\n",
        "Error in atexit._run_exitfuncs:"
       ]
      },
      {
       "output_type": "stream",
       "stream": "stderr",
       "text": [
        "\n",
        "Traceback (most recent call last):\n",
        "  File \"C:\\PYTHON27\\LIB\\atexit.py\", line 24, in _run_exitfuncs\n",
        "    func(*targs, **kargs)\n",
        "  File \"C:\\Python27\\lib\\site-packages\\IPython\\core\\magics\\script.py\", line 273, in kill_bg_processes\n",
        "    time.sleep(0.1)\n",
        "TypeError: 'int' object is not callable\n"
       ]
      }
     ]
    },
    {
     "cell_type": "code",
     "collapsed": false,
     "input": [],
     "language": "python",
     "metadata": {},
     "outputs": [],
     "prompt_number": 10
    },
    {
     "cell_type": "code",
     "collapsed": false,
     "input": [],
     "language": "python",
     "metadata": {},
     "outputs": [],
     "prompt_number": 10
    },
    {
     "cell_type": "code",
     "collapsed": false,
     "input": [
      "print cliqueSizes \n",
      "print y"
     ],
     "language": "python",
     "metadata": {},
     "outputs": [
      {
       "output_type": "stream",
       "stream": "stdout",
       "text": [
        "[52, 12, 21, 10, 30, 7, 29, 14, 30, 9]\n",
        "[5.02831441, 0, 0, 0, 0, 0, 0, 0, 0, 0]\n"
       ]
      }
     ],
     "prompt_number": 11
    },
    {
     "cell_type": "code",
     "collapsed": false,
     "input": [
      "print A"
     ],
     "language": "python",
     "metadata": {},
     "outputs": [
      {
       "output_type": "stream",
       "stream": "stdout",
       "text": [
        "[[ 0.  0.  0. ...,  0.  0.  0.]\n",
        " [ 0.  0.  0. ...,  0.  0.  0.]\n",
        " [ 0.  0.  0. ...,  0.  0.  0.]\n",
        " ..., \n",
        " [ 0.  0.  0. ...,  0.  0.  0.]\n",
        " [ 0.  0.  0. ...,  0.  0.  0.]\n",
        " [ 0.  0.  0. ...,  0.  0.  0.]]\n"
       ]
      }
     ],
     "prompt_number": 12
    },
    {
     "cell_type": "code",
     "collapsed": false,
     "input": [
      "# just checking there are actually 1's in this A matrix \n",
      "for k in A:\n",
      "    indices = [i for i, x in enumerate(k) if x == 1]\n",
      "    print indices\n"
     ],
     "language": "python",
     "metadata": {},
     "outputs": [
      {
       "output_type": "stream",
       "stream": "stdout",
       "text": [
        "[175, 1140, 2391, 4083, 4999, 11501, 11509, 11514, 11524, 11526, 11536, 11539, 11543, 11545, 11546, 11547, 11553, 11556, 11558, 11561, 11562, 11566, 11572, 11576, 11580, 11589, 11602, 11604, 11613, 11614, 11616, 11620, 11621, 11622, 11628]\n",
        "[13, 222, 436, 734, 877, 1425, 2496, 2806, 3146, 7243, 10118]\n",
        "[318, 558, 780, 849, 2603, 3231, 3431, 3542, 3902, 4594, 7109]\n",
        "[8169, 8672, 9465, 12484, 13211]\n",
        "[727, 801, 1724, 1893, 2115, 2267, 2455, 2553, 3496, 3975, 6591, 6662]\n",
        "[5313, 8114, 9868, 11398]\n",
        "[919, 1399, 1616, 2869, 3308, 3388, 3432, 4201, 5248, 6945, 7358, 7462, 9867, 9939, 10790, 10943, 10988, 11087, 11176]\n",
        "[662, 1050, 2763, 4947, 6269, 6838, 7853]\n",
        "[38, 241, 800, 833, 960, 1694, 1785, 2142, 2213, 2387, 2445, 2547, 2719, 2743, 2901, 3011, 3162, 3267, 3359, 3384, 3458, 3778, 4390, 4696, 7176]"
       ]
      },
      {
       "output_type": "stream",
       "stream": "stdout",
       "text": [
        "\n",
        "[4969, 5723, 6570, 10249, 10934]\n"
       ]
      }
     ],
     "prompt_number": 13
    },
    {
     "cell_type": "code",
     "collapsed": false,
     "input": [
      "A[A == 0] = 1000\n",
      "print A"
     ],
     "language": "python",
     "metadata": {},
     "outputs": [
      {
       "output_type": "stream",
       "stream": "stdout",
       "text": [
        "[[ 1000.  1000.  1000. ...,  1000.  1000.  1000.]\n",
        " [ 1000.  1000.  1000. ...,  1000.  1000.  1000.]\n",
        " [ 1000.  1000.  1000. ...,  1000.  1000.  1000.]\n",
        " ..., \n",
        " [ 1000.  1000.  1000. ...,  1000.  1000.  1000.]\n",
        " [ 1000.  1000.  1000. ...,  1000.  1000.  1000.]\n",
        " [ 1000.  1000.  1000. ...,  1000.  1000.  1000.]]\n"
       ]
      }
     ],
     "prompt_number": 22
    },
    {
     "cell_type": "code",
     "collapsed": false,
     "input": [
      "#write the y and A to spereate files\n",
      "import csv\n",
      "with open('C:\\Users\\Shan\\Documents\\GitHub\\\\compressiveSensing\\\\y_vector.csv', 'wb') as f:\n",
      "    writer = csv.writer(f)\n",
      "    writer.writerow(y)"
     ],
     "language": "python",
     "metadata": {},
     "outputs": [],
     "prompt_number": 23
    },
    {
     "cell_type": "code",
     "collapsed": false,
     "input": [
      "import scipy.io as sio\n",
      "sio.savemat('C:\\Users\\Shan\\Documents\\GitHub\\\\compressiveSensing\\\\sensingMatrix.mat', {'A':A})"
     ],
     "language": "python",
     "metadata": {},
     "outputs": [],
     "prompt_number": 25
    },
    {
     "cell_type": "raw",
     "metadata": {},
     "source": []
    },
    {
     "cell_type": "code",
     "collapsed": false,
     "input": [
      "from sklearn.linear_model import Lasso, Ridge\n",
      "rgr_lasso = Lasso(alpha = 0.001)\n",
      "rgr_lasso.fit(A,y)"
     ],
     "language": "python",
     "metadata": {},
     "outputs": [
      {
       "metadata": {},
       "output_type": "pyout",
       "prompt_number": 17,
       "text": [
        "Lasso(alpha=0.001, copy_X=True, fit_intercept=True, max_iter=1000,\n",
        "   normalize=False, positive=False, precompute='auto', tol=0.0001,\n",
        "   warm_start=False)"
       ]
      }
     ],
     "prompt_number": 17
    },
    {
     "cell_type": "code",
     "collapsed": false,
     "input": [
      "rec_l1 = rgr_lasso.coef_\n",
      "print rec_l1"
     ],
     "language": "python",
     "metadata": {},
     "outputs": [
      {
       "output_type": "stream",
       "stream": "stdout",
       "text": [
        "[ 0.  0.  0. ...,  0.  0.  0.]\n"
       ]
      }
     ],
     "prompt_number": 18
    },
    {
     "cell_type": "code",
     "collapsed": false,
     "input": [
      "indices = [i for i, x in enumerate(rec_l1) if x == 0]\n",
      "# print indices"
     ],
     "language": "python",
     "metadata": {},
     "outputs": [],
     "prompt_number": 20
    },
    {
     "cell_type": "code",
     "collapsed": false,
     "input": [
      "import csv\n",
      "with open('C:\\Users\\Shan\\Documents\\GitHub\\\\compressiveSensing\\\\ans_vector.csv', 'wb') as f:\n",
      "    writer = csv.writer(f)\n",
      "    writer.writerow(rec_l1)"
     ],
     "language": "python",
     "metadata": {},
     "outputs": [],
     "prompt_number": 21
    },
    {
     "cell_type": "code",
     "collapsed": false,
     "input": [],
     "language": "python",
     "metadata": {},
     "outputs": [
      {
       "metadata": {},
       "output_type": "pyout",
       "prompt_number": 33,
       "text": [
        "(68986,)"
       ]
      }
     ],
     "prompt_number": 33
    },
    {
     "cell_type": "code",
     "collapsed": false,
     "input": [],
     "language": "python",
     "metadata": {},
     "outputs": [
      {
       "html": [
        "<div style=\"max-height:1000px;max-width:1500px;overflow:auto;\">\n",
        "<table border=\"1\" class=\"dataframe\">\n",
        "  <thead>\n",
        "    <tr style=\"text-align: right;\">\n",
        "      <th></th>\n",
        "      <th>Source</th>\n",
        "      <th>GUID</th>\n",
        "      <th>LastName</th>\n",
        "      <th>MiddleName</th>\n",
        "      <th>FirstName</th>\n",
        "      <th>Street</th>\n",
        "      <th>City</th>\n",
        "      <th>State</th>\n",
        "      <th>Zip</th>\n",
        "      <th>Phone</th>\n",
        "      <th>ID-DOC</th>\n",
        "    </tr>\n",
        "  </thead>\n",
        "  <tbody>\n",
        "    <tr>\n",
        "      <th>0     </th>\n",
        "      <td> CCCR</td>\n",
        "      <td> CCCR-a57685ee-ba9f-4bfb-b2f6-f179b693ee12</td>\n",
        "      <td>     Brandybuck</td>\n",
        "      <td>  Donnamira</td>\n",
        "      <td>  Gloriana</td>\n",
        "      <td>            2719 Pin Oak Drive</td>\n",
        "      <td>          Manhattan</td>\n",
        "      <td> NY</td>\n",
        "      <td> 10018</td>\n",
        "      <td>        NaN</td>\n",
        "      <td> 5.334857e+15</td>\n",
        "    </tr>\n",
        "    <tr>\n",
        "      <th>1     </th>\n",
        "      <td> CCCR</td>\n",
        "      <td> CCCR-ac908031-33b2-4ea1-816b-7c79a67827d2</td>\n",
        "      <td>        Oldbuck</td>\n",
        "      <td>   Columbus</td>\n",
        "      <td>      Dina</td>\n",
        "      <td>                2334 Scott St.</td>\n",
        "      <td>      Putnam Valley</td>\n",
        "      <td> NY</td>\n",
        "      <td> 10579</td>\n",
        "      <td>        NaN</td>\n",
        "      <td> 5.334857e+15</td>\n",
        "    </tr>\n",
        "    <tr>\n",
        "      <th>2     </th>\n",
        "      <td> CCCR</td>\n",
        "      <td> CCCR-2cd29e42-accf-4b59-9b6a-b161c5c67767</td>\n",
        "      <td>      Lightfoot</td>\n",
        "      <td> Belladonna</td>\n",
        "      <td>     Bucca</td>\n",
        "      <td>               997 Doctors Dr.</td>\n",
        "      <td>            Cypress</td>\n",
        "      <td> CA</td>\n",
        "      <td> 90630</td>\n",
        "      <td>        NaN</td>\n",
        "      <td> 4.716838e+15</td>\n",
        "    </tr>\n",
        "    <tr>\n",
        "      <th>3     </th>\n",
        "      <td> CCCR</td>\n",
        "      <td> CCCR-9bc0967c-9c15-4b4a-beca-76627bfb0a8d</td>\n",
        "      <td>       Galbassi</td>\n",
        "      <td>     Fatima</td>\n",
        "      <td>  Gundobad</td>\n",
        "      <td>       3371 Columbia Boulevard</td>\n",
        "      <td>           Elkridge</td>\n",
        "      <td> MD</td>\n",
        "      <td> 21227</td>\n",
        "      <td>        NaN</td>\n",
        "      <td> 5.201066e+15</td>\n",
        "    </tr>\n",
        "    <tr>\n",
        "      <th>4     </th>\n",
        "      <td> CCCR</td>\n",
        "      <td> CCCR-139fe488-47f6-484e-a1d3-cf433a78b6cc</td>\n",
        "      <td>       Whitfoot</td>\n",
        "      <td>    Holfast</td>\n",
        "      <td>  Pervinca</td>\n",
        "      <td>               340 Pine Street</td>\n",
        "      <td>           Portland</td>\n",
        "      <td> PA</td>\n",
        "      <td> 97205</td>\n",
        "      <td>        NaN</td>\n",
        "      <td> 4.929631e+15</td>\n",
        "    </tr>\n",
        "    <tr>\n",
        "      <th>5     </th>\n",
        "      <td> CCCR</td>\n",
        "      <td> CCCR-8556c24f-8edd-47ba-af50-e12b9a4b8f5f</td>\n",
        "      <td>            Tuk</td>\n",
        "      <td>   Bercilac</td>\n",
        "      <td>      Dina</td>\n",
        "      <td>            594 Farland Avenue</td>\n",
        "      <td>        San Antonio</td>\n",
        "      <td> TX</td>\n",
        "      <td> 78205</td>\n",
        "      <td>        NaN</td>\n",
        "      <td> 4.532709e+15</td>\n",
        "    </tr>\n",
        "    <tr>\n",
        "      <th>6     </th>\n",
        "      <td> CCCR</td>\n",
        "      <td> CCCR-1cd03e25-39eb-4e82-b362-2f133a9b5e6a</td>\n",
        "      <td>       Burrowes</td>\n",
        "      <td>  Caramella</td>\n",
        "      <td>  Gorbaduc</td>\n",
        "      <td>              1900 Masonic Dr.</td>\n",
        "      <td>          Harlowton</td>\n",
        "      <td> MT</td>\n",
        "      <td> 59036</td>\n",
        "      <td>        NaN</td>\n",
        "      <td> 4.916515e+15</td>\n",
        "    </tr>\n",
        "    <tr>\n",
        "      <th>7     </th>\n",
        "      <td> CCCR</td>\n",
        "      <td> CCCR-63df55f9-baa4-42cd-9baa-76c235d89407</td>\n",
        "      <td> Bolger-Baggins</td>\n",
        "      <td>      Rhoda</td>\n",
        "      <td>     Prima</td>\n",
        "      <td>      4853 Hickory Heights Dr.</td>\n",
        "      <td>            Hanover</td>\n",
        "      <td> MD</td>\n",
        "      <td> 21076</td>\n",
        "      <td>        NaN</td>\n",
        "      <td> 4.556403e+15</td>\n",
        "    </tr>\n",
        "    <tr>\n",
        "      <th>8     </th>\n",
        "      <td> CCCR</td>\n",
        "      <td> CCCR-31dde52e-7d79-495c-a143-724ca1190123</td>\n",
        "      <td>        Lothran</td>\n",
        "      <td>      Malva</td>\n",
        "      <td>   Saradoc</td>\n",
        "      <td>          4776 Freshour Circle</td>\n",
        "      <td>        San Antonio</td>\n",
        "      <td> TX</td>\n",
        "      <td> 78205</td>\n",
        "      <td>        NaN</td>\n",
        "      <td> 4.916588e+15</td>\n",
        "    </tr>\n",
        "    <tr>\n",
        "      <th>9     </th>\n",
        "      <td> CCCR</td>\n",
        "      <td> CCCR-05e49a88-c984-4f05-96f1-995a95a00df0</td>\n",
        "      <td>      Underhill</td>\n",
        "      <td>   Bilcuzal</td>\n",
        "      <td>      Rose</td>\n",
        "      <td>       2274 Sycamore Lake Road</td>\n",
        "      <td>          Sheboygan</td>\n",
        "      <td> WI</td>\n",
        "      <td> 53081</td>\n",
        "      <td>        NaN</td>\n",
        "      <td> 5.112525e+15</td>\n",
        "    </tr>\n",
        "    <tr>\n",
        "      <th>10    </th>\n",
        "      <td> CCCR</td>\n",
        "      <td> CCCR-c5619531-568d-4eb3-9ebb-f3f12338f358</td>\n",
        "      <td>    Smallburrow</td>\n",
        "      <td>    Merimas</td>\n",
        "      <td>     Madoc</td>\n",
        "      <td>         4400 Cherry Camp Road</td>\n",
        "      <td>      Hickory Hills</td>\n",
        "      <td> IL</td>\n",
        "      <td> 60457</td>\n",
        "      <td>        NaN</td>\n",
        "      <td> 4.556459e+15</td>\n",
        "    </tr>\n",
        "    <tr>\n",
        "      <th>11    </th>\n",
        "      <td> CCCR</td>\n",
        "      <td> CCCR-a3ebb825-29c1-4bd1-a9ac-81ed9ad7ac71</td>\n",
        "      <td>    Bracegirdle</td>\n",
        "      <td>     Mentha</td>\n",
        "      <td>    Duenna</td>\n",
        "      <td>              1233 Kuhl Avenue</td>\n",
        "      <td>        Gainesville</td>\n",
        "      <td> GA</td>\n",
        "      <td> 30501</td>\n",
        "      <td>        NaN</td>\n",
        "      <td> 5.290510e+15</td>\n",
        "    </tr>\n",
        "    <tr>\n",
        "      <th>12    </th>\n",
        "      <td> CCCR</td>\n",
        "      <td> CCCR-14b3a7e2-811e-4082-907d-addc579ce0da</td>\n",
        "      <td>     Sandheaver</td>\n",
        "      <td>     Fulvus</td>\n",
        "      <td>  Heribald</td>\n",
        "      <td>            3200 Hannah Street</td>\n",
        "      <td>           Franklin</td>\n",
        "      <td> NC</td>\n",
        "      <td> 28734</td>\n",
        "      <td>        NaN</td>\n",
        "      <td> 4.716486e+15</td>\n",
        "    </tr>\n",
        "    <tr>\n",
        "      <th>13    </th>\n",
        "      <td> CCCR</td>\n",
        "      <td> CCCR-04f654ea-6336-4eca-a9b0-3f5ce6f2ddc4</td>\n",
        "      <td>     Sandheaver</td>\n",
        "      <td>   Scudamor</td>\n",
        "      <td>     Bungo</td>\n",
        "      <td>       3233 Summit Park Avenue</td>\n",
        "      <td>            Detroit</td>\n",
        "      <td> MI</td>\n",
        "      <td> 48226</td>\n",
        "      <td>        NaN</td>\n",
        "      <td> 4.556638e+15</td>\n",
        "    </tr>\n",
        "    <tr>\n",
        "      <th>14    </th>\n",
        "      <td> CCCR</td>\n",
        "      <td> CCCR-b06b7744-0b35-4bca-b5de-5d70f9e4df89</td>\n",
        "      <td>         Rumble</td>\n",
        "      <td>    Primula</td>\n",
        "      <td>    Brutus</td>\n",
        "      <td>              2204 Adonais Way</td>\n",
        "      <td>             Canton</td>\n",
        "      <td> GA</td>\n",
        "      <td> 30114</td>\n",
        "      <td>        NaN</td>\n",
        "      <td> 5.355393e+15</td>\n",
        "    </tr>\n",
        "    <tr>\n",
        "      <th>15    </th>\n",
        "      <td> CCCR</td>\n",
        "      <td> CCCR-c43a3f1c-075e-4ee9-a9e8-92bf2f8bd9f0</td>\n",
        "      <td>        Mugwort</td>\n",
        "      <td>    Fastred</td>\n",
        "      <td>    Cerdic</td>\n",
        "      <td>       1406 Sycamore Lake Road</td>\n",
        "      <td>          Green Bay</td>\n",
        "      <td> WI</td>\n",
        "      <td> 54302</td>\n",
        "      <td>        NaN</td>\n",
        "      <td> 4.532741e+15</td>\n",
        "    </tr>\n",
        "    <tr>\n",
        "      <th>16    </th>\n",
        "      <td> CCCR</td>\n",
        "      <td> CCCR-675d0c7a-b0ab-44f2-a5ee-ee96fbd3a812</td>\n",
        "      <td>          Chubb</td>\n",
        "      <td>   Gundobad</td>\n",
        "      <td>    Regina</td>\n",
        "      <td>             577 Joseph Street</td>\n",
        "      <td>         Brookfield</td>\n",
        "      <td> WI</td>\n",
        "      <td> 53005</td>\n",
        "      <td>        NaN</td>\n",
        "      <td> 4.532030e+15</td>\n",
        "    </tr>\n",
        "    <tr>\n",
        "      <th>17    </th>\n",
        "      <td> CCCR</td>\n",
        "      <td> CCCR-f417d429-d851-4c23-a88c-7df8d742098e</td>\n",
        "      <td>         Rumble</td>\n",
        "      <td>    Estella</td>\n",
        "      <td>   Yolanda</td>\n",
        "      <td>                2436 Adams Dr.</td>\n",
        "      <td>            Houston</td>\n",
        "      <td> TX</td>\n",
        "      <td> 77002</td>\n",
        "      <td>        NaN</td>\n",
        "      <td> 5.225559e+15</td>\n",
        "    </tr>\n",
        "    <tr>\n",
        "      <th>18    </th>\n",
        "      <td> CCCR</td>\n",
        "      <td> CCCR-a573a05a-b903-4406-a7be-e4686ea043a1</td>\n",
        "      <td>     Clayhanger</td>\n",
        "      <td>     Haiduc</td>\n",
        "      <td>      Dora</td>\n",
        "      <td>             4132 Baker Avenue</td>\n",
        "      <td>         Fort Worth</td>\n",
        "      <td> TX</td>\n",
        "      <td> 76102</td>\n",
        "      <td>        NaN</td>\n",
        "      <td> 5.427927e+15</td>\n",
        "    </tr>\n",
        "    <tr>\n",
        "      <th>19    </th>\n",
        "      <td> CCCR</td>\n",
        "      <td> CCCR-5b122add-c3a2-4768-a483-3283f9151487</td>\n",
        "      <td>        Mugwort</td>\n",
        "      <td>    Crispus</td>\n",
        "      <td>      Sago</td>\n",
        "      <td>             978 Summit Street</td>\n",
        "      <td>          Wheatland</td>\n",
        "      <td> IA</td>\n",
        "      <td> 52777</td>\n",
        "      <td>        NaN</td>\n",
        "      <td> 4.716215e+15</td>\n",
        "    </tr>\n",
        "    <tr>\n",
        "      <th>20    </th>\n",
        "      <td> CCCR</td>\n",
        "      <td> CCCR-b9cfce79-2af9-4668-a2e2-30c6bd2942db</td>\n",
        "      <td>      Underhill</td>\n",
        "      <td>   Cornelia</td>\n",
        "      <td>      Iolo</td>\n",
        "      <td>         3027 Stoneybrook Road</td>\n",
        "      <td>              Cocoa</td>\n",
        "      <td> FL</td>\n",
        "      <td> 32922</td>\n",
        "      <td>        NaN</td>\n",
        "      <td> 4.485022e+15</td>\n",
        "    </tr>\n",
        "    <tr>\n",
        "      <th>21    </th>\n",
        "      <td> CCCR</td>\n",
        "      <td> CCCR-79f8eace-caab-493f-93b2-b42076f3c306</td>\n",
        "      <td>          Brown</td>\n",
        "      <td>      Lalia</td>\n",
        "      <td>    Marroc</td>\n",
        "      <td>              524 Oxford Court</td>\n",
        "      <td>       Rolling Fork</td>\n",
        "      <td> MS</td>\n",
        "      <td> 39159</td>\n",
        "      <td>        NaN</td>\n",
        "      <td> 4.716947e+15</td>\n",
        "    </tr>\n",
        "    <tr>\n",
        "      <th>22    </th>\n",
        "      <td> CCCR</td>\n",
        "      <td> CCCR-06b83b0a-821f-4ae8-abc7-2763fc66f402</td>\n",
        "      <td>    Brandagamba</td>\n",
        "      <td>   Gorbaduc</td>\n",
        "      <td>  Gorbaduc</td>\n",
        "      <td>            3204 Primrose Lane</td>\n",
        "      <td>            Madison</td>\n",
        "      <td> WI</td>\n",
        "      <td> 53703</td>\n",
        "      <td>        NaN</td>\n",
        "      <td> 5.216371e+15</td>\n",
        "    </tr>\n",
        "    <tr>\n",
        "      <th>23    </th>\n",
        "      <td> CCCR</td>\n",
        "      <td> CCCR-be29a9da-54fc-4591-807c-0cc20f4bea5b</td>\n",
        "      <td>        Lothran</td>\n",
        "      <td>       Nina</td>\n",
        "      <td>   Folcard</td>\n",
        "      <td>           2235 Cedarstone Dr.</td>\n",
        "      <td>             Toledo</td>\n",
        "      <td> OH</td>\n",
        "      <td> 43613</td>\n",
        "      <td>        NaN</td>\n",
        "      <td> 4.532494e+15</td>\n",
        "    </tr>\n",
        "    <tr>\n",
        "      <th>24    </th>\n",
        "      <td> CCCR</td>\n",
        "      <td> CCCR-180e77c7-43b1-4ab3-a9f2-03c80f0bbaed</td>\n",
        "      <td>     Clayhanger</td>\n",
        "      <td>     Cotman</td>\n",
        "      <td>  Marigold</td>\n",
        "      <td>             2100 Kimberly Way</td>\n",
        "      <td>             Boston</td>\n",
        "      <td> MA</td>\n",
        "      <td>  2107</td>\n",
        "      <td>        NaN</td>\n",
        "      <td> 5.277609e+15</td>\n",
        "    </tr>\n",
        "    <tr>\n",
        "      <th>25    </th>\n",
        "      <td> CCCR</td>\n",
        "      <td> CCCR-136d2f99-7f80-46c4-8521-71aa810a9fce</td>\n",
        "      <td>        Labingi</td>\n",
        "      <td>   Amethyst</td>\n",
        "      <td>    Nahand</td>\n",
        "      <td>           2700 Bloomfield Way</td>\n",
        "      <td>       Roxbury Pond</td>\n",
        "      <td> ME</td>\n",
        "      <td>  4275</td>\n",
        "      <td>        NaN</td>\n",
        "      <td> 4.929956e+15</td>\n",
        "    </tr>\n",
        "    <tr>\n",
        "      <th>26    </th>\n",
        "      <td> CCCR</td>\n",
        "      <td> CCCR-b3bf2110-f7fb-4850-a4b3-ed8ad8f5fc2d</td>\n",
        "      <td>          Grubb</td>\n",
        "      <td>       Nina</td>\n",
        "      <td>      Polo</td>\n",
        "      <td>               1343 Bailey Dr.</td>\n",
        "      <td>       Cedar Rapids</td>\n",
        "      <td> IA</td>\n",
        "      <td> 52404</td>\n",
        "      <td>        NaN</td>\n",
        "      <td> 5.435086e+15</td>\n",
        "    </tr>\n",
        "    <tr>\n",
        "      <th>27    </th>\n",
        "      <td> CCCR</td>\n",
        "      <td> CCCR-da8d213a-8d18-4838-b794-5a9f3f303ba1</td>\n",
        "      <td>        Oldbuck</td>\n",
        "      <td>     Bildat</td>\n",
        "      <td>   Trahand</td>\n",
        "      <td>           653 Woodbridge Lane</td>\n",
        "      <td>           Dearborn</td>\n",
        "      <td> MI</td>\n",
        "      <td> 48126</td>\n",
        "      <td>        NaN</td>\n",
        "      <td> 5.419770e+15</td>\n",
        "    </tr>\n",
        "    <tr>\n",
        "      <th>28    </th>\n",
        "      <td> CCCR</td>\n",
        "      <td> CCCR-fd65a5d4-7b6e-49d0-9546-4c6551011546</td>\n",
        "      <td>      Gawkroger</td>\n",
        "      <td>       Nina</td>\n",
        "      <td>   Primula</td>\n",
        "      <td>          2196 Delaware Avenue</td>\n",
        "      <td>      San Francisco</td>\n",
        "      <td> CA</td>\n",
        "      <td> 94112</td>\n",
        "      <td>        NaN</td>\n",
        "      <td> 4.929960e+15</td>\n",
        "    </tr>\n",
        "    <tr>\n",
        "      <th>29    </th>\n",
        "      <td> CCCR</td>\n",
        "      <td> CCCR-2fde1728-6331-4d5b-8f34-e0be2344c6d8</td>\n",
        "      <td>      Lightfoot</td>\n",
        "      <td>      Drogo</td>\n",
        "      <td>  Isembold</td>\n",
        "      <td>              1205 Laurel Lane</td>\n",
        "      <td>             Odessa</td>\n",
        "      <td> TX</td>\n",
        "      <td> 79761</td>\n",
        "      <td>        NaN</td>\n",
        "      <td> 4.929714e+15</td>\n",
        "    </tr>\n",
        "    <tr>\n",
        "      <th>...</th>\n",
        "      <td>...</td>\n",
        "      <td>...</td>\n",
        "      <td>...</td>\n",
        "      <td>...</td>\n",
        "      <td>...</td>\n",
        "      <td>...</td>\n",
        "      <td>...</td>\n",
        "      <td>...</td>\n",
        "      <td>...</td>\n",
        "      <td>...</td>\n",
        "      <td>...</td>\n",
        "    </tr>\n",
        "    <tr>\n",
        "      <th>345957</th>\n",
        "      <td>   WP</td>\n",
        "      <td>   WP-16ee017d-0bf1-40db-ae3d-7da8444086e7</td>\n",
        "      <td>       Tunnelly</td>\n",
        "      <td>          M</td>\n",
        "      <td>    Tobold</td>\n",
        "      <td>        4325 Flinderation Road</td>\n",
        "      <td>        Bensenville</td>\n",
        "      <td> IL</td>\n",
        "      <td> 60106</td>\n",
        "      <td> 7083166648</td>\n",
        "      <td>          NaN</td>\n",
        "    </tr>\n",
        "    <tr>\n",
        "      <th>345958</th>\n",
        "      <td>   WP</td>\n",
        "      <td>   WP-7f9f6f2f-31f6-4966-a337-5a36278a3c6e</td>\n",
        "      <td>          Grubb</td>\n",
        "      <td>          D</td>\n",
        "      <td>    Mentha</td>\n",
        "      <td>            1994 Perine Street</td>\n",
        "      <td>             Mclean</td>\n",
        "      <td> VA</td>\n",
        "      <td> 22101</td>\n",
        "      <td> 7037607173</td>\n",
        "      <td>          NaN</td>\n",
        "    </tr>\n",
        "    <tr>\n",
        "      <th>345959</th>\n",
        "      <td>   WP</td>\n",
        "      <td>   WP-87214413-ced1-44ec-a21b-42260afff97e</td>\n",
        "      <td>        Gardner</td>\n",
        "      <td>          M</td>\n",
        "      <td>   Diamond</td>\n",
        "      <td>              4307 East Avenue</td>\n",
        "      <td>            Phoenix</td>\n",
        "      <td> AZ</td>\n",
        "      <td> 85003</td>\n",
        "      <td> 4802363873</td>\n",
        "      <td>          NaN</td>\n",
        "    </tr>\n",
        "    <tr>\n",
        "      <th>345960</th>\n",
        "      <td>   WP</td>\n",
        "      <td>   WP-dda38340-6676-42c5-b8e3-334ee63da472</td>\n",
        "      <td>     Brockhouse</td>\n",
        "      <td>          P</td>\n",
        "      <td>   Hamfast</td>\n",
        "      <td>            2587 Valley Street</td>\n",
        "      <td>             Camden</td>\n",
        "      <td> NJ</td>\n",
        "      <td>  8102</td>\n",
        "      <td> 8567801309</td>\n",
        "      <td>          NaN</td>\n",
        "    </tr>\n",
        "    <tr>\n",
        "      <th>345961</th>\n",
        "      <td>   WP</td>\n",
        "      <td>   WP-c6dde138-7918-4b5c-a8c5-d6da697aa9e6</td>\n",
        "      <td>       Goodbody</td>\n",
        "      <td>          G</td>\n",
        "      <td>  Diamanda</td>\n",
        "      <td>          1444 Franklin Avenue</td>\n",
        "      <td>           Flatonia</td>\n",
        "      <td> TX</td>\n",
        "      <td> 78941</td>\n",
        "      <td> 3618656811</td>\n",
        "      <td>          NaN</td>\n",
        "    </tr>\n",
        "    <tr>\n",
        "      <th>345962</th>\n",
        "      <td>   WP</td>\n",
        "      <td>   WP-222691d9-82b0-48e5-ad59-1bebcbd96bd8</td>\n",
        "      <td> Bolger-Baggins</td>\n",
        "      <td>          E</td>\n",
        "      <td>   Trahand</td>\n",
        "      <td>            287 Bedford Street</td>\n",
        "      <td>          New Haven</td>\n",
        "      <td> CT</td>\n",
        "      <td>  6511</td>\n",
        "      <td> 2039474092</td>\n",
        "      <td>          NaN</td>\n",
        "    </tr>\n",
        "    <tr>\n",
        "      <th>345963</th>\n",
        "      <td>   WP</td>\n",
        "      <td>   WP-535dce8f-15bc-4d67-ace3-e600e401c7eb</td>\n",
        "      <td>       Galbassi</td>\n",
        "      <td>          C</td>\n",
        "      <td>    Mimosa</td>\n",
        "      <td>           4113 Oliverio Drive</td>\n",
        "      <td>            Toronto</td>\n",
        "      <td> KS</td>\n",
        "      <td> 66777</td>\n",
        "      <td> 6206373730</td>\n",
        "      <td>          NaN</td>\n",
        "    </tr>\n",
        "    <tr>\n",
        "      <th>345964</th>\n",
        "      <td>   WP</td>\n",
        "      <td>   WP-2ae7246d-fcd9-44e4-9a91-a833a46ba874</td>\n",
        "      <td>         Hogpen</td>\n",
        "      <td>          B</td>\n",
        "      <td>   Lobelia</td>\n",
        "      <td>         3595 Doe Meadow Drive</td>\n",
        "      <td> Annapolis Junction</td>\n",
        "      <td> MD</td>\n",
        "      <td> 20701</td>\n",
        "      <td> 3015121937</td>\n",
        "      <td>          NaN</td>\n",
        "    </tr>\n",
        "    <tr>\n",
        "      <th>345965</th>\n",
        "      <td>   WP</td>\n",
        "      <td>   WP-6ac796e6-4412-47e0-96d4-140ee71e8053</td>\n",
        "      <td>        Gardner</td>\n",
        "      <td>          C</td>\n",
        "      <td>    Bildad</td>\n",
        "      <td>    2115 Roosevelt Wilson Lane</td>\n",
        "      <td>          Riverside</td>\n",
        "      <td> CA</td>\n",
        "      <td> 92501</td>\n",
        "      <td> 9098073938</td>\n",
        "      <td>          NaN</td>\n",
        "    </tr>\n",
        "    <tr>\n",
        "      <th>345966</th>\n",
        "      <td>   WP</td>\n",
        "      <td>   WP-c21d3229-5634-460c-861b-e595df230756</td>\n",
        "      <td>         Hogpen</td>\n",
        "      <td>          M</td>\n",
        "      <td>   Celedor</td>\n",
        "      <td>     4525 Science Center Drive</td>\n",
        "      <td>           Bancroft</td>\n",
        "      <td> ID</td>\n",
        "      <td> 83217</td>\n",
        "      <td> 2086480342</td>\n",
        "      <td>          NaN</td>\n",
        "    </tr>\n",
        "    <tr>\n",
        "      <th>345967</th>\n",
        "      <td>   WP</td>\n",
        "      <td>   WP-d62a5173-08c6-4f7c-9fca-9dfe05027c60</td>\n",
        "      <td>  Chubb-Baggins</td>\n",
        "      <td>          M</td>\n",
        "      <td>      Nibs</td>\n",
        "      <td>            534 Geraldine Lane</td>\n",
        "      <td>           New York</td>\n",
        "      <td> NY</td>\n",
        "      <td> 10016</td>\n",
        "      <td> 6463760646</td>\n",
        "      <td>          NaN</td>\n",
        "    </tr>\n",
        "    <tr>\n",
        "      <th>345968</th>\n",
        "      <td>   WP</td>\n",
        "      <td>   WP-8be0e634-4c9d-435a-842b-89aad074f9d9</td>\n",
        "      <td>         Bolger</td>\n",
        "      <td>          P</td>\n",
        "      <td>    Bladud</td>\n",
        "      <td>              2141 Meadow Lane</td>\n",
        "      <td>               Napa</td>\n",
        "      <td> CA</td>\n",
        "      <td> 94559</td>\n",
        "      <td> 7072582021</td>\n",
        "      <td>          NaN</td>\n",
        "    </tr>\n",
        "    <tr>\n",
        "      <th>345969</th>\n",
        "      <td>   WP</td>\n",
        "      <td>   WP-7e51c07d-5b04-4a4e-ac7b-875a5d1c11f0</td>\n",
        "      <td>         Boffin</td>\n",
        "      <td>          G</td>\n",
        "      <td>     Laura</td>\n",
        "      <td> 1795 Emily Renzelli Boulevard</td>\n",
        "      <td>           Monterey</td>\n",
        "      <td> CA</td>\n",
        "      <td> 95940</td>\n",
        "      <td> 8316433642</td>\n",
        "      <td>          NaN</td>\n",
        "    </tr>\n",
        "    <tr>\n",
        "      <th>345970</th>\n",
        "      <td>   WP</td>\n",
        "      <td>   WP-f0be5d05-be78-42e9-950b-1f925f3f6a57</td>\n",
        "      <td>        Gardner</td>\n",
        "      <td>          J</td>\n",
        "      <td>     Mungo</td>\n",
        "      <td>          1924 Nicholas Street</td>\n",
        "      <td>             Topeka</td>\n",
        "      <td> KS</td>\n",
        "      <td> 66607</td>\n",
        "      <td> 7852942100</td>\n",
        "      <td>          NaN</td>\n",
        "    </tr>\n",
        "    <tr>\n",
        "      <th>345971</th>\n",
        "      <td>   WP</td>\n",
        "      <td>   WP-b613e0d4-33a5-4ec4-99da-cc7213db7036</td>\n",
        "      <td>       Burrowes</td>\n",
        "      <td>          C</td>\n",
        "      <td>  Meriadoc</td>\n",
        "      <td>          2181 Strother Street</td>\n",
        "      <td>         Birmingham</td>\n",
        "      <td> AL</td>\n",
        "      <td> 35209</td>\n",
        "      <td> 2055728133</td>\n",
        "      <td>          NaN</td>\n",
        "    </tr>\n",
        "    <tr>\n",
        "      <th>345972</th>\n",
        "      <td>   WP</td>\n",
        "      <td>   WP-729b43ab-75f3-413c-be3e-cd32a95afed6</td>\n",
        "      <td>      Brownlock</td>\n",
        "      <td>          H</td>\n",
        "      <td> Donnamira</td>\n",
        "      <td>             1169 College View</td>\n",
        "      <td>         Louisville</td>\n",
        "      <td> IL</td>\n",
        "      <td> 62858</td>\n",
        "      <td> 6186650306</td>\n",
        "      <td>          NaN</td>\n",
        "    </tr>\n",
        "    <tr>\n",
        "      <th>345973</th>\n",
        "      <td>   WP</td>\n",
        "      <td>   WP-f055b9e8-4776-44fa-9174-fdf59b727c70</td>\n",
        "      <td>          Bunce</td>\n",
        "      <td>          A</td>\n",
        "      <td>  Goodwill</td>\n",
        "      <td>            1917 Willis Avenue</td>\n",
        "      <td>        Port Orange</td>\n",
        "      <td> FL</td>\n",
        "      <td> 32129</td>\n",
        "      <td> 3863416365</td>\n",
        "      <td>          NaN</td>\n",
        "    </tr>\n",
        "    <tr>\n",
        "      <th>345974</th>\n",
        "      <td>   WP</td>\n",
        "      <td>   WP-8ac1385b-a370-4359-9100-5a6ed7b25223</td>\n",
        "      <td>       Longhole</td>\n",
        "      <td>          M</td>\n",
        "      <td>     Porro</td>\n",
        "      <td>           4862 Stonecoal Road</td>\n",
        "      <td>           Napoleon</td>\n",
        "      <td> OH</td>\n",
        "      <td> 43545</td>\n",
        "      <td> 4195981717</td>\n",
        "      <td>          NaN</td>\n",
        "    </tr>\n",
        "    <tr>\n",
        "      <th>345975</th>\n",
        "      <td>   WP</td>\n",
        "      <td>   WP-30fcbef1-6d86-4aae-b572-bee819b79287</td>\n",
        "      <td>         Diggle</td>\n",
        "      <td>          M</td>\n",
        "      <td>  Tombur\u00e4n</td>\n",
        "      <td>           3277 Hickman Street</td>\n",
        "      <td>         Schaumburg</td>\n",
        "      <td> IL</td>\n",
        "      <td> 60173</td>\n",
        "      <td> 6305075559</td>\n",
        "      <td>          NaN</td>\n",
        "    </tr>\n",
        "    <tr>\n",
        "      <th>345976</th>\n",
        "      <td>   WP</td>\n",
        "      <td>   WP-0606e81a-a28e-4e63-b8fb-05dd27641516</td>\n",
        "      <td>         Rumble</td>\n",
        "      <td>          L</td>\n",
        "      <td>     Arnor</td>\n",
        "      <td>              4032 Watson Lane</td>\n",
        "      <td>            Brevard</td>\n",
        "      <td> NC</td>\n",
        "      <td> 28712</td>\n",
        "      <td> 8288773341</td>\n",
        "      <td>          NaN</td>\n",
        "    </tr>\n",
        "    <tr>\n",
        "      <th>345977</th>\n",
        "      <td>   WP</td>\n",
        "      <td>   WP-4e96d812-4bde-4188-98f7-29269442cd16</td>\n",
        "      <td>      Underhill</td>\n",
        "      <td>          P</td>\n",
        "      <td>     Rowan</td>\n",
        "      <td>              1872 Blair Court</td>\n",
        "      <td>        Kansas City</td>\n",
        "      <td> MO</td>\n",
        "      <td> 64106</td>\n",
        "      <td> 6605539682</td>\n",
        "      <td>          NaN</td>\n",
        "    </tr>\n",
        "    <tr>\n",
        "      <th>345978</th>\n",
        "      <td>   WP</td>\n",
        "      <td>   WP-d89f2d10-54a5-4bea-940c-f5b2d27ea52e</td>\n",
        "      <td>         Button</td>\n",
        "      <td>          H</td>\n",
        "      <td>  Semolina</td>\n",
        "      <td>             3397 Ashmor Drive</td>\n",
        "      <td>           Moorhead</td>\n",
        "      <td> MN</td>\n",
        "      <td> 56560</td>\n",
        "      <td> 2182847836</td>\n",
        "      <td>          NaN</td>\n",
        "    </tr>\n",
        "    <tr>\n",
        "      <th>345979</th>\n",
        "      <td>   WP</td>\n",
        "      <td>   WP-b39ee4a3-daf9-4606-b2b8-dd3bfa3ec4a9</td>\n",
        "      <td>         Diggle</td>\n",
        "      <td>          B</td>\n",
        "      <td>     Maura</td>\n",
        "      <td>               2567 Mesa Drive</td>\n",
        "      <td>          Las Vegas</td>\n",
        "      <td> NV</td>\n",
        "      <td> 89101</td>\n",
        "      <td> 7023661867</td>\n",
        "      <td>          NaN</td>\n",
        "    </tr>\n",
        "    <tr>\n",
        "      <th>345980</th>\n",
        "      <td>   WP</td>\n",
        "      <td>   WP-af87836f-d4f4-4800-ad69-80a148487fb3</td>\n",
        "      <td>      Brownlock</td>\n",
        "      <td>          N</td>\n",
        "      <td>     Bingo</td>\n",
        "      <td>              574 Frank Avenue</td>\n",
        "      <td>        Springfield</td>\n",
        "      <td> MA</td>\n",
        "      <td>  1103</td>\n",
        "      <td> 4132136628</td>\n",
        "      <td>          NaN</td>\n",
        "    </tr>\n",
        "    <tr>\n",
        "      <th>345981</th>\n",
        "      <td>   WP</td>\n",
        "      <td>   WP-0a9a812e-a3ee-443a-978e-ee40cd02894a</td>\n",
        "      <td>        Lothran</td>\n",
        "      <td>          P</td>\n",
        "      <td> Celendine</td>\n",
        "      <td>             1804 Thrash Trail</td>\n",
        "      <td>          Palestine</td>\n",
        "      <td> TX</td>\n",
        "      <td> 12345</td>\n",
        "      <td> 9036618203</td>\n",
        "      <td>          NaN</td>\n",
        "    </tr>\n",
        "    <tr>\n",
        "      <th>345982</th>\n",
        "      <td>   WP</td>\n",
        "      <td>   WP-95d9d057-d759-4564-94e1-85a4e074fb8f</td>\n",
        "      <td>      Took-Took</td>\n",
        "      <td>          B</td>\n",
        "      <td>      Bell</td>\n",
        "      <td>             3920 Green Avenue</td>\n",
        "      <td>             Dublin</td>\n",
        "      <td> CA</td>\n",
        "      <td> 94568</td>\n",
        "      <td> 5107727386</td>\n",
        "      <td>          NaN</td>\n",
        "    </tr>\n",
        "    <tr>\n",
        "      <th>345983</th>\n",
        "      <td>   WP</td>\n",
        "      <td>   WP-51412d60-b336-4b14-a870-401781a38f75</td>\n",
        "      <td>    Bracegirdle</td>\n",
        "      <td>          B</td>\n",
        "      <td>    Elanor</td>\n",
        "      <td>             4505 Terra Street</td>\n",
        "      <td>          Vancouver</td>\n",
        "      <td> WA</td>\n",
        "      <td> 98662</td>\n",
        "      <td> 3603568832</td>\n",
        "      <td>          NaN</td>\n",
        "    </tr>\n",
        "    <tr>\n",
        "      <th>345984</th>\n",
        "      <td>   WP</td>\n",
        "      <td>   WP-732be41c-6188-4af9-ab5b-cf8d5a132cb4</td>\n",
        "      <td>        Baggins</td>\n",
        "      <td>          S</td>\n",
        "      <td>      Will</td>\n",
        "      <td>      2283 Highland View Drive</td>\n",
        "      <td>          Roseville</td>\n",
        "      <td> CA</td>\n",
        "      <td> 95678</td>\n",
        "      <td> 9166265002</td>\n",
        "      <td>          NaN</td>\n",
        "    </tr>\n",
        "    <tr>\n",
        "      <th>345985</th>\n",
        "      <td>   WP</td>\n",
        "      <td>   WP-fab08fa6-3a43-43c8-97cf-551b34bb2e8d</td>\n",
        "      <td>      Zaragamba</td>\n",
        "      <td>          G</td>\n",
        "      <td>    Cotman</td>\n",
        "      <td>        2587 University Street</td>\n",
        "      <td>            Seattle</td>\n",
        "      <td> WA</td>\n",
        "      <td> 98119</td>\n",
        "      <td> 2063763405</td>\n",
        "      <td>          NaN</td>\n",
        "    </tr>\n",
        "    <tr>\n",
        "      <th>345986</th>\n",
        "      <td>   WP</td>\n",
        "      <td>   WP-b562293e-1a50-40f1-a5c8-23732938a2b8</td>\n",
        "      <td>       Longhole</td>\n",
        "      <td>          P</td>\n",
        "      <td>       Bob</td>\n",
        "      <td>           2499 College Street</td>\n",
        "      <td>            Atlanta</td>\n",
        "      <td> GA</td>\n",
        "      <td> 30303</td>\n",
        "      <td> 4043849805</td>\n",
        "      <td>          NaN</td>\n",
        "    </tr>\n",
        "  </tbody>\n",
        "</table>\n",
        "<p>345987 rows \u00d7 11 columns</p>\n",
        "</div>"
       ],
       "metadata": {},
       "output_type": "pyout",
       "prompt_number": 31,
       "text": [
        "       Source                                       GUID        LastName  \\\n",
        "0        CCCR  CCCR-a57685ee-ba9f-4bfb-b2f6-f179b693ee12      Brandybuck   \n",
        "1        CCCR  CCCR-ac908031-33b2-4ea1-816b-7c79a67827d2         Oldbuck   \n",
        "2        CCCR  CCCR-2cd29e42-accf-4b59-9b6a-b161c5c67767       Lightfoot   \n",
        "3        CCCR  CCCR-9bc0967c-9c15-4b4a-beca-76627bfb0a8d        Galbassi   \n",
        "4        CCCR  CCCR-139fe488-47f6-484e-a1d3-cf433a78b6cc        Whitfoot   \n",
        "5        CCCR  CCCR-8556c24f-8edd-47ba-af50-e12b9a4b8f5f             Tuk   \n",
        "6        CCCR  CCCR-1cd03e25-39eb-4e82-b362-2f133a9b5e6a        Burrowes   \n",
        "7        CCCR  CCCR-63df55f9-baa4-42cd-9baa-76c235d89407  Bolger-Baggins   \n",
        "8        CCCR  CCCR-31dde52e-7d79-495c-a143-724ca1190123         Lothran   \n",
        "9        CCCR  CCCR-05e49a88-c984-4f05-96f1-995a95a00df0       Underhill   \n",
        "10       CCCR  CCCR-c5619531-568d-4eb3-9ebb-f3f12338f358     Smallburrow   \n",
        "11       CCCR  CCCR-a3ebb825-29c1-4bd1-a9ac-81ed9ad7ac71     Bracegirdle   \n",
        "12       CCCR  CCCR-14b3a7e2-811e-4082-907d-addc579ce0da      Sandheaver   \n",
        "13       CCCR  CCCR-04f654ea-6336-4eca-a9b0-3f5ce6f2ddc4      Sandheaver   \n",
        "14       CCCR  CCCR-b06b7744-0b35-4bca-b5de-5d70f9e4df89          Rumble   \n",
        "15       CCCR  CCCR-c43a3f1c-075e-4ee9-a9e8-92bf2f8bd9f0         Mugwort   \n",
        "16       CCCR  CCCR-675d0c7a-b0ab-44f2-a5ee-ee96fbd3a812           Chubb   \n",
        "17       CCCR  CCCR-f417d429-d851-4c23-a88c-7df8d742098e          Rumble   \n",
        "18       CCCR  CCCR-a573a05a-b903-4406-a7be-e4686ea043a1      Clayhanger   \n",
        "19       CCCR  CCCR-5b122add-c3a2-4768-a483-3283f9151487         Mugwort   \n",
        "20       CCCR  CCCR-b9cfce79-2af9-4668-a2e2-30c6bd2942db       Underhill   \n",
        "21       CCCR  CCCR-79f8eace-caab-493f-93b2-b42076f3c306           Brown   \n",
        "22       CCCR  CCCR-06b83b0a-821f-4ae8-abc7-2763fc66f402     Brandagamba   \n",
        "23       CCCR  CCCR-be29a9da-54fc-4591-807c-0cc20f4bea5b         Lothran   \n",
        "24       CCCR  CCCR-180e77c7-43b1-4ab3-a9f2-03c80f0bbaed      Clayhanger   \n",
        "25       CCCR  CCCR-136d2f99-7f80-46c4-8521-71aa810a9fce         Labingi   \n",
        "26       CCCR  CCCR-b3bf2110-f7fb-4850-a4b3-ed8ad8f5fc2d           Grubb   \n",
        "27       CCCR  CCCR-da8d213a-8d18-4838-b794-5a9f3f303ba1         Oldbuck   \n",
        "28       CCCR  CCCR-fd65a5d4-7b6e-49d0-9546-4c6551011546       Gawkroger   \n",
        "29       CCCR  CCCR-2fde1728-6331-4d5b-8f34-e0be2344c6d8       Lightfoot   \n",
        "...       ...                                        ...             ...   \n",
        "345957     WP    WP-16ee017d-0bf1-40db-ae3d-7da8444086e7        Tunnelly   \n",
        "345958     WP    WP-7f9f6f2f-31f6-4966-a337-5a36278a3c6e           Grubb   \n",
        "345959     WP    WP-87214413-ced1-44ec-a21b-42260afff97e         Gardner   \n",
        "345960     WP    WP-dda38340-6676-42c5-b8e3-334ee63da472      Brockhouse   \n",
        "345961     WP    WP-c6dde138-7918-4b5c-a8c5-d6da697aa9e6        Goodbody   \n",
        "345962     WP    WP-222691d9-82b0-48e5-ad59-1bebcbd96bd8  Bolger-Baggins   \n",
        "345963     WP    WP-535dce8f-15bc-4d67-ace3-e600e401c7eb        Galbassi   \n",
        "345964     WP    WP-2ae7246d-fcd9-44e4-9a91-a833a46ba874          Hogpen   \n",
        "345965     WP    WP-6ac796e6-4412-47e0-96d4-140ee71e8053         Gardner   \n",
        "345966     WP    WP-c21d3229-5634-460c-861b-e595df230756          Hogpen   \n",
        "345967     WP    WP-d62a5173-08c6-4f7c-9fca-9dfe05027c60   Chubb-Baggins   \n",
        "345968     WP    WP-8be0e634-4c9d-435a-842b-89aad074f9d9          Bolger   \n",
        "345969     WP    WP-7e51c07d-5b04-4a4e-ac7b-875a5d1c11f0          Boffin   \n",
        "345970     WP    WP-f0be5d05-be78-42e9-950b-1f925f3f6a57         Gardner   \n",
        "345971     WP    WP-b613e0d4-33a5-4ec4-99da-cc7213db7036        Burrowes   \n",
        "345972     WP    WP-729b43ab-75f3-413c-be3e-cd32a95afed6       Brownlock   \n",
        "345973     WP    WP-f055b9e8-4776-44fa-9174-fdf59b727c70           Bunce   \n",
        "345974     WP    WP-8ac1385b-a370-4359-9100-5a6ed7b25223        Longhole   \n",
        "345975     WP    WP-30fcbef1-6d86-4aae-b572-bee819b79287          Diggle   \n",
        "345976     WP    WP-0606e81a-a28e-4e63-b8fb-05dd27641516          Rumble   \n",
        "345977     WP    WP-4e96d812-4bde-4188-98f7-29269442cd16       Underhill   \n",
        "345978     WP    WP-d89f2d10-54a5-4bea-940c-f5b2d27ea52e          Button   \n",
        "345979     WP    WP-b39ee4a3-daf9-4606-b2b8-dd3bfa3ec4a9          Diggle   \n",
        "345980     WP    WP-af87836f-d4f4-4800-ad69-80a148487fb3       Brownlock   \n",
        "345981     WP    WP-0a9a812e-a3ee-443a-978e-ee40cd02894a         Lothran   \n",
        "345982     WP    WP-95d9d057-d759-4564-94e1-85a4e074fb8f       Took-Took   \n",
        "345983     WP    WP-51412d60-b336-4b14-a870-401781a38f75     Bracegirdle   \n",
        "345984     WP    WP-732be41c-6188-4af9-ab5b-cf8d5a132cb4         Baggins   \n",
        "345985     WP    WP-fab08fa6-3a43-43c8-97cf-551b34bb2e8d       Zaragamba   \n",
        "345986     WP    WP-b562293e-1a50-40f1-a5c8-23732938a2b8        Longhole   \n",
        "\n",
        "        MiddleName  FirstName                         Street  \\\n",
        "0        Donnamira   Gloriana             2719 Pin Oak Drive   \n",
        "1         Columbus       Dina                 2334 Scott St.   \n",
        "2       Belladonna      Bucca                997 Doctors Dr.   \n",
        "3           Fatima   Gundobad        3371 Columbia Boulevard   \n",
        "4          Holfast   Pervinca                340 Pine Street   \n",
        "5         Bercilac       Dina             594 Farland Avenue   \n",
        "6        Caramella   Gorbaduc               1900 Masonic Dr.   \n",
        "7            Rhoda      Prima       4853 Hickory Heights Dr.   \n",
        "8            Malva    Saradoc           4776 Freshour Circle   \n",
        "9         Bilcuzal       Rose        2274 Sycamore Lake Road   \n",
        "10         Merimas      Madoc          4400 Cherry Camp Road   \n",
        "11          Mentha     Duenna               1233 Kuhl Avenue   \n",
        "12          Fulvus   Heribald             3200 Hannah Street   \n",
        "13        Scudamor      Bungo        3233 Summit Park Avenue   \n",
        "14         Primula     Brutus               2204 Adonais Way   \n",
        "15         Fastred     Cerdic        1406 Sycamore Lake Road   \n",
        "16        Gundobad     Regina              577 Joseph Street   \n",
        "17         Estella    Yolanda                 2436 Adams Dr.   \n",
        "18          Haiduc       Dora              4132 Baker Avenue   \n",
        "19         Crispus       Sago              978 Summit Street   \n",
        "20        Cornelia       Iolo          3027 Stoneybrook Road   \n",
        "21           Lalia     Marroc               524 Oxford Court   \n",
        "22        Gorbaduc   Gorbaduc             3204 Primrose Lane   \n",
        "23            Nina    Folcard            2235 Cedarstone Dr.   \n",
        "24          Cotman   Marigold              2100 Kimberly Way   \n",
        "25        Amethyst     Nahand            2700 Bloomfield Way   \n",
        "26            Nina       Polo                1343 Bailey Dr.   \n",
        "27          Bildat    Trahand            653 Woodbridge Lane   \n",
        "28            Nina    Primula           2196 Delaware Avenue   \n",
        "29           Drogo   Isembold               1205 Laurel Lane   \n",
        "...            ...        ...                            ...   \n",
        "345957           M     Tobold         4325 Flinderation Road   \n",
        "345958           D     Mentha             1994 Perine Street   \n",
        "345959           M    Diamond               4307 East Avenue   \n",
        "345960           P    Hamfast             2587 Valley Street   \n",
        "345961           G   Diamanda           1444 Franklin Avenue   \n",
        "345962           E    Trahand             287 Bedford Street   \n",
        "345963           C     Mimosa            4113 Oliverio Drive   \n",
        "345964           B    Lobelia          3595 Doe Meadow Drive   \n",
        "345965           C     Bildad     2115 Roosevelt Wilson Lane   \n",
        "345966           M    Celedor      4525 Science Center Drive   \n",
        "345967           M       Nibs             534 Geraldine Lane   \n",
        "345968           P     Bladud               2141 Meadow Lane   \n",
        "345969           G      Laura  1795 Emily Renzelli Boulevard   \n",
        "345970           J      Mungo           1924 Nicholas Street   \n",
        "345971           C   Meriadoc           2181 Strother Street   \n",
        "345972           H  Donnamira              1169 College View   \n",
        "345973           A   Goodwill             1917 Willis Avenue   \n",
        "345974           M      Porro            4862 Stonecoal Road   \n",
        "345975           M   Tombur\u00e4n            3277 Hickman Street   \n",
        "345976           L      Arnor               4032 Watson Lane   \n",
        "345977           P      Rowan               1872 Blair Court   \n",
        "345978           H   Semolina              3397 Ashmor Drive   \n",
        "345979           B      Maura                2567 Mesa Drive   \n",
        "345980           N      Bingo               574 Frank Avenue   \n",
        "345981           P  Celendine              1804 Thrash Trail   \n",
        "345982           B       Bell              3920 Green Avenue   \n",
        "345983           B     Elanor              4505 Terra Street   \n",
        "345984           S       Will       2283 Highland View Drive   \n",
        "345985           G     Cotman         2587 University Street   \n",
        "345986           P        Bob            2499 College Street   \n",
        "\n",
        "                      City State    Zip       Phone        ID-DOC  \n",
        "0                Manhattan    NY  10018         NaN  5.334857e+15  \n",
        "1            Putnam Valley    NY  10579         NaN  5.334857e+15  \n",
        "2                  Cypress    CA  90630         NaN  4.716838e+15  \n",
        "3                 Elkridge    MD  21227         NaN  5.201066e+15  \n",
        "4                 Portland    PA  97205         NaN  4.929631e+15  \n",
        "5              San Antonio    TX  78205         NaN  4.532709e+15  \n",
        "6                Harlowton    MT  59036         NaN  4.916515e+15  \n",
        "7                  Hanover    MD  21076         NaN  4.556403e+15  \n",
        "8              San Antonio    TX  78205         NaN  4.916588e+15  \n",
        "9                Sheboygan    WI  53081         NaN  5.112525e+15  \n",
        "10           Hickory Hills    IL  60457         NaN  4.556459e+15  \n",
        "11             Gainesville    GA  30501         NaN  5.290510e+15  \n",
        "12                Franklin    NC  28734         NaN  4.716486e+15  \n",
        "13                 Detroit    MI  48226         NaN  4.556638e+15  \n",
        "14                  Canton    GA  30114         NaN  5.355393e+15  \n",
        "15               Green Bay    WI  54302         NaN  4.532741e+15  \n",
        "16              Brookfield    WI  53005         NaN  4.532030e+15  \n",
        "17                 Houston    TX  77002         NaN  5.225559e+15  \n",
        "18              Fort Worth    TX  76102         NaN  5.427927e+15  \n",
        "19               Wheatland    IA  52777         NaN  4.716215e+15  \n",
        "20                   Cocoa    FL  32922         NaN  4.485022e+15  \n",
        "21            Rolling Fork    MS  39159         NaN  4.716947e+15  \n",
        "22                 Madison    WI  53703         NaN  5.216371e+15  \n",
        "23                  Toledo    OH  43613         NaN  4.532494e+15  \n",
        "24                  Boston    MA   2107         NaN  5.277609e+15  \n",
        "25            Roxbury Pond    ME   4275         NaN  4.929956e+15  \n",
        "26            Cedar Rapids    IA  52404         NaN  5.435086e+15  \n",
        "27                Dearborn    MI  48126         NaN  5.419770e+15  \n",
        "28           San Francisco    CA  94112         NaN  4.929960e+15  \n",
        "29                  Odessa    TX  79761         NaN  4.929714e+15  \n",
        "...                    ...   ...    ...         ...           ...  \n",
        "345957         Bensenville    IL  60106  7083166648           NaN  \n",
        "345958              Mclean    VA  22101  7037607173           NaN  \n",
        "345959             Phoenix    AZ  85003  4802363873           NaN  \n",
        "345960              Camden    NJ   8102  8567801309           NaN  \n",
        "345961            Flatonia    TX  78941  3618656811           NaN  \n",
        "345962           New Haven    CT   6511  2039474092           NaN  \n",
        "345963             Toronto    KS  66777  6206373730           NaN  \n",
        "345964  Annapolis Junction    MD  20701  3015121937           NaN  \n",
        "345965           Riverside    CA  92501  9098073938           NaN  \n",
        "345966            Bancroft    ID  83217  2086480342           NaN  \n",
        "345967            New York    NY  10016  6463760646           NaN  \n",
        "345968                Napa    CA  94559  7072582021           NaN  \n",
        "345969            Monterey    CA  95940  8316433642           NaN  \n",
        "345970              Topeka    KS  66607  7852942100           NaN  \n",
        "345971          Birmingham    AL  35209  2055728133           NaN  \n",
        "345972          Louisville    IL  62858  6186650306           NaN  \n",
        "345973         Port Orange    FL  32129  3863416365           NaN  \n",
        "345974            Napoleon    OH  43545  4195981717           NaN  \n",
        "345975          Schaumburg    IL  60173  6305075559           NaN  \n",
        "345976             Brevard    NC  28712  8288773341           NaN  \n",
        "345977         Kansas City    MO  64106  6605539682           NaN  \n",
        "345978            Moorhead    MN  56560  2182847836           NaN  \n",
        "345979           Las Vegas    NV  89101  7023661867           NaN  \n",
        "345980         Springfield    MA   1103  4132136628           NaN  \n",
        "345981           Palestine    TX  12345  9036618203           NaN  \n",
        "345982              Dublin    CA  94568  5107727386           NaN  \n",
        "345983           Vancouver    WA  98662  3603568832           NaN  \n",
        "345984           Roseville    CA  95678  9166265002           NaN  \n",
        "345985             Seattle    WA  98119  2063763405           NaN  \n",
        "345986             Atlanta    GA  30303  4043849805           NaN  \n",
        "\n",
        "[345987 rows x 11 columns]"
       ]
      }
     ],
     "prompt_number": 31
    },
    {
     "cell_type": "code",
     "collapsed": false,
     "input": [
      "print len(edges)\n",
      "print len(new)\n",
      "print len(new2)\n",
      "print len(small_set)"
     ],
     "language": "python",
     "metadata": {},
     "outputs": [
      {
       "output_type": "stream",
       "stream": "stdout",
       "text": [
        "58047\n",
        "58048\n",
        "58049\n",
        "22057\n"
       ]
      }
     ],
     "prompt_number": 219
    },
    {
     "cell_type": "code",
     "collapsed": false,
     "input": [
      "tmp1 = nodes[nodes['GUID'].isin(edges['GUID_1']) & ~(nodes['GUID'].isin(edges['GUID_2']))]\n",
      "tmp2 = nodes[nodes['GUID'].isin(edges['GUID_2']) & ~(nodes['GUID'].isin(edges['GUID_1']))].drop_duplicates()\n",
      "tmp3 = pd.concat([tmp1, tmp2]).drop_duplicates()"
     ],
     "language": "python",
     "metadata": {},
     "outputs": [],
     "prompt_number": 175
    },
    {
     "cell_type": "code",
     "collapsed": false,
     "input": [
      "len(tmp3)"
     ],
     "language": "python",
     "metadata": {},
     "outputs": [
      {
       "metadata": {},
       "output_type": "pyout",
       "prompt_number": 177,
       "text": [
        "66842"
       ]
      }
     ],
     "prompt_number": 177
    },
    {
     "cell_type": "code",
     "collapsed": false,
     "input": [
      "import scipy.io\n",
      "mat = scipy.io.loadmat('C:\\Users\\Shan\\Documents\\GitHub\\\\compressiveSensing\\\\sensingMatrix.mat')"
     ],
     "language": "python",
     "metadata": {},
     "outputs": []
    },
    {
     "cell_type": "code",
     "collapsed": false,
     "input": [
      "from numpy import genfromtxt\n",
      "X = genfromtxt('C:\\Users\\Shan\\Documents\\GitHub\\\\compressiveSensing\\\\regressionX.csv',delimiter=',')\n"
     ],
     "language": "python",
     "metadata": {},
     "outputs": [],
     "prompt_number": 1
    },
    {
     "cell_type": "code",
     "collapsed": false,
     "input": [
      "X"
     ],
     "language": "python",
     "metadata": {},
     "outputs": [
      {
       "metadata": {},
       "output_type": "pyout",
       "prompt_number": 2,
       "text": [
        "array([ -2.52700000e-17,   6.27750000e-01,   0.00000000e+00, ...,\n",
        "         0.00000000e+00,   0.00000000e+00,   0.00000000e+00])"
       ]
      }
     ],
     "prompt_number": 2
    },
    {
     "cell_type": "code",
     "collapsed": false,
     "input": [
      "indices = []\n",
      "for index in range(0,len(X)):\n",
      "    if X[index] != 0:\n",
      "        indices.append(index)"
     ],
     "language": "python",
     "metadata": {},
     "outputs": [],
     "prompt_number": 8
    },
    {
     "cell_type": "code",
     "collapsed": false,
     "input": [
      "len(nodes)"
     ],
     "language": "python",
     "metadata": {},
     "outputs": [
      {
       "metadata": {},
       "output_type": "pyout",
       "prompt_number": 22,
       "text": [
        "13438"
       ]
      }
     ],
     "prompt_number": 22
    },
    {
     "cell_type": "code",
     "collapsed": false,
     "input": [
      "df = pd.DataFrame()\n",
      "for element in indices:\n",
      "#     print nodes_list[element]\n",
      "   df = df.append(original_nodes[original_nodes['GUID'] == nodes.loc[element]['GUID']])\n",
      "#     f.write(str(original_nodes[original_nodes['GUID'] == nodes.loc[element]['GUID']]))\n",
      "#     f.write('\\n')"
     ],
     "language": "python",
     "metadata": {},
     "outputs": [],
     "prompt_number": 35
    },
    {
     "cell_type": "code",
     "collapsed": false,
     "input": [
      "df.to_csv(sep=',',encoding='utf-8')"
     ],
     "language": "python",
     "metadata": {},
     "outputs": [
      {
       "metadata": {},
       "output_type": "pyout",
       "prompt_number": 43,
       "text": [
        "',Source,GUID,LastName,MiddleName,FirstName,Street,City,State,Zip,Phone,ID-DOC\\n10175,CCCR,CCCR-002ff8af-291c-4d15-a5f5-6035cf7428cb,Goold,Olo,Sm\\xc3\\xa9agol,217 Mount Street,Saginaw,MI,48607.0,,4.53916743904e+15\\n10198,CCCR,CCCR-003323ff-a423-45a2-a65b-81dc1efec7c4,Gammidge,Asphodel,Merimas,2274 Radio Park Drive,Atlanta,GA,30303.0,,4.53210234581e+15\\n9758,CCCR,CCCR-02d9a434-b9c6-468c-935e-64435872f1a0,Bunce,Gorbadoc,Robinia,541 Briarwood Drive,Laurel Springs,NJ,8021.0,,4.91606020772e+15\\n22897,CCCR,CCCR-02f46b07-99ad-4449-8b29-ce8d15755f0e,Burrows,Ranugad,Alfrida,2070 Pallet Street,New York,NY,10013.0,9143161051,5.57032115499e+15\\n400,CCCR,CCCR-032aee94-a026-4c3b-86e9-4c12b572fc1e,Boffin,Daisy,Rosamunda,1262 Leo Street,Denver,CO,80202.0,,4.48508155314e+15\\n6180,CCCR,CCCR-03417648-a2b0-4b6f-81cc-f7ca4f2d16e7,Hogpen,Harding,Sadoc,2904 Mcwhorter Road,Jackson,MS,39201.0,,5.5456789049e+15\\n15453,CCCR,CCCR-041b05c6-52ae-4877-ab0e-fbcc91eb79de,Sackville-Baggins,Ruby,Wiseman,2196 Cambridge Court,Fort Smith,AR,72901.0,4797691393,5.24517795261e+15\\n17462,CCCR,CCCR-04bd7f8d-fcaa-405c-80ca-5025531b3275,Bolger-Baggins,Poppy,Mat,3698 Flint Street,Atlanta,GA,30303.0,6782731304,5.11085567017e+15\\n9495,CCCR,CCCR-04de4f3a-9f86-456b-b767-414b51ce4d46,Noakes,Cara,Pearl,858 Hewes Avenue,Baltimore,MD,21201.0,,4.92969051146e+15\\n19996,CCCR,CCCR-063cc71a-46e4-47ec-8925-52e6f3eb63b1,Lightfoot,Jo,Hildifons,3298 Rosewood Lane,New York,NY,10025.0,2129616207,5.49902108508e+15\\n26964,CCCR,CCCR-06e930dd-da55-43b8-a65d-d1d5d29d3938,Took-Took,Lalia,Dina,3971 My Drive,New York,NY,10013.0,3472495220,5.21912210962e+15\\n14662,CCCR,CCCR-08c57af2-444f-47c7-8860-75df24620d6d,Puddifoot,Gormadoc,Peony,2324 Station Street,San Jose,CA,95131.0,5109404560,5.51512129489e+15\\n1385,CCCR,CCCR-08e20a55-8603-4305-8048-0196aecb89ce,Noakes,Nob,Falco,4212 Hilltop Street,Springfield,MA,1103.0,,5.53601214478e+15\\n1436,CCCR,CCCR-09c91ff8-0d20-4997-bc0c-afeca518c5d9,Smallburrow,Semolina,Cara,1526 Cimmaron Road,Los Angeles,CA,90017.0,,4.91617898244e+15\\n13650,CCCR,CCCR-0af55c39-4c66-4fb7-80ee-deb0b2d8574d,Clayhanger,Chilimanzar,Lalia,4051 Washington Street,Corpus Christi,TX,78476.0,3613570778,4.48544634341e+15\\n5477,CCCR,CCCR-0c1c985e-743a-423f-901e-2284cf6744a9,Chubb-Baggins,Robin,Cora,4168 Cessna Drive,Fort Wayne,IN,46802.0,,5.28553797778e+15\\n2812,CCCR,CCCR-0c56336f-9046-468d-a1e8-b3a3b14108e8,Lothran,Menegilda,Wilibald,4415 Tanglewood Road,Jackson,MS,39201.0,,4.55666660154e+15\\n13324,CCCR,CCCR-0ee7b037-eff2-482f-b09a-ef50096937cf,Tunnelly,Erling,Gerontius,95 Columbia Road,Philadelphia,DE,19103.0,3029436769,4.53965794588e+15\\n12560,CCCR,CCCR-0fa63655-29dd-4dec-acc4-d30a5e7dcb80,Goldworthy,Melilot,Drogo,829 Arron Smith Drive,Honolulu,HI,96813.0,,4.55653015101e+15\\n5281,CCCR,CCCR-1224a03d-8204-47dc-913f-2eeef8160ae2,Goldworthy,Mungo,Belinda,4571 Mercer Street,Eau Claire,WI,54701.0,,5.36781628252e+15\\n17816,CCCR,CCCR-129647e7-ead6-47c4-b51b-b9de9585bca9,Smallburrow,Theobald,Mantissa,903 Pleasant Hill Road,Boca Raton,FL,33487.0,5619813591,4.71628378541e+15\\n19837,CCCR,CCCR-12f6fb98-28d6-4ede-a109-61534a58e664,Bolger,Robinia,Tanta,1488 Stonepot Road,Rochelle Park,NJ,7662.0,9084107884,4.53983761577e+15\\n1597,CCCR,CCCR-16998ac4-a95c-4466-9475-4e97b9bfd393,Brandagamba,Tomba,Folcard,3279 Francis Mine,Sacramento,CA,95814.0,,5.50582102392e+15\\n12196,CCCR,CCCR-175e000c-f6f8-4362-a920-f4f6bfae18ac,Brownlock,Poppy,Priamus,4557 Stonepot Road,Newark,NJ,7102.0,,5.18613376952e+15\\n4468,CCCR,CCCR-18350209-4cca-4f8c-af6f-9044992fbae1,Lothran,Dora,Dora,3424 Woodlawn Drive,New Berlin,WI,53151.0,,4.91633611512e+15\\n5253,CCCR,CCCR-197051fc-de40-455d-b7ce-e51e87c5e218,Sackville,Timba,Meneaduc,91 Atha Drive,Bakersfield,CA,93301.0,,4.55618379711e+15\\n19697,CCCR,CCCR-1b555e56-046e-4172-bd89-f612b8ad15d6,Bracegirdle,Falco,Hamfast,1483 Sunrise Road,Henderson,NV,89014.0,7029483508,4.53931232377e+15\\n10834,CCCR,CCCR-1b5f3c88-47e8-4fbd-8753-287de420f5f2,Gamgee,Dodinas,Guido,961 Hoffman Avenue,New York,NY,10007.0,,5.3470679308e+15\\n18154,CCCR,CCCR-1c9ebd1d-5234-457c-bfdd-aefb6c7e7b06,Headstrong,Tolman,Bell,3345 Thompson Street,Los Angeles,CA,90017.0,5626254859,5.36219803863e+15\\n18946,CCCR,CCCR-1f70356b-65d3-432d-88ce-a02b8e1f1ff4,Underhill,Jasmine,Bladud,393 Birch Street,Indianapolis,IN,46204.0,3178221385,4.53952424397e+15\\n2191,CCCR,CCCR-2679980a-1fa5-4e0f-850c-7c8a4c1edcd2,Zaragamba,Pervinca,Lily,3999 Linden Avenue,Orlando,FL,32789.0,,4.48592602812e+15\\n10383,CCCR,CCCR-287589da-2740-44a1-90c7-ed3587b09d15,Zaragamba,Jessamine,Everard,2388 Richland Avenue,Sugar Land,TX,77487.0,,5.31187624839e+15\\n4422,CCCR,CCCR-287ed3b6-815a-41f5-99f4-2dab82deed3c,Gardner,Theobald,Bungo,1293 Spring Avenue,Philadelphia,PA,19108.0,,5.2538216836e+15\\n4164,CCCR,CCCR-287f69b5-590b-445f-946e-1905fc7cb534,Zaragamba,Bildat,Alfrida,4208 Carter Street,Stlouis,IL,63101.0,,5.4321911545e+15\\n11424,CCCR,CCCR-2de59481-94b6-4af4-9b74-03dec6a9269f,Underhill,Reginard,Celedor,2865 Sharon Lane,South Bend,IN,46601.0,,5.51723976812e+15\\n17469,CCCR,CCCR-2ef2922d-59af-482e-9b22-0de1896929d3,Brownlock,Merimac,Saradas,741 Camden Street,Reno,NV,89501.0,7752977640,4.71653448831e+15\\n5023,CCCR,CCCR-303170c5-f918-4f0e-a7d4-782cc42d721b,Greenhand,Hilda,Amalda,3527 Hoffman Avenue,New York,NY,10007.0,,5.1209227223e+15\\n19764,CCCR,CCCR-3117adb0-905a-4923-abc5-7c6c77d23fe5,Diggle,Semolina,Lalia,877 Edsel Road,Los Angeles,CA,90017.0,8183693660,4.53253095562e+15\\n6596,CCCR,CCCR-3424a53e-5737-4e55-8eab-cb455437abe3,Brandagamba,Chica ,Gorbulas,2541 Public Works Drive,Chattanooga,TN,37403.0,,5.31528920431e+15\\n5544,CCCR,CCCR-424d9c34-8f15-4940-b775-84ef28ed35fd,Sandheaver,Mantissa,Belba,4486 Thorn Street,Cheyenne,WY,82001.0,,5.40218220101e+15\\n11612,CCCR,CCCR-4f053446-3c5a-4c2c-992f-32edeec4a1da,Burrowes,Magnus,Gundolpho,1011 Big Indian,Kenner,LA,70062.0,,5.43657701931e+15\\n14517,CCCR,CCCR-5bce4735-aa80-4874-be7b-2f5cbc8a7155,Goodchild,Lalia,Harding,1478 Elk Street,Anaheim,CA,92805.0,9497346117,5.53053634534e+15\\n2387,CCCR,CCCR-5ea50b32-98c6-4b41-b9e9-b5c073002bf5,Greenhand,Jasmine,Basso,4974 Fincham Road,San Diego,CA,92103.0,,4.71641357057e+15\\n12906,CCCR,CCCR-66f98710-7028-4788-ba3c-4038dd6bb0ed,Burrowes,Diamond,Crispus,2548 Granville Lane,Rochelle Park,NJ,7662.0,,4.48551515169e+15\\n14822,CCCR,CCCR-84488d1b-b533-472b-8173-d2903f26f16f,Underhill,Mirabella,Regina,2909 Cerullo Road,Louisville,KY,40202.0,5024670385,5.19379652742e+15\\n14658,CCCR,CCCR-9a5d5d7e-d708-4d0d-822a-e888e0ec6454,Goold,Theodoric,Regina,443 Deans Lane,White Plains,NY,10601.0,9148726796,5.36913713725e+15\\n17054,CCCR,CCCR-ab665a4e-dec9-4682-b37e-cb82f5466bb2,Brownlock,Pansy,Sagramor,4744 Glendale Avenue,North Hollywood,CA,91601.0,8186220321,5.38510248956e+15\\n7100,CCCR,CCCR-b508ce3e-3294-4667-80ae-562644b5c10b,Button,Angelica,Kalimac,245 Tavern Place,Beckley,WV,25801.0,,4.92916115124e+15\\n6535,CCCR,CCCR-c456145a-05b7-4a64-9c57-b466258b3333,Boffin,Bildat,Ranugad,3796 Cody Ridge Road,Guymon,OK,73942.0,,5.36682472388e+15\\n17456,CCCR,CCCR-c679e492-50b0-43b6-bc45-a4d3643a47ff,Twofoot,Estella,Nora ,311 Goldleaf Lane,Newark,NJ,7102.0,2016393793,4.53212472501e+15\\n13505,CCCR,CCCR-e1ec6450-7bbf-4979-8c13-15d533773f6e,Sackville,Hildigrim,Pearl,2711 Alpaca Way,Irvine,CA,92614.0,7147282321,4.48599515135e+15\\n125585,HPA,HPA-09644454-e18b-482c-8762-6cde5a58b04a,Goodchild,,Marcho,Adamsville Road ,Brownsville,TX,78520.0,,\\n108168,HPA,HPA-0df5de5c-806e-4a56-950d-ec653967ce39,Sackville-Baggins,,Chica ,Diane Street ,Goleta,CA,93117.0,,\\n136211,HPA,HPA-175a193b-ea9e-4420-a227-fce31d9762f8,Lothran,,Prima,Wilkinson Court ,Cape Coral,FL,33904.0,,\\n126430,HPA,HPA-20fefd92-c6af-4d03-ae33-42d032b1f9b1,Bolger-Baggins,,Caradoc,Ersel Street ,Dallas,TX,75212.0,,\\n111955,HPA,HPA-22639a0e-b987-4030-9ac4-3a7f0a3b6961,Grubb,,Asphodel,Evergreen Lane ,Los Angeles,CA,90017.0,,\\n100875,HPA,HPA-3ada26e3-a5c6-464c-9408-b7efa8beb323,Tunnelly,,Bellisima,Carolyns Circle ,Dallas,TX,75204.0,,\\n148238,HPA,HPA-3d2f8dd8-83ea-4996-855b-b4fb20235fd6,Gammidge,,Carambo,Carolyns Circle ,Frisco,TX,75034.0,,\\n137301,HPA,HPA-3e10f915-ed08-44f8-bc78-5a0ae91c7479,Brandybuck,,Caramella,Meadow Lane ,San Jose,CA,95134.0,,\\n130648,HPA,HPA-4079eaec-ff91-4886-93b8-93fa6b73f17d,Brandagamba,,Melba,Brentwood Drive ,Austin,TX,78744.0,,\\n102851,HPA,HPA-51b2d9db-3bd2-4483-a700-5afa8fe3c69b,Sackville,,Caramella,Lincoln Drive ,Lititz,PA,17543.0,,\\n112460,HPA,HPA-6d786a22-7928-4980-84ce-b5dc16eac423,Burrowes,,Bellisima,Peck Court ,Laguna Beach,CA,92651.0,,\\n111758,HPA,HPA-76750b1f-1bed-456a-8623-46cb0a617e36,Roper,,Carambo,Koontz Lane ,North Hollywood,CA,91605.0,,\\n144631,HPA,HPA-77125f63-19c1-4443-afcb-3574a728bdd6,Took-Took,,Rosa,Circle Drive ,Houston,TX,77032.0,,\\n100418,HPA,HPA-810c7261-cb25-4568-8cd7-84803d2f5576,Diggle,,Pamphila,Mcwhorter Road ,Jackson,MS,39201.0,,\\n131067,HPA,HPA-90eb4e39-d031-41f2-9afd-fcce39263d36,Took,,Jemima,Brannon Street ,Los Angeles,CA,90014.0,,\\n137726,HPA,HPA-971a57bd-0a17-4bdf-b80b-ef7757f89401,Gardner,,Hildigard,My Drive ,Garden City,NY,11530.0,,\\n100917,HPA,HPA-a42de753-63e8-4584-88e1-fbd960709c87,Tunnelly,,Wilibald,Spinnaker Lane ,Rockford,IL,61101.0,,\\n104089,HPA,HPA-cb969e5e-1ce1-4eb1-8ad1-1facb5f47fd3,Underhill,,Inigo,Tanglewood Road ,Jackson,MS,39201.0,,\\n150462,HR,HR-01357f45-4c5b-40d6-a82a-1136e987555f,,,,2037 Pointe Lane,Hollywood,FL,33020.0,9549245311,\\n166955,HR,HR-02a9fd56-de21-46bd-83f9-3651b9bb53a5,Smallburrow,,,866 Washington Street,Corpus Christi,TX,78476.0,3613783165,\\n166269,HR,HR-0a160a9a-1473-4a91-a8fa-f019250b8dbe,Sackville-Baggins,I,Belinda,3933 Ford Street,San Jose,CA,95131.0,4084346039,\\n162672,HR,HR-0c144f62-6fde-4e83-a974-e543a1517b2e,,,,3986 Sherwood Circle,Lafayette,LA,70506.0,3372463620,\\n166780,HR,HR-0ee91b34-37e4-4b4d-8fc1-13c1dd239b70,Headstrong,,,164 Freed Drive,Stockton,CA,95202.0,2096317794,\\n159241,HR,HR-14e113f4-c21c-4a3a-b576-59f502f6059e,Greenhand,P,Flambard,547 Maple Street,Los Angeles,CA,90017.0,7142913119,\\n150240,HR,HR-1beb9e15-7c20-4bfb-9dba-4c76b6ade1fa,,,,2021 Lodgeville Road,Minneapolis,MN,55402.0,6123188298,\\n157664,HR,HR-1c6a829d-df2a-4b9f-9d63-ccadc86608ce,Sackville,C,Merimas,4378 Sunburst Drive,Fort Myers,FL,33901.0,2394700747,\\n152850,HR,HR-23d92c4d-2068-4990-80f3-d3409c2e59f9,Gawkroger,C,Pippin,265 Bastin Drive,Philadelphia,PA,19103.0,4847583417,\\n167022,HR,HR-2611a185-b197-455e-8d12-84b339d95434,Bolger-Baggins,,,3792 Dovetail Estates,Clinton,OK,73601.0,5809700422,\\n148804,HR,HR-2c413308-a8fc-47ed-8595-47b0e716de14,Bunce,C,Briffo,1705 Crowfield Road,Phoenix,AZ,85018.0,6029128109,\\n156929,HR,HR-2c4d6571-8638-40b0-bb40-4f2c999d30b2,Gawkroger,T,Rowan,4833 Willow Greene Drive,Montgomery,AL,36104.0,3342238747,\\n157831,HR,HR-31091742-9425-4764-916a-282429658f03,Mugwort,S,Jemima,4003 Quarry Drive,Dothan,AL,36303.0,3348055883,\\n164103,HR,HR-38541b18-37de-409a-8876-30c37d403ae2,Rumble,C,Nora ,1524 Southside Lane,Los Angeles,CA,90029.0,3236661218,\\n166926,HR,HR-39139b9e-d401-4cdb-a7dd-52e95e0c11c6,Goldworthy,,,3632 Morris Street,San Antonio,TX,78205.0,8302870587,\\n165331,HR,HR-3a83af63-6669-4f27-aac2-96f3c3014511,Headstrong,P,Toby,1165 Hilltop Haven Drive,Newark,NJ,7102.0,9738053463,\\n156982,HR,HR-47728f5d-100c-4c5f-8740-ce6bcafae9b9,Gardner,J,Wilimar,756 Bridge Street,Tulsa,OK,74120.0,9188730441,\\n161810,HR,HR-4e6f1cf5-6d58-47f7-b04d-dbf23f572ea3,Zaragamba,S,Cora,1028 Tetrick Road,Fort Myers,FL,33901.0,8632304543,\\n155184,HR,HR-4eac94e7-98fa-45fe-868f-cee00f66f51f,Gamgee,M,Salvia,918 Forest Drive,Mclean,VA,22101.0,7038741293,\\n154643,HR,HR-51bd86aa-ade6-49f7-8c8e-6e3aadd59f23,Bolger,P,Vigo,4088 Wood Street,Saginaw,MI,48607.0,9892237275,\\n148720,HR,HR-647cd32c-366e-49f2-87d7-ffa8389188b6,Baggins,M,Marmaduc,212 Emma Street,Lubbock,TX,79401.0,8068312976,\\n164445,HR,HR-6660dbf9-5f4a-4645-b2e1-4363aa99417e,Bolger-Baggins,R,Ferdinand,2062 Delaware Avenue,San Francisco,CA,94108.0,4152965123,\\n155117,HR,HR-6bfc44e9-1fef-47fa-b8f0-40634f6995a1,Chubb-Baggins,M,Hamilcar,3806 Logan Lane,Denver,CO,80202.0,3032848594,\\n150852,HR,HR-6dbc800e-c481-4508-920d-4fab64f53ede,,,,3665 Jarvis Street,Buffalo,NY,14202.0,7168469501,\\n154779,HR,HR-72120324-3d96-4471-9c91-646f5908b63b,Roper,E,Rose,4585 Park Street,Oakland,CA,94612.0,9254257811,\\n165238,HR,HR-7412c9f4-b0b7-4d5c-8b95-8ce410c057ae,Clayhanger,F,Camelia,3834 Retreat Avenue,Birmingham,AL,35203.0,2052790330,\\n160333,HR,HR-89c8dd3b-2d99-42e3-bce6-666a20c9e06b,Gawkroger,T,Cara,4475 Kembery Drive,Lombard,IL,60148.0,6306276747,\\n158900,HR,HR-b13fcad5-613a-42ad-98c3-da8aae47cf95,Sandyman,O,Cornelia,1654 Seth Street,San Angelo,TX,76903.0,3256588731,\\n158843,HR,HR-b22fd740-33aa-4096-9868-44107ecae2ea,Sackville-Baggins,I,Eglantine,4863 Java Lane,Columbia,SC,29201.0,8035404148,\\n158759,HR,HR-e813cfad-ec2c-400d-a65e-a04c206d2195,Gamgee,D,Jo,3926 Kovar Road,Boston,MA,2110.0,5085625034,\\n'"
       ]
      }
     ],
     "prompt_number": 43
    },
    {
     "cell_type": "code",
     "collapsed": false,
     "input": [],
     "language": "python",
     "metadata": {},
     "outputs": []
    }
   ],
   "metadata": {}
  }
 ]
}