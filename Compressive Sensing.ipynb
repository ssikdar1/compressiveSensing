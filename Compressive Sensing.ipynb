{
 "metadata": {
  "name": "",
  "signature": "sha256:021e3fa92db383631fe45ddfc7d692c56154b715151a8e5031d6bc622b3ecd23"
 },
 "nbformat": 3,
 "nbformat_minor": 0,
 "worksheets": [
  {
   "cells": [
    {
     "cell_type": "code",
     "collapsed": false,
     "input": [
      "#all imports here\n",
      "import networkx as nx\n",
      "import pandas as pd\n",
      "import matplotlib.pyplot as plt\n",
      "import numpy as np\n",
      "import difflib"
     ],
     "language": "python",
     "metadata": {},
     "outputs": [],
     "prompt_number": 2
    },
    {
     "cell_type": "code",
     "collapsed": false,
     "input": [
      "#load node table data\n",
      "node_data = pd.read_csv('C:\\Users\\Shan\\Downloads\\CleanednodeTable.csv',low_memory=False)\n",
      "\n",
      "#load the edge data\n",
      "edge_data = pd.read_csv('C:\\Users\\Shan\\Downloads\\CleanededgeTable.csv')\n",
      "\n",
      "print len(node_data)\n",
      "print len(edge_data)"
     ],
     "language": "python",
     "metadata": {},
     "outputs": [
      {
       "output_type": "stream",
       "stream": "stdout",
       "text": [
        "345987\n",
        "58047\n"
       ]
      }
     ],
     "prompt_number": 3
    },
    {
     "cell_type": "code",
     "collapsed": false,
     "input": [
      "node_data.head(4)"
     ],
     "language": "python",
     "metadata": {},
     "outputs": [
      {
       "html": [
        "<div style=\"max-height:1000px;max-width:1500px;overflow:auto;\">\n",
        "<table border=\"1\" class=\"dataframe\">\n",
        "  <thead>\n",
        "    <tr style=\"text-align: right;\">\n",
        "      <th></th>\n",
        "      <th>Source</th>\n",
        "      <th>GUID</th>\n",
        "      <th>LastName</th>\n",
        "      <th>MiddleName</th>\n",
        "      <th>FirstName</th>\n",
        "      <th>Street</th>\n",
        "      <th>City</th>\n",
        "      <th>State</th>\n",
        "      <th>Zip</th>\n",
        "      <th>Phone</th>\n",
        "      <th>ID-DOC</th>\n",
        "    </tr>\n",
        "  </thead>\n",
        "  <tbody>\n",
        "    <tr>\n",
        "      <th>0</th>\n",
        "      <td> CCCR</td>\n",
        "      <td> CCCR-a57685ee-ba9f-4bfb-b2f6-f179b693ee12</td>\n",
        "      <td> Brandybuck</td>\n",
        "      <td>  Donnamira</td>\n",
        "      <td> Gloriana</td>\n",
        "      <td>      2719 Pin Oak Drive</td>\n",
        "      <td>     Manhattan</td>\n",
        "      <td> NY</td>\n",
        "      <td> 10018</td>\n",
        "      <td> NaN</td>\n",
        "      <td> 5.334857e+15</td>\n",
        "    </tr>\n",
        "    <tr>\n",
        "      <th>1</th>\n",
        "      <td> CCCR</td>\n",
        "      <td> CCCR-ac908031-33b2-4ea1-816b-7c79a67827d2</td>\n",
        "      <td>    Oldbuck</td>\n",
        "      <td>   Columbus</td>\n",
        "      <td>     Dina</td>\n",
        "      <td>          2334 Scott St.</td>\n",
        "      <td> Putnam Valley</td>\n",
        "      <td> NY</td>\n",
        "      <td> 10579</td>\n",
        "      <td> NaN</td>\n",
        "      <td> 5.334857e+15</td>\n",
        "    </tr>\n",
        "    <tr>\n",
        "      <th>2</th>\n",
        "      <td> CCCR</td>\n",
        "      <td> CCCR-2cd29e42-accf-4b59-9b6a-b161c5c67767</td>\n",
        "      <td>  Lightfoot</td>\n",
        "      <td> Belladonna</td>\n",
        "      <td>    Bucca</td>\n",
        "      <td>         997 Doctors Dr.</td>\n",
        "      <td>       Cypress</td>\n",
        "      <td> CA</td>\n",
        "      <td> 90630</td>\n",
        "      <td> NaN</td>\n",
        "      <td> 4.716838e+15</td>\n",
        "    </tr>\n",
        "    <tr>\n",
        "      <th>3</th>\n",
        "      <td> CCCR</td>\n",
        "      <td> CCCR-9bc0967c-9c15-4b4a-beca-76627bfb0a8d</td>\n",
        "      <td>   Galbassi</td>\n",
        "      <td>     Fatima</td>\n",
        "      <td> Gundobad</td>\n",
        "      <td> 3371 Columbia Boulevard</td>\n",
        "      <td>      Elkridge</td>\n",
        "      <td> MD</td>\n",
        "      <td> 21227</td>\n",
        "      <td> NaN</td>\n",
        "      <td> 5.201066e+15</td>\n",
        "    </tr>\n",
        "  </tbody>\n",
        "</table>\n",
        "</div>"
       ],
       "metadata": {},
       "output_type": "pyout",
       "prompt_number": 9,
       "text": [
        "  Source                                       GUID    LastName  MiddleName  \\\n",
        "0   CCCR  CCCR-a57685ee-ba9f-4bfb-b2f6-f179b693ee12  Brandybuck   Donnamira   \n",
        "1   CCCR  CCCR-ac908031-33b2-4ea1-816b-7c79a67827d2     Oldbuck    Columbus   \n",
        "2   CCCR  CCCR-2cd29e42-accf-4b59-9b6a-b161c5c67767   Lightfoot  Belladonna   \n",
        "3   CCCR  CCCR-9bc0967c-9c15-4b4a-beca-76627bfb0a8d    Galbassi      Fatima   \n",
        "\n",
        "  FirstName                   Street           City State    Zip Phone  \\\n",
        "0  Gloriana       2719 Pin Oak Drive      Manhattan    NY  10018   NaN   \n",
        "1      Dina           2334 Scott St.  Putnam Valley    NY  10579   NaN   \n",
        "2     Bucca          997 Doctors Dr.        Cypress    CA  90630   NaN   \n",
        "3  Gundobad  3371 Columbia Boulevard       Elkridge    MD  21227   NaN   \n",
        "\n",
        "         ID-DOC  \n",
        "0  5.334857e+15  \n",
        "1  5.334857e+15  \n",
        "2  4.716838e+15  \n",
        "3  5.201066e+15  "
       ]
      }
     ],
     "prompt_number": 9
    },
    {
     "cell_type": "code",
     "collapsed": false,
     "input": [
      "# node_data.sort('ID-DOC').head()\n",
      "node_data[node_data['GUID'] == 'CCTR-8a101eeb-f886-41b8-b7c7-8dc4e911c03b'].head(5)\n",
      "\n"
     ],
     "language": "python",
     "metadata": {},
     "outputs": [
      {
       "html": [
        "<div style=\"max-height:1000px;max-width:1500px;overflow:auto;\">\n",
        "<table border=\"1\" class=\"dataframe\">\n",
        "  <thead>\n",
        "    <tr style=\"text-align: right;\">\n",
        "      <th></th>\n",
        "      <th>Source</th>\n",
        "      <th>GUID</th>\n",
        "      <th>LastName</th>\n",
        "      <th>MiddleName</th>\n",
        "      <th>FirstName</th>\n",
        "      <th>Street</th>\n",
        "      <th>City</th>\n",
        "      <th>State</th>\n",
        "      <th>Zip</th>\n",
        "      <th>Phone</th>\n",
        "      <th>ID-DOC</th>\n",
        "    </tr>\n",
        "  </thead>\n",
        "  <tbody>\n",
        "    <tr>\n",
        "      <th>79063</th>\n",
        "      <td> CCTR</td>\n",
        "      <td> CCTR-8a101eeb-f886-41b8-b7c7-8dc4e911c03b</td>\n",
        "      <td> NaN</td>\n",
        "      <td> NaN</td>\n",
        "      <td> NaN</td>\n",
        "      <td> 2828 Meadow View Drive</td>\n",
        "      <td> Hartford</td>\n",
        "      <td> CT</td>\n",
        "      <td> 6103</td>\n",
        "      <td> NaN</td>\n",
        "      <td> 4.716008e+15</td>\n",
        "    </tr>\n",
        "  </tbody>\n",
        "</table>\n",
        "</div>"
       ],
       "metadata": {},
       "output_type": "pyout",
       "prompt_number": 23,
       "text": [
        "      Source                                       GUID LastName MiddleName  \\\n",
        "79063   CCTR  CCTR-8a101eeb-f886-41b8-b7c7-8dc4e911c03b      NaN        NaN   \n",
        "\n",
        "      FirstName                  Street      City State   Zip Phone  \\\n",
        "79063       NaN  2828 Meadow View Drive  Hartford    CT  6103   NaN   \n",
        "\n",
        "             ID-DOC  \n",
        "79063  4.716008e+15  "
       ]
      }
     ],
     "prompt_number": 23
    },
    {
     "cell_type": "code",
     "collapsed": false,
     "input": [
      "zero_edges = edge_data[(edge_data['LastName_APS'] == 0) & (edge_data['FirstName_APS'] == 0  )  & (edge_data['Zip_APS'] == 0) & (edge_data['Phone_APS'] == 0) & (edge_data['Street_APS'] == 0) & (edge_data['City_APS'] == 0) & (edge_data['State_APS'] == 0)]\n",
      "print zero_edges.mean()\n"
     ],
     "language": "python",
     "metadata": {},
     "outputs": [
      {
       "output_type": "stream",
       "stream": "stdout",
       "text": [
        "LastName_APS      0\n",
        "MiddleName_APS    0\n",
        "FirstName_APS     0\n",
        "Street_APS        0\n",
        "City_APS          0\n",
        "State_APS         0\n",
        "Zip_APS           0\n",
        "Phone_APS         0\n",
        "ID-DOC_APS        1\n",
        "TCS               1\n",
        "dtype: float64\n"
       ]
      }
     ],
     "prompt_number": 41
    },
    {
     "cell_type": "code",
     "collapsed": false,
     "input": [
      "node_data[node_data['GUID'] == 'CCCR-3bf868fb-a192-4189-9c0d-581053573c08'].head(5)\n"
     ],
     "language": "python",
     "metadata": {},
     "outputs": [
      {
       "html": [
        "<div style=\"max-height:1000px;max-width:1500px;overflow:auto;\">\n",
        "<table border=\"1\" class=\"dataframe\">\n",
        "  <thead>\n",
        "    <tr style=\"text-align: right;\">\n",
        "      <th></th>\n",
        "      <th>Source</th>\n",
        "      <th>GUID</th>\n",
        "      <th>LastName</th>\n",
        "      <th>MiddleName</th>\n",
        "      <th>FirstName</th>\n",
        "      <th>Street</th>\n",
        "      <th>City</th>\n",
        "      <th>State</th>\n",
        "      <th>Zip</th>\n",
        "      <th>Phone</th>\n",
        "      <th>ID-DOC</th>\n",
        "    </tr>\n",
        "  </thead>\n",
        "  <tbody>\n",
        "    <tr>\n",
        "      <th>29391</th>\n",
        "      <td> CCCR</td>\n",
        "      <td> CCCR-3bf868fb-a192-4189-9c0d-581053573c08</td>\n",
        "      <td> Gaukrogers</td>\n",
        "      <td> A</td>\n",
        "      <td> Faramond</td>\n",
        "      <td> 4123 Ottis Street</td>\n",
        "      <td> Edmond</td>\n",
        "      <td> OK</td>\n",
        "      <td> 73034</td>\n",
        "      <td> 4053412307</td>\n",
        "      <td> 4.716008e+15</td>\n",
        "    </tr>\n",
        "  </tbody>\n",
        "</table>\n",
        "</div>"
       ],
       "metadata": {},
       "output_type": "pyout",
       "prompt_number": 24,
       "text": [
        "      Source                                       GUID    LastName  \\\n",
        "29391   CCCR  CCCR-3bf868fb-a192-4189-9c0d-581053573c08  Gaukrogers   \n",
        "\n",
        "      MiddleName FirstName             Street    City State    Zip  \\\n",
        "29391          A  Faramond  4123 Ottis Street  Edmond    OK  73034   \n",
        "\n",
        "            Phone        ID-DOC  \n",
        "29391  4053412307  4.716008e+15  "
       ]
      }
     ],
     "prompt_number": 24
    },
    {
     "cell_type": "code",
     "collapsed": false,
     "input": [
      "edge_data.sort('ID-DOC_APS').tail()"
     ],
     "language": "python",
     "metadata": {},
     "outputs": [
      {
       "html": [
        "<div style=\"max-height:1000px;max-width:1500px;overflow:auto;\">\n",
        "<table border=\"1\" class=\"dataframe\">\n",
        "  <thead>\n",
        "    <tr style=\"text-align: right;\">\n",
        "      <th></th>\n",
        "      <th>EDGE_ID</th>\n",
        "      <th>GUID_1</th>\n",
        "      <th>GUID_2</th>\n",
        "      <th>LastName_APS</th>\n",
        "      <th>MiddleName_APS</th>\n",
        "      <th>FirstName_APS</th>\n",
        "      <th>Street_APS</th>\n",
        "      <th>City_APS</th>\n",
        "      <th>State_APS</th>\n",
        "      <th>Zip_APS</th>\n",
        "      <th>Phone_APS</th>\n",
        "      <th>ID-DOC_APS</th>\n",
        "      <th>TCS</th>\n",
        "    </tr>\n",
        "  </thead>\n",
        "  <tbody>\n",
        "    <tr>\n",
        "      <th>17154</th>\n",
        "      <td> Edge_17155</td>\n",
        "      <td> CCCR-3bf868fb-a192-4189-9c0d-581053573c08</td>\n",
        "      <td> CCTR-8a101eeb-f886-41b8-b7c7-8dc4e911c03b</td>\n",
        "      <td> 0</td>\n",
        "      <td> 0</td>\n",
        "      <td> 0</td>\n",
        "      <td> 0.000000</td>\n",
        "      <td> 0</td>\n",
        "      <td> 0</td>\n",
        "      <td> 0</td>\n",
        "      <td> 0</td>\n",
        "      <td> 1</td>\n",
        "      <td> 1</td>\n",
        "    </tr>\n",
        "    <tr>\n",
        "      <th>17153</th>\n",
        "      <td> Edge_17154</td>\n",
        "      <td> CCCR-9c0cfad5-802a-46a3-bef2-84ac1136a3bc</td>\n",
        "      <td> CCTR-e4c2fb14-05f7-4c16-859f-ba51c41bc7a4</td>\n",
        "      <td> 0</td>\n",
        "      <td> 0</td>\n",
        "      <td> 0</td>\n",
        "      <td> 0.217391</td>\n",
        "      <td> 0</td>\n",
        "      <td> 0</td>\n",
        "      <td> 0</td>\n",
        "      <td> 0</td>\n",
        "      <td> 1</td>\n",
        "      <td> 1</td>\n",
        "    </tr>\n",
        "    <tr>\n",
        "      <th>17152</th>\n",
        "      <td> Edge_17153</td>\n",
        "      <td> CCCR-48dfb4c6-eb90-40ea-aadf-2aece9326d0d</td>\n",
        "      <td> CCTR-8587a893-30dc-4c99-a25e-39ac5733e4fc</td>\n",
        "      <td> 0</td>\n",
        "      <td> 0</td>\n",
        "      <td> 0</td>\n",
        "      <td> 0.062500</td>\n",
        "      <td> 0</td>\n",
        "      <td> 0</td>\n",
        "      <td> 0</td>\n",
        "      <td> 0</td>\n",
        "      <td> 1</td>\n",
        "      <td> 1</td>\n",
        "    </tr>\n",
        "    <tr>\n",
        "      <th>17160</th>\n",
        "      <td> Edge_17161</td>\n",
        "      <td> CCCR-defa5f3a-4068-4b1f-8064-d5d57864156e</td>\n",
        "      <td> CCTR-c0262c0e-b91b-4a96-81a2-9fd445ad9aa1</td>\n",
        "      <td> 0</td>\n",
        "      <td> 0</td>\n",
        "      <td> 0</td>\n",
        "      <td> 0.105263</td>\n",
        "      <td> 0</td>\n",
        "      <td> 0</td>\n",
        "      <td> 0</td>\n",
        "      <td> 0</td>\n",
        "      <td> 1</td>\n",
        "      <td> 1</td>\n",
        "    </tr>\n",
        "    <tr>\n",
        "      <th>9986 </th>\n",
        "      <td>  Edge_9987</td>\n",
        "      <td> CCCR-f4b00310-9aaa-4c12-bea2-886478bed607</td>\n",
        "      <td> CCTR-6b8fc07b-a3aa-4c82-9f05-dca2d7f4472c</td>\n",
        "      <td> 0</td>\n",
        "      <td> 0</td>\n",
        "      <td> 0</td>\n",
        "      <td> 0.166667</td>\n",
        "      <td> 0</td>\n",
        "      <td> 1</td>\n",
        "      <td> 0</td>\n",
        "      <td> 0</td>\n",
        "      <td> 1</td>\n",
        "      <td> 1</td>\n",
        "    </tr>\n",
        "  </tbody>\n",
        "</table>\n",
        "</div>"
       ],
       "metadata": {},
       "output_type": "pyout",
       "prompt_number": 12,
       "text": [
        "          EDGE_ID                                     GUID_1  \\\n",
        "17154  Edge_17155  CCCR-3bf868fb-a192-4189-9c0d-581053573c08   \n",
        "17153  Edge_17154  CCCR-9c0cfad5-802a-46a3-bef2-84ac1136a3bc   \n",
        "17152  Edge_17153  CCCR-48dfb4c6-eb90-40ea-aadf-2aece9326d0d   \n",
        "17160  Edge_17161  CCCR-defa5f3a-4068-4b1f-8064-d5d57864156e   \n",
        "9986    Edge_9987  CCCR-f4b00310-9aaa-4c12-bea2-886478bed607   \n",
        "\n",
        "                                          GUID_2  LastName_APS  \\\n",
        "17154  CCTR-8a101eeb-f886-41b8-b7c7-8dc4e911c03b             0   \n",
        "17153  CCTR-e4c2fb14-05f7-4c16-859f-ba51c41bc7a4             0   \n",
        "17152  CCTR-8587a893-30dc-4c99-a25e-39ac5733e4fc             0   \n",
        "17160  CCTR-c0262c0e-b91b-4a96-81a2-9fd445ad9aa1             0   \n",
        "9986   CCTR-6b8fc07b-a3aa-4c82-9f05-dca2d7f4472c             0   \n",
        "\n",
        "       MiddleName_APS  FirstName_APS  Street_APS  City_APS  State_APS  \\\n",
        "17154               0              0    0.000000         0          0   \n",
        "17153               0              0    0.217391         0          0   \n",
        "17152               0              0    0.062500         0          0   \n",
        "17160               0              0    0.105263         0          0   \n",
        "9986                0              0    0.166667         0          1   \n",
        "\n",
        "       Zip_APS  Phone_APS  ID-DOC_APS  TCS  \n",
        "17154        0          0           1    1  \n",
        "17153        0          0           1    1  \n",
        "17152        0          0           1    1  \n",
        "17160        0          0           1    1  \n",
        "9986         0          0           1    1  "
       ]
      }
     ],
     "prompt_number": 12
    },
    {
     "cell_type": "code",
     "collapsed": false,
     "input": [
      "# node_data.head()\n",
      "# edge_data.head()\n",
      "# node_data[['GUID']]\n",
      "tmp = node_data[node_data['Phone'].notnull()]\n",
      "tmp[tmp['Phone'].str.contains('21299875')]\n",
      "\n"
     ],
     "language": "python",
     "metadata": {},
     "outputs": [
      {
       "html": [
        "<div style=\"max-height:1000px;max-width:1500px;overflow:auto;\">\n",
        "<table border=\"1\" class=\"dataframe\">\n",
        "  <thead>\n",
        "    <tr style=\"text-align: right;\">\n",
        "      <th></th>\n",
        "      <th>Source</th>\n",
        "      <th>GUID</th>\n",
        "      <th>LastName</th>\n",
        "      <th>MiddleName</th>\n",
        "      <th>FirstName</th>\n",
        "      <th>Street</th>\n",
        "      <th>City</th>\n",
        "      <th>State</th>\n",
        "      <th>Zip</th>\n",
        "      <th>Phone</th>\n",
        "      <th>ID-DOC</th>\n",
        "    </tr>\n",
        "  </thead>\n",
        "  <tbody>\n",
        "    <tr>\n",
        "      <th>247472</th>\n",
        "      <td> SEED</td>\n",
        "      <td>                                    SEED-1</td>\n",
        "      <td>               NaN</td>\n",
        "      <td>       NaN</td>\n",
        "      <td>       NaN</td>\n",
        "      <td>                      NaN</td>\n",
        "      <td>      NaN</td>\n",
        "      <td> NaN</td>\n",
        "      <td>   NaN</td>\n",
        "      <td> 21299875XX</td>\n",
        "      <td>NaN</td>\n",
        "    </tr>\n",
        "    <tr>\n",
        "      <th>247474</th>\n",
        "      <td> SRLU</td>\n",
        "      <td> SRLU-2a5289eb-5406-4da3-941d-dcb19b3ca628</td>\n",
        "      <td>        Brandybuck</td>\n",
        "      <td>         D</td>\n",
        "      <td>  Gloriana</td>\n",
        "      <td>       3306 Rosewood Lane</td>\n",
        "      <td> New York</td>\n",
        "      <td>  NY</td>\n",
        "      <td> 10003</td>\n",
        "      <td> 2129987506</td>\n",
        "      <td>NaN</td>\n",
        "    </tr>\n",
        "    <tr>\n",
        "      <th>247475</th>\n",
        "      <td> SRLU</td>\n",
        "      <td> SRLU-b46f584e-a4b0-4dcf-8d62-7b2d377651ca</td>\n",
        "      <td>         Brownlock</td>\n",
        "      <td>         R</td>\n",
        "      <td>  Rudibert</td>\n",
        "      <td>        4770 McVaney Road</td>\n",
        "      <td> New York</td>\n",
        "      <td>  NY</td>\n",
        "      <td> 10003</td>\n",
        "      <td> 2129987500</td>\n",
        "      <td>NaN</td>\n",
        "    </tr>\n",
        "    <tr>\n",
        "      <th>247476</th>\n",
        "      <td> SRLU</td>\n",
        "      <td> SRLU-1d7e29dc-448f-414a-bd52-1b800e1e89ca</td>\n",
        "      <td>            Maggot</td>\n",
        "      <td>         A</td>\n",
        "      <td>    Amalda</td>\n",
        "      <td>         4975 Nickel Road</td>\n",
        "      <td> New York</td>\n",
        "      <td>  NY</td>\n",
        "      <td> 10003</td>\n",
        "      <td> 2129987501</td>\n",
        "      <td>NaN</td>\n",
        "    </tr>\n",
        "    <tr>\n",
        "      <th>247477</th>\n",
        "      <td> SRLU</td>\n",
        "      <td> SRLU-ba7ffda1-deb3-4a01-a789-c60724f5193c</td>\n",
        "      <td>           Lothran</td>\n",
        "      <td>         C</td>\n",
        "      <td>      Rose</td>\n",
        "      <td>         2038 Valley Lane</td>\n",
        "      <td> New York</td>\n",
        "      <td>  NY</td>\n",
        "      <td> 10003</td>\n",
        "      <td> 2129987502</td>\n",
        "      <td>NaN</td>\n",
        "    </tr>\n",
        "    <tr>\n",
        "      <th>247478</th>\n",
        "      <td> SRLU</td>\n",
        "      <td> SRLU-f442a34f-fe35-437f-9658-001be9b6d9dd</td>\n",
        "      <td>         Goodchild</td>\n",
        "      <td>         P</td>\n",
        "      <td>  Prospero</td>\n",
        "      <td>         2964 Polk Street</td>\n",
        "      <td> New York</td>\n",
        "      <td>  NY</td>\n",
        "      <td> 10003</td>\n",
        "      <td> 2129987503</td>\n",
        "      <td>NaN</td>\n",
        "    </tr>\n",
        "    <tr>\n",
        "      <th>247479</th>\n",
        "      <td> SRLU</td>\n",
        "      <td> SRLU-f31ebc0f-a760-419c-9097-aeb00bc6e3c5</td>\n",
        "      <td>         Goodchild</td>\n",
        "      <td>         J</td>\n",
        "      <td>      Bodo</td>\n",
        "      <td>    1736 Timber Oak Drive</td>\n",
        "      <td> New York</td>\n",
        "      <td>  NY</td>\n",
        "      <td> 10003</td>\n",
        "      <td> 2129987504</td>\n",
        "      <td>NaN</td>\n",
        "    </tr>\n",
        "    <tr>\n",
        "      <th>247480</th>\n",
        "      <td> SRLU</td>\n",
        "      <td> SRLU-48d78656-ffe6-4980-8fe7-6db33411cba0</td>\n",
        "      <td>           Gardner</td>\n",
        "      <td>         G</td>\n",
        "      <td>  Peregrin</td>\n",
        "      <td>      2137 Central Avenue</td>\n",
        "      <td> New York</td>\n",
        "      <td>  NY</td>\n",
        "      <td> 10003</td>\n",
        "      <td> 2129987505</td>\n",
        "      <td>NaN</td>\n",
        "    </tr>\n",
        "    <tr>\n",
        "      <th>247481</th>\n",
        "      <td> SRLU</td>\n",
        "      <td> SRLU-4ba9dcc2-ad36-434a-865d-8cfaa5c173f2</td>\n",
        "      <td>           Gardner</td>\n",
        "      <td>         I</td>\n",
        "      <td>   Trahand</td>\n",
        "      <td>      727 Steve Hunt Road</td>\n",
        "      <td> New York</td>\n",
        "      <td>  NY</td>\n",
        "      <td> 10003</td>\n",
        "      <td> 2129987557</td>\n",
        "      <td>NaN</td>\n",
        "    </tr>\n",
        "    <tr>\n",
        "      <th>247482</th>\n",
        "      <td> SRLU</td>\n",
        "      <td> SRLU-75ad518a-421d-4d51-adb8-838188e25476</td>\n",
        "      <td>         Goodchild</td>\n",
        "      <td>         G</td>\n",
        "      <td>      Bell</td>\n",
        "      <td>          59 Augusta Park</td>\n",
        "      <td> New York</td>\n",
        "      <td>  NY</td>\n",
        "      <td> 10003</td>\n",
        "      <td> 2129987507</td>\n",
        "      <td>NaN</td>\n",
        "    </tr>\n",
        "    <tr>\n",
        "      <th>247483</th>\n",
        "      <td> SRLU</td>\n",
        "      <td> SRLU-f5c4ba25-dd2b-499a-bb6b-3a88e87e818f</td>\n",
        "      <td>            Bolger</td>\n",
        "      <td>         J</td>\n",
        "      <td>  Gundobad</td>\n",
        "      <td>       2177 Comfort Court</td>\n",
        "      <td> New York</td>\n",
        "      <td>  NY</td>\n",
        "      <td> 10003</td>\n",
        "      <td> 2129987508</td>\n",
        "      <td>NaN</td>\n",
        "    </tr>\n",
        "    <tr>\n",
        "      <th>247484</th>\n",
        "      <td> SRLU</td>\n",
        "      <td> SRLU-fb55d529-9460-4ef7-ba52-dfba5fb0dfd0</td>\n",
        "      <td>              Took</td>\n",
        "      <td>         S</td>\n",
        "      <td>   Melissa</td>\n",
        "      <td>    1809 Scheuvront Drive</td>\n",
        "      <td> New York</td>\n",
        "      <td>  NY</td>\n",
        "      <td> 10003</td>\n",
        "      <td> 2129987509</td>\n",
        "      <td>NaN</td>\n",
        "    </tr>\n",
        "    <tr>\n",
        "      <th>247485</th>\n",
        "      <td> SRLU</td>\n",
        "      <td> SRLU-1fa2e3bf-a3e3-485e-a7ae-24d2b6f04728</td>\n",
        "      <td>         Lightfoot</td>\n",
        "      <td>         G</td>\n",
        "      <td>    Cotman</td>\n",
        "      <td>      319 Crosswind Drive</td>\n",
        "      <td> New York</td>\n",
        "      <td>  NY</td>\n",
        "      <td> 10003</td>\n",
        "      <td> 2129987510</td>\n",
        "      <td>NaN</td>\n",
        "    </tr>\n",
        "    <tr>\n",
        "      <th>247486</th>\n",
        "      <td> SRLU</td>\n",
        "      <td> SRLU-0bba8d3b-281f-485f-b855-bfd63589f596</td>\n",
        "      <td>             Bunce</td>\n",
        "      <td>         B</td>\n",
        "      <td>  Cornelia</td>\n",
        "      <td>      4083 Elliott Street</td>\n",
        "      <td> New York</td>\n",
        "      <td>  NY</td>\n",
        "      <td> 10003</td>\n",
        "      <td> 2129987511</td>\n",
        "      <td>NaN</td>\n",
        "    </tr>\n",
        "    <tr>\n",
        "      <th>247487</th>\n",
        "      <td> SRLU</td>\n",
        "      <td> SRLU-b072dd94-2b8a-4c28-a52d-fa77d8cd56a0</td>\n",
        "      <td>          Longhole</td>\n",
        "      <td>         M</td>\n",
        "      <td> Donnamira</td>\n",
        "      <td>  2495 Raintree Boulevard</td>\n",
        "      <td> New York</td>\n",
        "      <td>  NY</td>\n",
        "      <td> 10003</td>\n",
        "      <td> 2129987512</td>\n",
        "      <td>NaN</td>\n",
        "    </tr>\n",
        "    <tr>\n",
        "      <th>247488</th>\n",
        "      <td> SRLU</td>\n",
        "      <td> SRLU-2028b038-e0bf-44f8-a9c7-9423a5c2d6c1</td>\n",
        "      <td>        Clayhanger</td>\n",
        "      <td>         B</td>\n",
        "      <td>     Rollo</td>\n",
        "      <td>          3722 Edsel Road</td>\n",
        "      <td> New York</td>\n",
        "      <td>  NY</td>\n",
        "      <td> 10003</td>\n",
        "      <td> 2129987513</td>\n",
        "      <td>NaN</td>\n",
        "    </tr>\n",
        "    <tr>\n",
        "      <th>247489</th>\n",
        "      <td> SRLU</td>\n",
        "      <td> SRLU-861fc3ea-e53b-477c-a635-4c4367ed0f9f</td>\n",
        "      <td>            Hogpen</td>\n",
        "      <td>         C</td>\n",
        "      <td>  Gloriana</td>\n",
        "      <td>   1008 Isaacs Creek Road</td>\n",
        "      <td> New York</td>\n",
        "      <td>  NY</td>\n",
        "      <td> 10003</td>\n",
        "      <td> 2129987514</td>\n",
        "      <td>NaN</td>\n",
        "    </tr>\n",
        "    <tr>\n",
        "      <th>247490</th>\n",
        "      <td> SRLU</td>\n",
        "      <td> SRLU-c028a607-cc60-42b1-9467-071ed71636a0</td>\n",
        "      <td>          Goodbody</td>\n",
        "      <td>         C</td>\n",
        "      <td>     Melba</td>\n",
        "      <td>    759 Confederate Drive</td>\n",
        "      <td> New York</td>\n",
        "      <td>  NY</td>\n",
        "      <td> 10003</td>\n",
        "      <td> 2129987515</td>\n",
        "      <td>NaN</td>\n",
        "    </tr>\n",
        "    <tr>\n",
        "      <th>247491</th>\n",
        "      <td> SRLU</td>\n",
        "      <td> SRLU-1b141f22-5ab4-496d-9d69-acb2560605e1</td>\n",
        "      <td>         Zaragamba</td>\n",
        "      <td>         P</td>\n",
        "      <td>     Pearl</td>\n",
        "      <td>     4420 Bernardo Street</td>\n",
        "      <td> New York</td>\n",
        "      <td>  NY</td>\n",
        "      <td> 10003</td>\n",
        "      <td> 2129987516</td>\n",
        "      <td>NaN</td>\n",
        "    </tr>\n",
        "    <tr>\n",
        "      <th>247492</th>\n",
        "      <td> SRLU</td>\n",
        "      <td> SRLU-da07614a-01bc-4918-b542-e88007337cca</td>\n",
        "      <td>        Hornblower</td>\n",
        "      <td>         F</td>\n",
        "      <td>    Amalda</td>\n",
        "      <td>       2108 Juniper Drive</td>\n",
        "      <td> New York</td>\n",
        "      <td>  NY</td>\n",
        "      <td> 10003</td>\n",
        "      <td> 2129987517</td>\n",
        "      <td>NaN</td>\n",
        "    </tr>\n",
        "    <tr>\n",
        "      <th>247493</th>\n",
        "      <td> SRLU</td>\n",
        "      <td> SRLU-74353c40-9ba0-46ff-85c4-1f2f2473ec44</td>\n",
        "      <td>            Maggot</td>\n",
        "      <td>         J</td>\n",
        "      <td> Adaldrida</td>\n",
        "      <td>           2009 Jett Lane</td>\n",
        "      <td> New York</td>\n",
        "      <td>  NY</td>\n",
        "      <td> 10003</td>\n",
        "      <td> 2129987518</td>\n",
        "      <td>NaN</td>\n",
        "    </tr>\n",
        "    <tr>\n",
        "      <th>247494</th>\n",
        "      <td> SRLU</td>\n",
        "      <td> SRLU-0722366a-f8ff-4429-afae-7e57a74b8a74</td>\n",
        "      <td>         Proudfoot</td>\n",
        "      <td>         L</td>\n",
        "      <td>   Lobelia</td>\n",
        "      <td>       4709 Bridge Avenue</td>\n",
        "      <td> New York</td>\n",
        "      <td>  NY</td>\n",
        "      <td> 10003</td>\n",
        "      <td> 2129987519</td>\n",
        "      <td>NaN</td>\n",
        "    </tr>\n",
        "    <tr>\n",
        "      <th>247495</th>\n",
        "      <td> SRLU</td>\n",
        "      <td> SRLU-8575b2c5-b50b-4ace-8c75-88d9d5518802</td>\n",
        "      <td>            Bolger</td>\n",
        "      <td>         A</td>\n",
        "      <td>     Daisy</td>\n",
        "      <td>         2972 Pike Street</td>\n",
        "      <td> New York</td>\n",
        "      <td>  NY</td>\n",
        "      <td> 10003</td>\n",
        "      <td> 2129987520</td>\n",
        "      <td>NaN</td>\n",
        "    </tr>\n",
        "    <tr>\n",
        "      <th>247496</th>\n",
        "      <td> SRLU</td>\n",
        "      <td> SRLU-eba54968-69e0-457c-88f1-971ffb8b588e</td>\n",
        "      <td>          Whitfoot</td>\n",
        "      <td>         A</td>\n",
        "      <td>    Bertha</td>\n",
        "      <td>   1626 Happy Hollow Road</td>\n",
        "      <td> New York</td>\n",
        "      <td>  NY</td>\n",
        "      <td> 10003</td>\n",
        "      <td> 2129987521</td>\n",
        "      <td>NaN</td>\n",
        "    </tr>\n",
        "    <tr>\n",
        "      <th>247497</th>\n",
        "      <td> SRLU</td>\n",
        "      <td> SRLU-373543b3-5a3f-46d8-ac5d-3d9c62dc4f45</td>\n",
        "      <td>         Brownlock</td>\n",
        "      <td>         B</td>\n",
        "      <td>  Isembard</td>\n",
        "      <td>   4847 Smithfield Avenue</td>\n",
        "      <td> New York</td>\n",
        "      <td>  NY</td>\n",
        "      <td> 10003</td>\n",
        "      <td> 2129987522</td>\n",
        "      <td>NaN</td>\n",
        "    </tr>\n",
        "    <tr>\n",
        "      <th>247498</th>\n",
        "      <td> SRLU</td>\n",
        "      <td> SRLU-acfed352-571e-4d86-8797-e06bbef82174</td>\n",
        "      <td>            Maggot</td>\n",
        "      <td>         B</td>\n",
        "      <td>   Matilda</td>\n",
        "      <td>      2024 Everette Alley</td>\n",
        "      <td> New York</td>\n",
        "      <td>  NY</td>\n",
        "      <td> 10003</td>\n",
        "      <td> 2129987523</td>\n",
        "      <td>NaN</td>\n",
        "    </tr>\n",
        "    <tr>\n",
        "      <th>247499</th>\n",
        "      <td> SRLU</td>\n",
        "      <td> SRLU-0d1d1c47-b636-4976-a7ff-b588054831a7</td>\n",
        "      <td>           Gardner</td>\n",
        "      <td>         J</td>\n",
        "      <td>  Isembold</td>\n",
        "      <td>     2392 Railroad Street</td>\n",
        "      <td> New York</td>\n",
        "      <td>  NY</td>\n",
        "      <td> 10003</td>\n",
        "      <td> 2129987524</td>\n",
        "      <td>NaN</td>\n",
        "    </tr>\n",
        "    <tr>\n",
        "      <th>247500</th>\n",
        "      <td> SRLU</td>\n",
        "      <td> SRLU-b2af4b9b-1f21-4062-b35a-02119cf9f84a</td>\n",
        "      <td>       Bracegirdle</td>\n",
        "      <td>         C</td>\n",
        "      <td>      Dora</td>\n",
        "      <td>       3091 Parrill Court</td>\n",
        "      <td> New York</td>\n",
        "      <td>  NY</td>\n",
        "      <td> 10003</td>\n",
        "      <td> 2129987525</td>\n",
        "      <td>NaN</td>\n",
        "    </tr>\n",
        "    <tr>\n",
        "      <th>247501</th>\n",
        "      <td> SRLU</td>\n",
        "      <td> SRLU-3221c550-4da9-45fc-916f-1309ccda0b15</td>\n",
        "      <td> Sackville-Baggins</td>\n",
        "      <td>         L</td>\n",
        "      <td>   Caradoc</td>\n",
        "      <td>       3168 Brownton Road</td>\n",
        "      <td> New York</td>\n",
        "      <td>  NY</td>\n",
        "      <td> 10003</td>\n",
        "      <td> 2129987526</td>\n",
        "      <td>NaN</td>\n",
        "    </tr>\n",
        "    <tr>\n",
        "      <th>247502</th>\n",
        "      <td> SRLU</td>\n",
        "      <td> SRLU-6b735a32-7a6f-4448-bc48-7126f87af0f8</td>\n",
        "      <td>       Smallburrow</td>\n",
        "      <td>         B</td>\n",
        "      <td>       Tom</td>\n",
        "      <td>    995 Pinchelone Street</td>\n",
        "      <td> New York</td>\n",
        "      <td>  NY</td>\n",
        "      <td> 10003</td>\n",
        "      <td> 2129987527</td>\n",
        "      <td>NaN</td>\n",
        "    </tr>\n",
        "    <tr>\n",
        "      <th>...</th>\n",
        "      <td>...</td>\n",
        "      <td>...</td>\n",
        "      <td>...</td>\n",
        "      <td>...</td>\n",
        "      <td>...</td>\n",
        "      <td>...</td>\n",
        "      <td>...</td>\n",
        "      <td>...</td>\n",
        "      <td>...</td>\n",
        "      <td>...</td>\n",
        "      <td>...</td>\n",
        "    </tr>\n",
        "    <tr>\n",
        "      <th>247574</th>\n",
        "      <td> SRLU</td>\n",
        "      <td> SRLU-ba5ea241-fac5-41c2-a095-7d6c9cdd6513</td>\n",
        "      <td>           Baggins</td>\n",
        "      <td>   Saradas</td>\n",
        "      <td>  Asphodel</td>\n",
        "      <td>          1448 Haven Lane</td>\n",
        "      <td> New York</td>\n",
        "      <td>  NY</td>\n",
        "      <td> 10003</td>\n",
        "      <td> 2129987504</td>\n",
        "      <td>NaN</td>\n",
        "    </tr>\n",
        "    <tr>\n",
        "      <th>247575</th>\n",
        "      <td> SRLU</td>\n",
        "      <td> SRLU-47af0cae-b8cb-4688-b050-bd251fd8e873</td>\n",
        "      <td>            Diggle</td>\n",
        "      <td>  Fastolph</td>\n",
        "      <td>  Heribald</td>\n",
        "      <td>       4867 Settlers Lane</td>\n",
        "      <td> New York</td>\n",
        "      <td>  NY</td>\n",
        "      <td> 10003</td>\n",
        "      <td> 2129987508</td>\n",
        "      <td>NaN</td>\n",
        "    </tr>\n",
        "    <tr>\n",
        "      <th>247576</th>\n",
        "      <td> SRLU</td>\n",
        "      <td> SRLU-6f7c0afb-a9f9-4d3d-97b8-34605ec0ee03</td>\n",
        "      <td>             Goold</td>\n",
        "      <td>    Haiduc</td>\n",
        "      <td>   Matilda</td>\n",
        "      <td>        3304 Saints Alley</td>\n",
        "      <td> New York</td>\n",
        "      <td>  NY</td>\n",
        "      <td> 10003</td>\n",
        "      <td> 2129987512</td>\n",
        "      <td>NaN</td>\n",
        "    </tr>\n",
        "    <tr>\n",
        "      <th>247577</th>\n",
        "      <td> SRLU</td>\n",
        "      <td> SRLU-ae7234af-496b-4dbe-a9cc-c4d85f5514bf</td>\n",
        "      <td>            Bolger</td>\n",
        "      <td>  Faramond</td>\n",
        "      <td>      Iago</td>\n",
        "      <td>      722 Sugar Camp Road</td>\n",
        "      <td> New York</td>\n",
        "      <td>  NY</td>\n",
        "      <td> 10003</td>\n",
        "      <td> 2129987516</td>\n",
        "      <td>NaN</td>\n",
        "    </tr>\n",
        "    <tr>\n",
        "      <th>247578</th>\n",
        "      <td> SRLU</td>\n",
        "      <td> SRLU-f0fee33c-3144-4547-bf5f-114a8e7a46b5</td>\n",
        "      <td>            Noakes</td>\n",
        "      <td>       Odo</td>\n",
        "      <td>   Dodinas</td>\n",
        "      <td>       4866 Whitman Court</td>\n",
        "      <td> New York</td>\n",
        "      <td>  NY</td>\n",
        "      <td> 10003</td>\n",
        "      <td> 2129987520</td>\n",
        "      <td>NaN</td>\n",
        "    </tr>\n",
        "    <tr>\n",
        "      <th>247579</th>\n",
        "      <td> SRLU</td>\n",
        "      <td> SRLU-18707d0b-03bb-49f5-abcb-4835b1f65f8b</td>\n",
        "      <td>           Labingi</td>\n",
        "      <td>    Chica </td>\n",
        "      <td>     Rowan</td>\n",
        "      <td>     408 Mount Olive Road</td>\n",
        "      <td> New York</td>\n",
        "      <td>  NY</td>\n",
        "      <td> 10003</td>\n",
        "      <td> 2129987524</td>\n",
        "      <td>NaN</td>\n",
        "    </tr>\n",
        "    <tr>\n",
        "      <th>247580</th>\n",
        "      <td> SRLU</td>\n",
        "      <td> SRLU-b794b6e3-9e50-4dd9-be22-80f86eeb741d</td>\n",
        "      <td>       Brandagamba</td>\n",
        "      <td>      Bell</td>\n",
        "      <td>   Miranda</td>\n",
        "      <td>        2134 Owagner Lane</td>\n",
        "      <td> New York</td>\n",
        "      <td>  NY</td>\n",
        "      <td> 10003</td>\n",
        "      <td> 2129987528</td>\n",
        "      <td>NaN</td>\n",
        "    </tr>\n",
        "    <tr>\n",
        "      <th>247581</th>\n",
        "      <td> SRLU</td>\n",
        "      <td> SRLU-affc02b7-94fa-45ea-b101-62c87ec61524</td>\n",
        "      <td>          Longhole</td>\n",
        "      <td>   Celedor</td>\n",
        "      <td>    Tobold</td>\n",
        "      <td>      4179 Amethyst Drive</td>\n",
        "      <td> New York</td>\n",
        "      <td>  NY</td>\n",
        "      <td> 10003</td>\n",
        "      <td> 2129987532</td>\n",
        "      <td>NaN</td>\n",
        "    </tr>\n",
        "    <tr>\n",
        "      <th>247582</th>\n",
        "      <td> SRLU</td>\n",
        "      <td> SRLU-83b09f34-8388-44f7-a2b8-4ca4a9e43b2e</td>\n",
        "      <td>           Labingi</td>\n",
        "      <td>     Folco</td>\n",
        "      <td>  Mattalic</td>\n",
        "      <td>          2231 Haven Lane</td>\n",
        "      <td> New York</td>\n",
        "      <td>  NY</td>\n",
        "      <td> 10003</td>\n",
        "      <td> 2129987536</td>\n",
        "      <td>NaN</td>\n",
        "    </tr>\n",
        "    <tr>\n",
        "      <th>247583</th>\n",
        "      <td> SRLU</td>\n",
        "      <td> SRLU-329db5cb-0182-457d-a92c-1246781cfda2</td>\n",
        "      <td>         Zaragamba</td>\n",
        "      <td>   Jasmine</td>\n",
        "      <td>    Myrtle</td>\n",
        "      <td>          557 Reel Avenue</td>\n",
        "      <td> New York</td>\n",
        "      <td>  NY</td>\n",
        "      <td> 10003</td>\n",
        "      <td> 2129987540</td>\n",
        "      <td>NaN</td>\n",
        "    </tr>\n",
        "    <tr>\n",
        "      <th>247584</th>\n",
        "      <td> SRLU</td>\n",
        "      <td> SRLU-75c58b07-69d8-43a6-aa13-da93b81a304f</td>\n",
        "      <td>           Burrows</td>\n",
        "      <td>     Posco</td>\n",
        "      <td>    Cotman</td>\n",
        "      <td>       2232 Cottrill Lane</td>\n",
        "      <td> New York</td>\n",
        "      <td>  NY</td>\n",
        "      <td> 10003</td>\n",
        "      <td> 2129987544</td>\n",
        "      <td>NaN</td>\n",
        "    </tr>\n",
        "    <tr>\n",
        "      <th>247585</th>\n",
        "      <td> SRLU</td>\n",
        "      <td> SRLU-6de7f8be-b30b-4112-82eb-0fa48b6326e4</td>\n",
        "      <td>             Bunce</td>\n",
        "      <td>  Cornelia</td>\n",
        "      <td>  Grossman</td>\n",
        "      <td>      2306 Sunburst Drive</td>\n",
        "      <td> New York</td>\n",
        "      <td>  NY</td>\n",
        "      <td> 10003</td>\n",
        "      <td> 2129987548</td>\n",
        "      <td>NaN</td>\n",
        "    </tr>\n",
        "    <tr>\n",
        "      <th>247586</th>\n",
        "      <td> SRLU</td>\n",
        "      <td> SRLU-4fef46d7-dd95-4eb3-90ea-b0f591a6e5c8</td>\n",
        "      <td>             Brown</td>\n",
        "      <td>   Lavinia</td>\n",
        "      <td>   Camelia</td>\n",
        "      <td>         1342 Johnny Lane</td>\n",
        "      <td> New York</td>\n",
        "      <td>  NY</td>\n",
        "      <td> 10003</td>\n",
        "      <td> 2129987552</td>\n",
        "      <td>NaN</td>\n",
        "    </tr>\n",
        "    <tr>\n",
        "      <th>247587</th>\n",
        "      <td> SRLU</td>\n",
        "      <td> SRLU-fcdde0e4-1862-4bcc-94cc-7e2a0c7a1ace</td>\n",
        "      <td>             Chubb</td>\n",
        "      <td>    Selina</td>\n",
        "      <td>    Alaric</td>\n",
        "      <td>     4282 Brooklyn Street</td>\n",
        "      <td> New York</td>\n",
        "      <td>  NY</td>\n",
        "      <td> 10003</td>\n",
        "      <td> 2129987556</td>\n",
        "      <td>NaN</td>\n",
        "    </tr>\n",
        "    <tr>\n",
        "      <th>247588</th>\n",
        "      <td> SRLU</td>\n",
        "      <td> SRLU-433acaf6-6495-4cc3-a634-43dda3c25ba1</td>\n",
        "      <td>          Whitfoot</td>\n",
        "      <td>     Nicol</td>\n",
        "      <td>    Bildad</td>\n",
        "      <td>      967 Richland Avenue</td>\n",
        "      <td> New York</td>\n",
        "      <td>  NY</td>\n",
        "      <td> 10003</td>\n",
        "      <td> 2129987560</td>\n",
        "      <td>NaN</td>\n",
        "    </tr>\n",
        "    <tr>\n",
        "      <th>247589</th>\n",
        "      <td> SRLU</td>\n",
        "      <td> SRLU-8922b049-d68b-451c-8f4f-8c6e0bb280bf</td>\n",
        "      <td>         Sackville</td>\n",
        "      <td>     Melba</td>\n",
        "      <td> Athanaric</td>\n",
        "      <td>       2734 Oakmound Road</td>\n",
        "      <td> New York</td>\n",
        "      <td>  NY</td>\n",
        "      <td> 10003</td>\n",
        "      <td> 2129987564</td>\n",
        "      <td>NaN</td>\n",
        "    </tr>\n",
        "    <tr>\n",
        "      <th>247590</th>\n",
        "      <td> SRLU</td>\n",
        "      <td> SRLU-4baf5257-da09-40b0-8fb2-d640e206b5b0</td>\n",
        "      <td>            Hogpen</td>\n",
        "      <td>  Sagramor</td>\n",
        "      <td>      Uffo</td>\n",
        "      <td>          769 Penn Street</td>\n",
        "      <td> New York</td>\n",
        "      <td>  NY</td>\n",
        "      <td> 10003</td>\n",
        "      <td> 2129987568</td>\n",
        "      <td>NaN</td>\n",
        "    </tr>\n",
        "    <tr>\n",
        "      <th>247591</th>\n",
        "      <td> SRLU</td>\n",
        "      <td> SRLU-23b5963b-0bf1-46ac-9072-af8f73f11fdf</td>\n",
        "      <td>        Hornblower</td>\n",
        "      <td>  Columbus</td>\n",
        "      <td>      Moro</td>\n",
        "      <td>      3944 Hickman Street</td>\n",
        "      <td> New York</td>\n",
        "      <td>  NY</td>\n",
        "      <td> 10003</td>\n",
        "      <td> 2129987572</td>\n",
        "      <td>NaN</td>\n",
        "    </tr>\n",
        "    <tr>\n",
        "      <th>247592</th>\n",
        "      <td> SRLU</td>\n",
        "      <td> SRLU-48380fab-d81e-4111-a2de-3d7be4be8ba9</td>\n",
        "      <td>            Hogpen</td>\n",
        "      <td>     Gerda</td>\n",
        "      <td>   Celedor</td>\n",
        "      <td>         275 Walnut Drive</td>\n",
        "      <td> New York</td>\n",
        "      <td>  NY</td>\n",
        "      <td> 10003</td>\n",
        "      <td> 2129987576</td>\n",
        "      <td>NaN</td>\n",
        "    </tr>\n",
        "    <tr>\n",
        "      <th>247593</th>\n",
        "      <td> SRLU</td>\n",
        "      <td> SRLU-a7f07326-3ac3-45c7-9796-1befcc1411a5</td>\n",
        "      <td>        Gaukrogers</td>\n",
        "      <td> Celendine</td>\n",
        "      <td>  Cornelia</td>\n",
        "      <td>        1941 Gateway Road</td>\n",
        "      <td> New York</td>\n",
        "      <td>  NY</td>\n",
        "      <td> 10003</td>\n",
        "      <td> 2129987580</td>\n",
        "      <td>NaN</td>\n",
        "    </tr>\n",
        "    <tr>\n",
        "      <th>247594</th>\n",
        "      <td> SRLU</td>\n",
        "      <td> SRLU-3bc2003c-135b-4adb-a365-7f18bb8cb582</td>\n",
        "      <td>            Gamgee</td>\n",
        "      <td>      Bell</td>\n",
        "      <td> Gundabald</td>\n",
        "      <td>      4157 Zimmerman Lane</td>\n",
        "      <td> New York</td>\n",
        "      <td>  NY</td>\n",
        "      <td> 10003</td>\n",
        "      <td> 2129987584</td>\n",
        "      <td>NaN</td>\n",
        "    </tr>\n",
        "    <tr>\n",
        "      <th>247595</th>\n",
        "      <td> SRLU</td>\n",
        "      <td> SRLU-ccc69f1c-58ec-405c-aea3-fe90c5fd5c14</td>\n",
        "      <td>       Smallburrow</td>\n",
        "      <td>      Bodo</td>\n",
        "      <td> Adaldrida</td>\n",
        "      <td>     4998 Hide A Way Road</td>\n",
        "      <td> New York</td>\n",
        "      <td>  NY</td>\n",
        "      <td> 10003</td>\n",
        "      <td> 2129987588</td>\n",
        "      <td>NaN</td>\n",
        "    </tr>\n",
        "    <tr>\n",
        "      <th>247596</th>\n",
        "      <td> SRLU</td>\n",
        "      <td> SRLU-9335fd86-1771-4332-8f4c-7cdb7cc3799b</td>\n",
        "      <td>          Whitfoot</td>\n",
        "      <td>   Rorimac</td>\n",
        "      <td>  Faramond</td>\n",
        "      <td>      1877 Lunetta Street</td>\n",
        "      <td> New York</td>\n",
        "      <td>  NY</td>\n",
        "      <td> 10003</td>\n",
        "      <td> 2129987592</td>\n",
        "      <td>NaN</td>\n",
        "    </tr>\n",
        "    <tr>\n",
        "      <th>247597</th>\n",
        "      <td> SRLU</td>\n",
        "      <td> SRLU-97a3d694-74aa-46ec-85c6-ee9ff6adc0fa</td>\n",
        "      <td> Sackville-Baggins</td>\n",
        "      <td>   Savanna</td>\n",
        "      <td>     Linda</td>\n",
        "      <td>     4034 Mulberry Avenue</td>\n",
        "      <td> New York</td>\n",
        "      <td>  NY</td>\n",
        "      <td> 10003</td>\n",
        "      <td> 2129987596</td>\n",
        "      <td>NaN</td>\n",
        "    </tr>\n",
        "    <tr>\n",
        "      <th>247598</th>\n",
        "      <td> SRLU</td>\n",
        "      <td> SRLU-a657c76c-20ab-430a-9c0a-cd249a062b9c</td>\n",
        "      <td>            Bolger</td>\n",
        "      <td>      Nina</td>\n",
        "      <td> Jessamine</td>\n",
        "      <td>         1471 Oakway Lane</td>\n",
        "      <td> New York</td>\n",
        "      <td>  NY</td>\n",
        "      <td> 10003</td>\n",
        "      <td> 2129987515</td>\n",
        "      <td>NaN</td>\n",
        "    </tr>\n",
        "    <tr>\n",
        "      <th>247599</th>\n",
        "      <td> SRLU</td>\n",
        "      <td> SRLU-eea01d0e-8548-428c-b76b-ae6069c291c9</td>\n",
        "      <td>         Gawkroger</td>\n",
        "      <td>   Alberic</td>\n",
        "      <td>     Rhoda</td>\n",
        "      <td>         3167 Ethels Lane</td>\n",
        "      <td> New York</td>\n",
        "      <td>  NY</td>\n",
        "      <td> 10003</td>\n",
        "      <td> 2129987529</td>\n",
        "      <td>NaN</td>\n",
        "    </tr>\n",
        "    <tr>\n",
        "      <th>247600</th>\n",
        "      <td> SRLU</td>\n",
        "      <td> SRLU-787c2a27-2f87-4a05-a9bb-b38d62447393</td>\n",
        "      <td>            Rumble</td>\n",
        "      <td> Bandobras</td>\n",
        "      <td>   Carambo</td>\n",
        "      <td>     1456 Westfall Avenue</td>\n",
        "      <td> New York</td>\n",
        "      <td>  NY</td>\n",
        "      <td> 10003</td>\n",
        "      <td> 2129987551</td>\n",
        "      <td>NaN</td>\n",
        "    </tr>\n",
        "    <tr>\n",
        "      <th>247601</th>\n",
        "      <td> SRLU</td>\n",
        "      <td> SRLU-67ba5d06-0c31-4f95-b6dd-6f357d41c06a</td>\n",
        "      <td>          Sandyman</td>\n",
        "      <td>  Cornelia</td>\n",
        "      <td>   Melilot</td>\n",
        "      <td>        1522 Davis Avenue</td>\n",
        "      <td> New York</td>\n",
        "      <td>  NY</td>\n",
        "      <td> 10003</td>\n",
        "      <td> 2129987555</td>\n",
        "      <td>NaN</td>\n",
        "    </tr>\n",
        "    <tr>\n",
        "      <th>247602</th>\n",
        "      <td> SRLU</td>\n",
        "      <td> SRLU-31561e9e-707f-4f1f-8a2d-5f4db981335d</td>\n",
        "      <td>           Oldbuck</td>\n",
        "      <td>  Peregrin</td>\n",
        "      <td> Eglantine</td>\n",
        "      <td> 4856 Stanton Hollow Road</td>\n",
        "      <td> New York</td>\n",
        "      <td>  NY</td>\n",
        "      <td> 10003</td>\n",
        "      <td> 2129987573</td>\n",
        "      <td>NaN</td>\n",
        "    </tr>\n",
        "    <tr>\n",
        "      <th>247603</th>\n",
        "      <td> SRLU</td>\n",
        "      <td> SRLU-6a8d7bd0-ad47-47c0-917b-50209ded1845</td>\n",
        "      <td>           Mugwort</td>\n",
        "      <td>      Nick</td>\n",
        "      <td>    Marcus</td>\n",
        "      <td>     1945 Coolidge Street</td>\n",
        "      <td> New York</td>\n",
        "      <td>  NY</td>\n",
        "      <td> 10003</td>\n",
        "      <td> 2129987583</td>\n",
        "      <td>NaN</td>\n",
        "    </tr>\n",
        "  </tbody>\n",
        "</table>\n",
        "<p>131 rows \u00d7 11 columns</p>\n",
        "</div>"
       ],
       "metadata": {},
       "output_type": "pyout",
       "prompt_number": 42,
       "text": [
        "       Source                                       GUID           LastName  \\\n",
        "247472   SEED                                     SEED-1                NaN   \n",
        "247474   SRLU  SRLU-2a5289eb-5406-4da3-941d-dcb19b3ca628         Brandybuck   \n",
        "247475   SRLU  SRLU-b46f584e-a4b0-4dcf-8d62-7b2d377651ca          Brownlock   \n",
        "247476   SRLU  SRLU-1d7e29dc-448f-414a-bd52-1b800e1e89ca             Maggot   \n",
        "247477   SRLU  SRLU-ba7ffda1-deb3-4a01-a789-c60724f5193c            Lothran   \n",
        "247478   SRLU  SRLU-f442a34f-fe35-437f-9658-001be9b6d9dd          Goodchild   \n",
        "247479   SRLU  SRLU-f31ebc0f-a760-419c-9097-aeb00bc6e3c5          Goodchild   \n",
        "247480   SRLU  SRLU-48d78656-ffe6-4980-8fe7-6db33411cba0            Gardner   \n",
        "247481   SRLU  SRLU-4ba9dcc2-ad36-434a-865d-8cfaa5c173f2            Gardner   \n",
        "247482   SRLU  SRLU-75ad518a-421d-4d51-adb8-838188e25476          Goodchild   \n",
        "247483   SRLU  SRLU-f5c4ba25-dd2b-499a-bb6b-3a88e87e818f             Bolger   \n",
        "247484   SRLU  SRLU-fb55d529-9460-4ef7-ba52-dfba5fb0dfd0               Took   \n",
        "247485   SRLU  SRLU-1fa2e3bf-a3e3-485e-a7ae-24d2b6f04728          Lightfoot   \n",
        "247486   SRLU  SRLU-0bba8d3b-281f-485f-b855-bfd63589f596              Bunce   \n",
        "247487   SRLU  SRLU-b072dd94-2b8a-4c28-a52d-fa77d8cd56a0           Longhole   \n",
        "247488   SRLU  SRLU-2028b038-e0bf-44f8-a9c7-9423a5c2d6c1         Clayhanger   \n",
        "247489   SRLU  SRLU-861fc3ea-e53b-477c-a635-4c4367ed0f9f             Hogpen   \n",
        "247490   SRLU  SRLU-c028a607-cc60-42b1-9467-071ed71636a0           Goodbody   \n",
        "247491   SRLU  SRLU-1b141f22-5ab4-496d-9d69-acb2560605e1          Zaragamba   \n",
        "247492   SRLU  SRLU-da07614a-01bc-4918-b542-e88007337cca         Hornblower   \n",
        "247493   SRLU  SRLU-74353c40-9ba0-46ff-85c4-1f2f2473ec44             Maggot   \n",
        "247494   SRLU  SRLU-0722366a-f8ff-4429-afae-7e57a74b8a74          Proudfoot   \n",
        "247495   SRLU  SRLU-8575b2c5-b50b-4ace-8c75-88d9d5518802             Bolger   \n",
        "247496   SRLU  SRLU-eba54968-69e0-457c-88f1-971ffb8b588e           Whitfoot   \n",
        "247497   SRLU  SRLU-373543b3-5a3f-46d8-ac5d-3d9c62dc4f45          Brownlock   \n",
        "247498   SRLU  SRLU-acfed352-571e-4d86-8797-e06bbef82174             Maggot   \n",
        "247499   SRLU  SRLU-0d1d1c47-b636-4976-a7ff-b588054831a7            Gardner   \n",
        "247500   SRLU  SRLU-b2af4b9b-1f21-4062-b35a-02119cf9f84a        Bracegirdle   \n",
        "247501   SRLU  SRLU-3221c550-4da9-45fc-916f-1309ccda0b15  Sackville-Baggins   \n",
        "247502   SRLU  SRLU-6b735a32-7a6f-4448-bc48-7126f87af0f8        Smallburrow   \n",
        "...       ...                                        ...                ...   \n",
        "247574   SRLU  SRLU-ba5ea241-fac5-41c2-a095-7d6c9cdd6513            Baggins   \n",
        "247575   SRLU  SRLU-47af0cae-b8cb-4688-b050-bd251fd8e873             Diggle   \n",
        "247576   SRLU  SRLU-6f7c0afb-a9f9-4d3d-97b8-34605ec0ee03              Goold   \n",
        "247577   SRLU  SRLU-ae7234af-496b-4dbe-a9cc-c4d85f5514bf             Bolger   \n",
        "247578   SRLU  SRLU-f0fee33c-3144-4547-bf5f-114a8e7a46b5             Noakes   \n",
        "247579   SRLU  SRLU-18707d0b-03bb-49f5-abcb-4835b1f65f8b            Labingi   \n",
        "247580   SRLU  SRLU-b794b6e3-9e50-4dd9-be22-80f86eeb741d        Brandagamba   \n",
        "247581   SRLU  SRLU-affc02b7-94fa-45ea-b101-62c87ec61524           Longhole   \n",
        "247582   SRLU  SRLU-83b09f34-8388-44f7-a2b8-4ca4a9e43b2e            Labingi   \n",
        "247583   SRLU  SRLU-329db5cb-0182-457d-a92c-1246781cfda2          Zaragamba   \n",
        "247584   SRLU  SRLU-75c58b07-69d8-43a6-aa13-da93b81a304f            Burrows   \n",
        "247585   SRLU  SRLU-6de7f8be-b30b-4112-82eb-0fa48b6326e4              Bunce   \n",
        "247586   SRLU  SRLU-4fef46d7-dd95-4eb3-90ea-b0f591a6e5c8              Brown   \n",
        "247587   SRLU  SRLU-fcdde0e4-1862-4bcc-94cc-7e2a0c7a1ace              Chubb   \n",
        "247588   SRLU  SRLU-433acaf6-6495-4cc3-a634-43dda3c25ba1           Whitfoot   \n",
        "247589   SRLU  SRLU-8922b049-d68b-451c-8f4f-8c6e0bb280bf          Sackville   \n",
        "247590   SRLU  SRLU-4baf5257-da09-40b0-8fb2-d640e206b5b0             Hogpen   \n",
        "247591   SRLU  SRLU-23b5963b-0bf1-46ac-9072-af8f73f11fdf         Hornblower   \n",
        "247592   SRLU  SRLU-48380fab-d81e-4111-a2de-3d7be4be8ba9             Hogpen   \n",
        "247593   SRLU  SRLU-a7f07326-3ac3-45c7-9796-1befcc1411a5         Gaukrogers   \n",
        "247594   SRLU  SRLU-3bc2003c-135b-4adb-a365-7f18bb8cb582             Gamgee   \n",
        "247595   SRLU  SRLU-ccc69f1c-58ec-405c-aea3-fe90c5fd5c14        Smallburrow   \n",
        "247596   SRLU  SRLU-9335fd86-1771-4332-8f4c-7cdb7cc3799b           Whitfoot   \n",
        "247597   SRLU  SRLU-97a3d694-74aa-46ec-85c6-ee9ff6adc0fa  Sackville-Baggins   \n",
        "247598   SRLU  SRLU-a657c76c-20ab-430a-9c0a-cd249a062b9c             Bolger   \n",
        "247599   SRLU  SRLU-eea01d0e-8548-428c-b76b-ae6069c291c9          Gawkroger   \n",
        "247600   SRLU  SRLU-787c2a27-2f87-4a05-a9bb-b38d62447393             Rumble   \n",
        "247601   SRLU  SRLU-67ba5d06-0c31-4f95-b6dd-6f357d41c06a           Sandyman   \n",
        "247602   SRLU  SRLU-31561e9e-707f-4f1f-8a2d-5f4db981335d            Oldbuck   \n",
        "247603   SRLU  SRLU-6a8d7bd0-ad47-47c0-917b-50209ded1845            Mugwort   \n",
        "\n",
        "       MiddleName  FirstName                    Street      City State    Zip  \\\n",
        "247472        NaN        NaN                       NaN       NaN   NaN    NaN   \n",
        "247474          D   Gloriana        3306 Rosewood Lane  New York    NY  10003   \n",
        "247475          R   Rudibert         4770 McVaney Road  New York    NY  10003   \n",
        "247476          A     Amalda          4975 Nickel Road  New York    NY  10003   \n",
        "247477          C       Rose          2038 Valley Lane  New York    NY  10003   \n",
        "247478          P   Prospero          2964 Polk Street  New York    NY  10003   \n",
        "247479          J       Bodo     1736 Timber Oak Drive  New York    NY  10003   \n",
        "247480          G   Peregrin       2137 Central Avenue  New York    NY  10003   \n",
        "247481          I    Trahand       727 Steve Hunt Road  New York    NY  10003   \n",
        "247482          G       Bell           59 Augusta Park  New York    NY  10003   \n",
        "247483          J   Gundobad        2177 Comfort Court  New York    NY  10003   \n",
        "247484          S    Melissa     1809 Scheuvront Drive  New York    NY  10003   \n",
        "247485          G     Cotman       319 Crosswind Drive  New York    NY  10003   \n",
        "247486          B   Cornelia       4083 Elliott Street  New York    NY  10003   \n",
        "247487          M  Donnamira   2495 Raintree Boulevard  New York    NY  10003   \n",
        "247488          B      Rollo           3722 Edsel Road  New York    NY  10003   \n",
        "247489          C   Gloriana    1008 Isaacs Creek Road  New York    NY  10003   \n",
        "247490          C      Melba     759 Confederate Drive  New York    NY  10003   \n",
        "247491          P      Pearl      4420 Bernardo Street  New York    NY  10003   \n",
        "247492          F     Amalda        2108 Juniper Drive  New York    NY  10003   \n",
        "247493          J  Adaldrida            2009 Jett Lane  New York    NY  10003   \n",
        "247494          L    Lobelia        4709 Bridge Avenue  New York    NY  10003   \n",
        "247495          A      Daisy          2972 Pike Street  New York    NY  10003   \n",
        "247496          A     Bertha    1626 Happy Hollow Road  New York    NY  10003   \n",
        "247497          B   Isembard    4847 Smithfield Avenue  New York    NY  10003   \n",
        "247498          B    Matilda       2024 Everette Alley  New York    NY  10003   \n",
        "247499          J   Isembold      2392 Railroad Street  New York    NY  10003   \n",
        "247500          C       Dora        3091 Parrill Court  New York    NY  10003   \n",
        "247501          L    Caradoc        3168 Brownton Road  New York    NY  10003   \n",
        "247502          B        Tom     995 Pinchelone Street  New York    NY  10003   \n",
        "...           ...        ...                       ...       ...   ...    ...   \n",
        "247574    Saradas   Asphodel           1448 Haven Lane  New York    NY  10003   \n",
        "247575   Fastolph   Heribald        4867 Settlers Lane  New York    NY  10003   \n",
        "247576     Haiduc    Matilda         3304 Saints Alley  New York    NY  10003   \n",
        "247577   Faramond       Iago       722 Sugar Camp Road  New York    NY  10003   \n",
        "247578        Odo    Dodinas        4866 Whitman Court  New York    NY  10003   \n",
        "247579     Chica       Rowan      408 Mount Olive Road  New York    NY  10003   \n",
        "247580       Bell    Miranda         2134 Owagner Lane  New York    NY  10003   \n",
        "247581    Celedor     Tobold       4179 Amethyst Drive  New York    NY  10003   \n",
        "247582      Folco   Mattalic           2231 Haven Lane  New York    NY  10003   \n",
        "247583    Jasmine     Myrtle           557 Reel Avenue  New York    NY  10003   \n",
        "247584      Posco     Cotman        2232 Cottrill Lane  New York    NY  10003   \n",
        "247585   Cornelia   Grossman       2306 Sunburst Drive  New York    NY  10003   \n",
        "247586    Lavinia    Camelia          1342 Johnny Lane  New York    NY  10003   \n",
        "247587     Selina     Alaric      4282 Brooklyn Street  New York    NY  10003   \n",
        "247588      Nicol     Bildad       967 Richland Avenue  New York    NY  10003   \n",
        "247589      Melba  Athanaric        2734 Oakmound Road  New York    NY  10003   \n",
        "247590   Sagramor       Uffo           769 Penn Street  New York    NY  10003   \n",
        "247591   Columbus       Moro       3944 Hickman Street  New York    NY  10003   \n",
        "247592      Gerda    Celedor          275 Walnut Drive  New York    NY  10003   \n",
        "247593  Celendine   Cornelia         1941 Gateway Road  New York    NY  10003   \n",
        "247594       Bell  Gundabald       4157 Zimmerman Lane  New York    NY  10003   \n",
        "247595       Bodo  Adaldrida      4998 Hide A Way Road  New York    NY  10003   \n",
        "247596    Rorimac   Faramond       1877 Lunetta Street  New York    NY  10003   \n",
        "247597    Savanna      Linda      4034 Mulberry Avenue  New York    NY  10003   \n",
        "247598       Nina  Jessamine          1471 Oakway Lane  New York    NY  10003   \n",
        "247599    Alberic      Rhoda          3167 Ethels Lane  New York    NY  10003   \n",
        "247600  Bandobras    Carambo      1456 Westfall Avenue  New York    NY  10003   \n",
        "247601   Cornelia    Melilot         1522 Davis Avenue  New York    NY  10003   \n",
        "247602   Peregrin  Eglantine  4856 Stanton Hollow Road  New York    NY  10003   \n",
        "247603       Nick     Marcus      1945 Coolidge Street  New York    NY  10003   \n",
        "\n",
        "             Phone  ID-DOC  \n",
        "247472  21299875XX     NaN  \n",
        "247474  2129987506     NaN  \n",
        "247475  2129987500     NaN  \n",
        "247476  2129987501     NaN  \n",
        "247477  2129987502     NaN  \n",
        "247478  2129987503     NaN  \n",
        "247479  2129987504     NaN  \n",
        "247480  2129987505     NaN  \n",
        "247481  2129987557     NaN  \n",
        "247482  2129987507     NaN  \n",
        "247483  2129987508     NaN  \n",
        "247484  2129987509     NaN  \n",
        "247485  2129987510     NaN  \n",
        "247486  2129987511     NaN  \n",
        "247487  2129987512     NaN  \n",
        "247488  2129987513     NaN  \n",
        "247489  2129987514     NaN  \n",
        "247490  2129987515     NaN  \n",
        "247491  2129987516     NaN  \n",
        "247492  2129987517     NaN  \n",
        "247493  2129987518     NaN  \n",
        "247494  2129987519     NaN  \n",
        "247495  2129987520     NaN  \n",
        "247496  2129987521     NaN  \n",
        "247497  2129987522     NaN  \n",
        "247498  2129987523     NaN  \n",
        "247499  2129987524     NaN  \n",
        "247500  2129987525     NaN  \n",
        "247501  2129987526     NaN  \n",
        "247502  2129987527     NaN  \n",
        "...            ...     ...  \n",
        "247574  2129987504     NaN  \n",
        "247575  2129987508     NaN  \n",
        "247576  2129987512     NaN  \n",
        "247577  2129987516     NaN  \n",
        "247578  2129987520     NaN  \n",
        "247579  2129987524     NaN  \n",
        "247580  2129987528     NaN  \n",
        "247581  2129987532     NaN  \n",
        "247582  2129987536     NaN  \n",
        "247583  2129987540     NaN  \n",
        "247584  2129987544     NaN  \n",
        "247585  2129987548     NaN  \n",
        "247586  2129987552     NaN  \n",
        "247587  2129987556     NaN  \n",
        "247588  2129987560     NaN  \n",
        "247589  2129987564     NaN  \n",
        "247590  2129987568     NaN  \n",
        "247591  2129987572     NaN  \n",
        "247592  2129987576     NaN  \n",
        "247593  2129987580     NaN  \n",
        "247594  2129987584     NaN  \n",
        "247595  2129987588     NaN  \n",
        "247596  2129987592     NaN  \n",
        "247597  2129987596     NaN  \n",
        "247598  2129987515     NaN  \n",
        "247599  2129987529     NaN  \n",
        "247600  2129987551     NaN  \n",
        "247601  2129987555     NaN  \n",
        "247602  2129987573     NaN  \n",
        "247603  2129987583     NaN  \n",
        "\n",
        "[131 rows x 11 columns]"
       ]
      }
     ],
     "prompt_number": 42
    },
    {
     "cell_type": "code",
     "collapsed": false,
     "input": [
      "address = node_data[node_data['Street'].notnull()]\n",
      "states = node_data[node_data['State'] == 'MD']\n",
      "\n",
      "for index, row in states.iterrows():\n",
      "    \n",
      "    \n",
      "# tmp[tmp['Phone'].str.contains('21299875')]\n",
      "print len(address)\n",
      "print len(states)"
     ],
     "language": "python",
     "metadata": {},
     "outputs": [
      {
       "output_type": "stream",
       "stream": "stdout",
       "text": [
        "296779\n",
        "5713\n"
       ]
      }
     ],
     "prompt_number": 49
    },
    {
     "cell_type": "code",
     "collapsed": false,
     "input": [
      "#create a graph\n",
      "G=nx.Graph()\n",
      "\n",
      "#add nodes to the graph\n",
      "for index, row in (node_data[['GUID']]).iterrows():\n",
      "    G.add_node(row['GUID'])"
     ],
     "language": "python",
     "metadata": {},
     "outputs": [],
     "prompt_number": 5
    },
    {
     "cell_type": "code",
     "collapsed": false,
     "input": [
      "#show the graph\n",
      "nx.draw(G)\n",
      "plt.show()"
     ],
     "language": "python",
     "metadata": {},
     "outputs": []
    },
    {
     "cell_type": "code",
     "collapsed": false,
     "input": [
      "\n",
      "#add edges to the graph\n",
      "# edges = edge_data[['TCS']]\n",
      "edges = edge_data[['APS']]\n",
      "\n",
      "edges.mean()\n",
      "\n",
      "# for index, row in edges.iterrows():\n",
      "#     node1 =  row['GUID_1']\n",
      "#     node2 = row['GUID_2']\n",
      "#     TCS =  row['TCS']\n",
      "    \n",
      "#     G.add_edge(node1,node2,weight=TCS)\n",
      "    \n",
      "#     if index == 1:\n",
      "#         break\n",
      "# edge_data[['EDGE_ID','GUID_1','GUID_2','TCS']]    \n"
     ],
     "language": "python",
     "metadata": {},
     "outputs": [
      {
       "ename": "KeyError",
       "evalue": "\"['APS'] not in index\"",
       "output_type": "pyerr",
       "traceback": [
        "\u001b[1;31m---------------------------------------------------------------------------\u001b[0m\n\u001b[1;31mKeyError\u001b[0m                                  Traceback (most recent call last)",
        "\u001b[1;32m<ipython-input-27-5ed292be2103>\u001b[0m in \u001b[0;36m<module>\u001b[1;34m()\u001b[0m\n\u001b[0;32m      2\u001b[0m \u001b[1;31m#add edges to the graph\u001b[0m\u001b[1;33m\u001b[0m\u001b[1;33m\u001b[0m\u001b[0m\n\u001b[0;32m      3\u001b[0m \u001b[1;31m# edges = edge_data[['TCS']]\u001b[0m\u001b[1;33m\u001b[0m\u001b[1;33m\u001b[0m\u001b[0m\n\u001b[1;32m----> 4\u001b[1;33m \u001b[0medges\u001b[0m \u001b[1;33m=\u001b[0m \u001b[0medge_data\u001b[0m\u001b[1;33m[\u001b[0m\u001b[1;33m[\u001b[0m\u001b[1;34m'APS'\u001b[0m\u001b[1;33m]\u001b[0m\u001b[1;33m]\u001b[0m\u001b[1;33m\u001b[0m\u001b[0m\n\u001b[0m\u001b[0;32m      5\u001b[0m \u001b[1;33m\u001b[0m\u001b[0m\n\u001b[0;32m      6\u001b[0m \u001b[0medges\u001b[0m\u001b[1;33m.\u001b[0m\u001b[0mmean\u001b[0m\u001b[1;33m(\u001b[0m\u001b[1;33m)\u001b[0m\u001b[1;33m\u001b[0m\u001b[0m\n",
        "\u001b[1;32mC:\\Python27\\lib\\site-packages\\pandas\\core\\frame.pyc\u001b[0m in \u001b[0;36m__getitem__\u001b[1;34m(self, key)\u001b[0m\n\u001b[0;32m   1670\u001b[0m         \u001b[1;32mif\u001b[0m \u001b[0misinstance\u001b[0m\u001b[1;33m(\u001b[0m\u001b[0mkey\u001b[0m\u001b[1;33m,\u001b[0m \u001b[1;33m(\u001b[0m\u001b[0mSeries\u001b[0m\u001b[1;33m,\u001b[0m \u001b[0mnp\u001b[0m\u001b[1;33m.\u001b[0m\u001b[0mndarray\u001b[0m\u001b[1;33m,\u001b[0m \u001b[0mlist\u001b[0m\u001b[1;33m)\u001b[0m\u001b[1;33m)\u001b[0m\u001b[1;33m:\u001b[0m\u001b[1;33m\u001b[0m\u001b[0m\n\u001b[0;32m   1671\u001b[0m             \u001b[1;31m# either boolean or fancy integer index\u001b[0m\u001b[1;33m\u001b[0m\u001b[1;33m\u001b[0m\u001b[0m\n\u001b[1;32m-> 1672\u001b[1;33m             \u001b[1;32mreturn\u001b[0m \u001b[0mself\u001b[0m\u001b[1;33m.\u001b[0m\u001b[0m_getitem_array\u001b[0m\u001b[1;33m(\u001b[0m\u001b[0mkey\u001b[0m\u001b[1;33m)\u001b[0m\u001b[1;33m\u001b[0m\u001b[0m\n\u001b[0m\u001b[0;32m   1673\u001b[0m         \u001b[1;32melif\u001b[0m \u001b[0misinstance\u001b[0m\u001b[1;33m(\u001b[0m\u001b[0mkey\u001b[0m\u001b[1;33m,\u001b[0m \u001b[0mDataFrame\u001b[0m\u001b[1;33m)\u001b[0m\u001b[1;33m:\u001b[0m\u001b[1;33m\u001b[0m\u001b[0m\n\u001b[0;32m   1674\u001b[0m             \u001b[1;32mreturn\u001b[0m \u001b[0mself\u001b[0m\u001b[1;33m.\u001b[0m\u001b[0m_getitem_frame\u001b[0m\u001b[1;33m(\u001b[0m\u001b[0mkey\u001b[0m\u001b[1;33m)\u001b[0m\u001b[1;33m\u001b[0m\u001b[0m\n",
        "\u001b[1;32mC:\\Python27\\lib\\site-packages\\pandas\\core\\frame.pyc\u001b[0m in \u001b[0;36m_getitem_array\u001b[1;34m(self, key)\u001b[0m\n\u001b[0;32m   1714\u001b[0m             \u001b[1;32mreturn\u001b[0m \u001b[0mself\u001b[0m\u001b[1;33m.\u001b[0m\u001b[0mtake\u001b[0m\u001b[1;33m(\u001b[0m\u001b[0mindexer\u001b[0m\u001b[1;33m,\u001b[0m \u001b[0maxis\u001b[0m\u001b[1;33m=\u001b[0m\u001b[1;36m0\u001b[0m\u001b[1;33m,\u001b[0m \u001b[0mconvert\u001b[0m\u001b[1;33m=\u001b[0m\u001b[0mFalse\u001b[0m\u001b[1;33m)\u001b[0m\u001b[1;33m\u001b[0m\u001b[0m\n\u001b[0;32m   1715\u001b[0m         \u001b[1;32melse\u001b[0m\u001b[1;33m:\u001b[0m\u001b[1;33m\u001b[0m\u001b[0m\n\u001b[1;32m-> 1716\u001b[1;33m             \u001b[0mindexer\u001b[0m \u001b[1;33m=\u001b[0m \u001b[0mself\u001b[0m\u001b[1;33m.\u001b[0m\u001b[0mix\u001b[0m\u001b[1;33m.\u001b[0m\u001b[0m_convert_to_indexer\u001b[0m\u001b[1;33m(\u001b[0m\u001b[0mkey\u001b[0m\u001b[1;33m,\u001b[0m \u001b[0maxis\u001b[0m\u001b[1;33m=\u001b[0m\u001b[1;36m1\u001b[0m\u001b[1;33m)\u001b[0m\u001b[1;33m\u001b[0m\u001b[0m\n\u001b[0m\u001b[0;32m   1717\u001b[0m             \u001b[1;32mreturn\u001b[0m \u001b[0mself\u001b[0m\u001b[1;33m.\u001b[0m\u001b[0mtake\u001b[0m\u001b[1;33m(\u001b[0m\u001b[0mindexer\u001b[0m\u001b[1;33m,\u001b[0m \u001b[0maxis\u001b[0m\u001b[1;33m=\u001b[0m\u001b[1;36m1\u001b[0m\u001b[1;33m,\u001b[0m \u001b[0mconvert\u001b[0m\u001b[1;33m=\u001b[0m\u001b[0mTrue\u001b[0m\u001b[1;33m)\u001b[0m\u001b[1;33m\u001b[0m\u001b[0m\n\u001b[0;32m   1718\u001b[0m \u001b[1;33m\u001b[0m\u001b[0m\n",
        "\u001b[1;32mC:\\Python27\\lib\\site-packages\\pandas\\core\\indexing.pyc\u001b[0m in \u001b[0;36m_convert_to_indexer\u001b[1;34m(self, obj, axis, is_setter)\u001b[0m\n\u001b[0;32m   1083\u001b[0m                     \u001b[1;32mif\u001b[0m \u001b[0misinstance\u001b[0m\u001b[1;33m(\u001b[0m\u001b[0mobj\u001b[0m\u001b[1;33m,\u001b[0m \u001b[0mtuple\u001b[0m\u001b[1;33m)\u001b[0m \u001b[1;32mand\u001b[0m \u001b[0mis_setter\u001b[0m\u001b[1;33m:\u001b[0m\u001b[1;33m\u001b[0m\u001b[0m\n\u001b[0;32m   1084\u001b[0m                         \u001b[1;32mreturn\u001b[0m \u001b[1;33m{\u001b[0m\u001b[1;34m'key'\u001b[0m\u001b[1;33m:\u001b[0m \u001b[0mobj\u001b[0m\u001b[1;33m}\u001b[0m\u001b[1;33m\u001b[0m\u001b[0m\n\u001b[1;32m-> 1085\u001b[1;33m                     \u001b[1;32mraise\u001b[0m \u001b[0mKeyError\u001b[0m\u001b[1;33m(\u001b[0m\u001b[1;34m'%s not in index'\u001b[0m \u001b[1;33m%\u001b[0m \u001b[0mobjarr\u001b[0m\u001b[1;33m[\u001b[0m\u001b[0mmask\u001b[0m\u001b[1;33m]\u001b[0m\u001b[1;33m)\u001b[0m\u001b[1;33m\u001b[0m\u001b[0m\n\u001b[0m\u001b[0;32m   1086\u001b[0m \u001b[1;33m\u001b[0m\u001b[0m\n\u001b[0;32m   1087\u001b[0m                 \u001b[1;32mreturn\u001b[0m \u001b[0mindexer\u001b[0m\u001b[1;33m\u001b[0m\u001b[0m\n",
        "\u001b[1;31mKeyError\u001b[0m: \"['APS'] not in index\""
       ]
      }
     ],
     "prompt_number": 27
    },
    {
     "cell_type": "code",
     "collapsed": false,
     "input": [
      "print G"
     ],
     "language": "python",
     "metadata": {},
     "outputs": [
      {
       "output_type": "stream",
       "stream": "stdout",
       "text": [
        "\n"
       ]
      }
     ],
     "prompt_number": 7
    },
    {
     "cell_type": "code",
     "collapsed": false,
     "input": [],
     "language": "python",
     "metadata": {},
     "outputs": []
    }
   ],
   "metadata": {}
  }
 ]
}