{
 "metadata": {
  "name": "",
  "signature": "sha256:462a0f2fe1f729340da6c33f0740cca1310164832db2b5a026d331fb5bbcf97d"
 },
 "nbformat": 3,
 "nbformat_minor": 0,
 "worksheets": [
  {
   "cells": [
    {
     "cell_type": "code",
     "collapsed": false,
     "input": [
      "import pandas as pd\n",
      "import numpy as np\n",
      "import difflib\n",
      "import matplotlib.pyplot as plt\n",
      "import cPickle as pickle\n",
      "import networkx as nx"
     ],
     "language": "python",
     "metadata": {},
     "outputs": [],
     "prompt_number": 2
    },
    {
     "cell_type": "code",
     "collapsed": false,
     "input": [
      "nodes = pd.read_excel('nodes.xlsx')\n",
      "edges = pd.read_excel('edges.xlsx')"
     ],
     "language": "python",
     "metadata": {},
     "outputs": [
      {
       "ename": "IOError",
       "evalue": "[Errno 2] No such file or directory: 'nodes.xlsx'",
       "output_type": "pyerr",
       "traceback": [
        "\u001b[1;31m---------------------------------------------------------------------------\u001b[0m\n\u001b[1;31mIOError\u001b[0m                                   Traceback (most recent call last)",
        "\u001b[1;32m<ipython-input-3-088b019bf0d0>\u001b[0m in \u001b[0;36m<module>\u001b[1;34m()\u001b[0m\n\u001b[1;32m----> 1\u001b[1;33m \u001b[0mnodes\u001b[0m \u001b[1;33m=\u001b[0m \u001b[0mpd\u001b[0m\u001b[1;33m.\u001b[0m\u001b[0mread_excel\u001b[0m\u001b[1;33m(\u001b[0m\u001b[1;34m'nodes.xlsx'\u001b[0m\u001b[1;33m)\u001b[0m\u001b[1;33m\u001b[0m\u001b[0m\n\u001b[0m\u001b[0;32m      2\u001b[0m \u001b[0medges\u001b[0m \u001b[1;33m=\u001b[0m \u001b[0mpd\u001b[0m\u001b[1;33m.\u001b[0m\u001b[0mread_excel\u001b[0m\u001b[1;33m(\u001b[0m\u001b[1;34m'edges.xlsx'\u001b[0m\u001b[1;33m)\u001b[0m\u001b[1;33m\u001b[0m\u001b[0m\n",
        "\u001b[1;32m/home/harshal/anaconda/lib/python2.7/site-packages/pandas/io/excel.pyc\u001b[0m in \u001b[0;36mread_excel\u001b[1;34m(io, sheetname, **kwds)\u001b[0m\n\u001b[0;32m    111\u001b[0m     \u001b[0mengine\u001b[0m \u001b[1;33m=\u001b[0m \u001b[0mkwds\u001b[0m\u001b[1;33m.\u001b[0m\u001b[0mpop\u001b[0m\u001b[1;33m(\u001b[0m\u001b[1;34m'engine'\u001b[0m\u001b[1;33m,\u001b[0m \u001b[0mNone\u001b[0m\u001b[1;33m)\u001b[0m\u001b[1;33m\u001b[0m\u001b[0m\n\u001b[0;32m    112\u001b[0m \u001b[1;33m\u001b[0m\u001b[0m\n\u001b[1;32m--> 113\u001b[1;33m     \u001b[1;32mreturn\u001b[0m \u001b[0mExcelFile\u001b[0m\u001b[1;33m(\u001b[0m\u001b[0mio\u001b[0m\u001b[1;33m,\u001b[0m \u001b[0mengine\u001b[0m\u001b[1;33m=\u001b[0m\u001b[0mengine\u001b[0m\u001b[1;33m)\u001b[0m\u001b[1;33m.\u001b[0m\u001b[0mparse\u001b[0m\u001b[1;33m(\u001b[0m\u001b[0msheetname\u001b[0m\u001b[1;33m=\u001b[0m\u001b[0msheetname\u001b[0m\u001b[1;33m,\u001b[0m \u001b[1;33m**\u001b[0m\u001b[0mkwds\u001b[0m\u001b[1;33m)\u001b[0m\u001b[1;33m\u001b[0m\u001b[0m\n\u001b[0m\u001b[0;32m    114\u001b[0m \u001b[1;33m\u001b[0m\u001b[0m\n\u001b[0;32m    115\u001b[0m \u001b[1;33m\u001b[0m\u001b[0m\n",
        "\u001b[1;32m/home/harshal/anaconda/lib/python2.7/site-packages/pandas/io/excel.pyc\u001b[0m in \u001b[0;36m__init__\u001b[1;34m(self, io, **kwds)\u001b[0m\n\u001b[0;32m    148\u001b[0m                 \u001b[0mself\u001b[0m\u001b[1;33m.\u001b[0m\u001b[0mbook\u001b[0m \u001b[1;33m=\u001b[0m \u001b[0mxlrd\u001b[0m\u001b[1;33m.\u001b[0m\u001b[0mopen_workbook\u001b[0m\u001b[1;33m(\u001b[0m\u001b[0mfile_contents\u001b[0m\u001b[1;33m=\u001b[0m\u001b[0mdata\u001b[0m\u001b[1;33m)\u001b[0m\u001b[1;33m\u001b[0m\u001b[0m\n\u001b[0;32m    149\u001b[0m             \u001b[1;32melse\u001b[0m\u001b[1;33m:\u001b[0m\u001b[1;33m\u001b[0m\u001b[0m\n\u001b[1;32m--> 150\u001b[1;33m                 \u001b[0mself\u001b[0m\u001b[1;33m.\u001b[0m\u001b[0mbook\u001b[0m \u001b[1;33m=\u001b[0m \u001b[0mxlrd\u001b[0m\u001b[1;33m.\u001b[0m\u001b[0mopen_workbook\u001b[0m\u001b[1;33m(\u001b[0m\u001b[0mio\u001b[0m\u001b[1;33m)\u001b[0m\u001b[1;33m\u001b[0m\u001b[0m\n\u001b[0m\u001b[0;32m    151\u001b[0m         \u001b[1;32melif\u001b[0m \u001b[0mengine\u001b[0m \u001b[1;33m==\u001b[0m \u001b[1;34m'xlrd'\u001b[0m \u001b[1;32mand\u001b[0m \u001b[0misinstance\u001b[0m\u001b[1;33m(\u001b[0m\u001b[0mio\u001b[0m\u001b[1;33m,\u001b[0m \u001b[0mxlrd\u001b[0m\u001b[1;33m.\u001b[0m\u001b[0mBook\u001b[0m\u001b[1;33m)\u001b[0m\u001b[1;33m:\u001b[0m\u001b[1;33m\u001b[0m\u001b[0m\n\u001b[0;32m    152\u001b[0m             \u001b[0mself\u001b[0m\u001b[1;33m.\u001b[0m\u001b[0mbook\u001b[0m \u001b[1;33m=\u001b[0m \u001b[0mio\u001b[0m\u001b[1;33m\u001b[0m\u001b[0m\n",
        "\u001b[1;32m/home/harshal/anaconda/lib/python2.7/site-packages/xlrd/__init__.pyc\u001b[0m in \u001b[0;36mopen_workbook\u001b[1;34m(filename, logfile, verbosity, use_mmap, file_contents, encoding_override, formatting_info, on_demand, ragged_rows)\u001b[0m\n\u001b[0;32m    392\u001b[0m         \u001b[0mpeek\u001b[0m \u001b[1;33m=\u001b[0m \u001b[0mfile_contents\u001b[0m\u001b[1;33m[\u001b[0m\u001b[1;33m:\u001b[0m\u001b[0mpeeksz\u001b[0m\u001b[1;33m]\u001b[0m\u001b[1;33m\u001b[0m\u001b[0m\n\u001b[0;32m    393\u001b[0m     \u001b[1;32melse\u001b[0m\u001b[1;33m:\u001b[0m\u001b[1;33m\u001b[0m\u001b[0m\n\u001b[1;32m--> 394\u001b[1;33m         \u001b[0mf\u001b[0m \u001b[1;33m=\u001b[0m \u001b[0mopen\u001b[0m\u001b[1;33m(\u001b[0m\u001b[0mfilename\u001b[0m\u001b[1;33m,\u001b[0m \u001b[1;34m\"rb\"\u001b[0m\u001b[1;33m)\u001b[0m\u001b[1;33m\u001b[0m\u001b[0m\n\u001b[0m\u001b[0;32m    395\u001b[0m         \u001b[0mpeek\u001b[0m \u001b[1;33m=\u001b[0m \u001b[0mf\u001b[0m\u001b[1;33m.\u001b[0m\u001b[0mread\u001b[0m\u001b[1;33m(\u001b[0m\u001b[0mpeeksz\u001b[0m\u001b[1;33m)\u001b[0m\u001b[1;33m\u001b[0m\u001b[0m\n\u001b[0;32m    396\u001b[0m         \u001b[0mf\u001b[0m\u001b[1;33m.\u001b[0m\u001b[0mclose\u001b[0m\u001b[1;33m(\u001b[0m\u001b[1;33m)\u001b[0m\u001b[1;33m\u001b[0m\u001b[0m\n",
        "\u001b[1;31mIOError\u001b[0m: [Errno 2] No such file or directory: 'nodes.xlsx'"
       ]
      }
     ],
     "prompt_number": 3
    },
    {
     "cell_type": "code",
     "collapsed": false,
     "input": [
      "nodes.to_pickle('nodes.pkl')\n",
      "edges.to_pickle('edges.pkl')"
     ],
     "language": "python",
     "metadata": {},
     "outputs": [],
     "prompt_number": 15
    },
    {
     "cell_type": "code",
     "collapsed": false,
     "input": [
      "nodes = pd.read_pickle('nodes.pkl')\n",
      "edges = pd.read_pickle('edges.pkl')"
     ],
     "language": "python",
     "metadata": {},
     "outputs": [],
     "prompt_number": 6
    },
    {
     "cell_type": "code",
     "collapsed": false,
     "input": [
      "nodes[nodes['GUID']=='SEED-1']"
     ],
     "language": "python",
     "metadata": {},
     "outputs": [
      {
       "html": [
        "<div style=\"max-height:1000px;max-width:1500px;overflow:auto;\">\n",
        "<table border=\"1\" class=\"dataframe\">\n",
        "  <thead>\n",
        "    <tr style=\"text-align: right;\">\n",
        "      <th></th>\n",
        "      <th>Source</th>\n",
        "      <th>GUID</th>\n",
        "      <th>LastName</th>\n",
        "      <th>MiddleName</th>\n",
        "      <th>FirstName</th>\n",
        "      <th>Street</th>\n",
        "      <th>City</th>\n",
        "      <th>State</th>\n",
        "      <th>Zip</th>\n",
        "      <th>Phone</th>\n",
        "      <th>ID-DOC</th>\n",
        "    </tr>\n",
        "  </thead>\n",
        "  <tbody>\n",
        "    <tr>\n",
        "      <th>247472</th>\n",
        "      <td> SEED</td>\n",
        "      <td> SEED-1</td>\n",
        "      <td> NaN</td>\n",
        "      <td> NaN</td>\n",
        "      <td> NaN</td>\n",
        "      <td> NaN</td>\n",
        "      <td> NaN</td>\n",
        "      <td> NaN</td>\n",
        "      <td>NaN</td>\n",
        "      <td> 21299875XX</td>\n",
        "      <td>NaN</td>\n",
        "    </tr>\n",
        "  </tbody>\n",
        "</table>\n",
        "</div>"
       ],
       "metadata": {},
       "output_type": "pyout",
       "prompt_number": 18,
       "text": [
        "       Source    GUID LastName MiddleName FirstName Street City State  Zip  \\\n",
        "247472   SEED  SEED-1      NaN        NaN       NaN    NaN  NaN   NaN  NaN   \n",
        "\n",
        "             Phone  ID-DOC  \n",
        "247472  21299875XX     NaN  "
       ]
      }
     ],
     "prompt_number": 18
    },
    {
     "cell_type": "code",
     "collapsed": false,
     "input": [
      "nodes[nodes['GUID']=='SEED-2']"
     ],
     "language": "python",
     "metadata": {},
     "outputs": [
      {
       "html": [
        "<div style=\"max-height:1000px;max-width:1500px;overflow:auto;\">\n",
        "<table border=\"1\" class=\"dataframe\">\n",
        "  <thead>\n",
        "    <tr style=\"text-align: right;\">\n",
        "      <th></th>\n",
        "      <th>Source</th>\n",
        "      <th>GUID</th>\n",
        "      <th>LastName</th>\n",
        "      <th>MiddleName</th>\n",
        "      <th>FirstName</th>\n",
        "      <th>Street</th>\n",
        "      <th>City</th>\n",
        "      <th>State</th>\n",
        "      <th>Zip</th>\n",
        "      <th>Phone</th>\n",
        "      <th>ID-DOC</th>\n",
        "    </tr>\n",
        "  </thead>\n",
        "  <tbody>\n",
        "    <tr>\n",
        "      <th>247473</th>\n",
        "      <td> SEED</td>\n",
        "      <td> SEED-2</td>\n",
        "      <td> NaN</td>\n",
        "      <td> NaN</td>\n",
        "      <td> NaN</td>\n",
        "      <td> 4408 East Madison Ave.</td>\n",
        "      <td> Bethesda</td>\n",
        "      <td> MD</td>\n",
        "      <td> 20014</td>\n",
        "      <td> NaN</td>\n",
        "      <td>NaN</td>\n",
        "    </tr>\n",
        "  </tbody>\n",
        "</table>\n",
        "</div>"
       ],
       "metadata": {},
       "output_type": "pyout",
       "prompt_number": 19,
       "text": [
        "       Source    GUID LastName MiddleName FirstName                  Street  \\\n",
        "247473   SEED  SEED-2      NaN        NaN       NaN  4408 East Madison Ave.   \n",
        "\n",
        "            City State    Zip Phone  ID-DOC  \n",
        "247473  Bethesda    MD  20014   NaN     NaN  "
       ]
      }
     ],
     "prompt_number": 19
    },
    {
     "cell_type": "code",
     "collapsed": false,
     "input": [
      "len(edges[edges['GUID_1']=='SEED-1'])"
     ],
     "language": "python",
     "metadata": {},
     "outputs": [
      {
       "metadata": {},
       "output_type": "pyout",
       "prompt_number": 27,
       "text": [
        "130"
       ]
      }
     ],
     "prompt_number": 27
    },
    {
     "cell_type": "code",
     "collapsed": false,
     "input": [
      "len(edges[edges['GUID_2']=='SEED-2'])"
     ],
     "language": "python",
     "metadata": {},
     "outputs": [
      {
       "metadata": {},
       "output_type": "pyout",
       "prompt_number": 32,
       "text": [
        "9"
       ]
      }
     ],
     "prompt_number": 32
    },
    {
     "cell_type": "code",
     "collapsed": false,
     "input": [
      "edges_new = edges.groupby('GUID_1')"
     ],
     "language": "python",
     "metadata": {},
     "outputs": [],
     "prompt_number": 7
    },
    {
     "cell_type": "code",
     "collapsed": false,
     "input": [
      "guid_1 = edges['GUID_1'].tolist()\n",
      "guid_2 = edges['GUID_2'].tolist()\n",
      "distance = edges['TCS'].tolist()\n",
      "\n",
      "guid_1 = [str(key) for key in guid_1]\n",
      "guid_2 = [str(key) for key in guid_2]\n",
      "distance = [(1 - float(key)) for key in tcs]"
     ],
     "language": "python",
     "metadata": {},
     "outputs": [],
     "prompt_number": 333
    },
    {
     "cell_type": "code",
     "collapsed": false,
     "input": [
      "adj_list=[]\n",
      "for i in range(0,len(guid_1)):\n",
      "    adj_list.append(guid_1[i] + ' ' + guid_2[i] + ' ' + str(distance[i]))"
     ],
     "language": "python",
     "metadata": {},
     "outputs": [],
     "prompt_number": 335
    },
    {
     "cell_type": "code",
     "collapsed": false,
     "input": [
      "G = nx.parse_edgelist(adj_list, nodetype = str, data=(('weight',float),))"
     ],
     "language": "python",
     "metadata": {},
     "outputs": [],
     "prompt_number": 361
    },
    {
     "cell_type": "code",
     "collapsed": false,
     "input": [
      "paths = nx.shortest_path(G,'SEED-1','SEED-2',weight='weight')"
     ],
     "language": "python",
     "metadata": {},
     "outputs": [],
     "prompt_number": 362
    },
    {
     "cell_type": "code",
     "collapsed": false,
     "input": [
      "path_distance = 0\n",
      "for i in range(0,len(paths)-2):\n",
      "    node1 = paths[i]\n",
      "    node2 = paths[i+1]\n",
      "    path_distance += G[node1][node2]['weight']\n",
      "print \"Final path distance\"    \n",
      "print path_distance"
     ],
     "language": "python",
     "metadata": {},
     "outputs": [
      {
       "output_type": "stream",
       "stream": "stdout",
       "text": [
        "Final path distance\n",
        "0.80691311\n"
       ]
      }
     ],
     "prompt_number": 363
    },
    {
     "cell_type": "code",
     "collapsed": false,
     "input": [
      "for path in paths:\n",
      "    print (path)"
     ],
     "language": "python",
     "metadata": {},
     "outputs": [
      {
       "output_type": "stream",
       "stream": "stdout",
       "text": [
        "SEED-1\n",
        "SRLU-2a5289eb-5406-4da3-941d-dcb19b3ca628\n",
        "CCCR-a57685ee-ba9f-4bfb-b2f6-f179b693ee12\n",
        "CCTR-a95c7942-7d7a-43b7-9fff-1e01218b7b46\n",
        "SEED-2\n"
       ]
      }
     ],
     "prompt_number": 364
    },
    {
     "cell_type": "code",
     "collapsed": false,
     "input": [
      "for node in paths:\n",
      "    print nodes[nodes['GUID']== node]\n",
      "    print \"---------------------------\""
     ],
     "language": "python",
     "metadata": {},
     "outputs": [
      {
       "output_type": "stream",
       "stream": "stdout",
       "text": [
        "       Source    GUID LastName MiddleName FirstName Street City State  Zip  \\\n",
        "247472   SEED  SEED-1      NaN        NaN       NaN    NaN  NaN   NaN  NaN   \n",
        "\n",
        "             Phone  ID-DOC  \n",
        "247472  21299875XX     NaN  \n",
        "---------------------------\n",
        "       Source                                       GUID    LastName  \\\n",
        "247474   SRLU  SRLU-2a5289eb-5406-4da3-941d-dcb19b3ca628  Brandybuck   \n",
        "\n",
        "       MiddleName FirstName              Street      City State    Zip  \\\n",
        "247474          D  Gloriana  3306 Rosewood Lane  New York    NY  10003   \n",
        "\n",
        "             Phone  ID-DOC  \n",
        "247474  2129987506     NaN  "
       ]
      },
      {
       "output_type": "stream",
       "stream": "stdout",
       "text": [
        "\n",
        "---------------------------\n",
        "  Source                                       GUID    LastName MiddleName  \\\n",
        "0   CCCR  CCCR-a57685ee-ba9f-4bfb-b2f6-f179b693ee12  Brandybuck  Donnamira   \n",
        "\n",
        "  FirstName              Street       City State    Zip Phone        ID-DOC  \n",
        "0  Gloriana  2719 Pin Oak Drive  Manhattan    NY  10018   NaN  5.334857e+15  "
       ]
      },
      {
       "output_type": "stream",
       "stream": "stdout",
       "text": [
        "\n",
        "---------------------------\n",
        "      Source                                       GUID LastName MiddleName  \\\n",
        "49183   CCTR  CCTR-a95c7942-7d7a-43b7-9fff-1e01218b7b46      NaN        NaN   \n",
        "49187   CCTR  CCTR-a95c7942-7d7a-43b7-9fff-1e01218b7b46      NaN        NaN   \n",
        "\n",
        "      FirstName            Street      City State    Zip Phone        ID-DOC  \n",
        "49183       NaN   18 Wayback Road  Bethesda    MD  20014   NaN  5.334857e+15  \n",
        "49187       NaN  1323 Frosty Lane      Lodi    NY  14860   NaN  4.485358e+15  "
       ]
      },
      {
       "output_type": "stream",
       "stream": "stdout",
       "text": [
        "\n",
        "---------------------------\n",
        "       Source    GUID LastName MiddleName FirstName                  Street  \\\n",
        "247473   SEED  SEED-2      NaN        NaN       NaN  4408 East Madison Ave.   \n",
        "\n",
        "            City State    Zip Phone  ID-DOC  \n",
        "247473  Bethesda    MD  20014   NaN     NaN  "
       ]
      },
      {
       "output_type": "stream",
       "stream": "stdout",
       "text": [
        "\n",
        "---------------------------\n"
       ]
      }
     ],
     "prompt_number": 344
    },
    {
     "cell_type": "code",
     "collapsed": false,
     "input": [
      "G.remove_edge(paths[-1],paths[-2])"
     ],
     "language": "python",
     "metadata": {},
     "outputs": [],
     "prompt_number": 365
    },
    {
     "cell_type": "code",
     "collapsed": false,
     "input": [
      "paths = nx.shortest_path(G,'SEED-1','SEED-2',weight='weight')"
     ],
     "language": "python",
     "metadata": {},
     "outputs": [],
     "prompt_number": 366
    },
    {
     "cell_type": "code",
     "collapsed": false,
     "input": [
      "path_distance = 0\n",
      "for i in range(0,len(paths)-2):\n",
      "    node1 = paths[i]\n",
      "    node2 = paths[i+1]\n",
      "    path_distance += G[node1][node2]['weight']\n",
      "print \"Final path distance\"    \n",
      "print path_distance"
     ],
     "language": "python",
     "metadata": {},
     "outputs": [
      {
       "output_type": "stream",
       "stream": "stdout",
       "text": [
        "Final path distance\n",
        "1.3440214\n"
       ]
      }
     ],
     "prompt_number": 367
    },
    {
     "cell_type": "code",
     "collapsed": false,
     "input": [
      "for node in paths:\n",
      "    print node"
     ],
     "language": "python",
     "metadata": {},
     "outputs": [
      {
       "output_type": "stream",
       "stream": "stdout",
       "text": [
        "SEED-1\n",
        "SRLU-2a5289eb-5406-4da3-941d-dcb19b3ca628\n",
        "CCCR-a57685ee-ba9f-4bfb-b2f6-f179b693ee12\n",
        "HPA-b55529d2-beb9-480f-a159-9f2c99ba1646\n",
        "ID-4e357002-6446-4410-9470-50ef81fba41c\n",
        "TR-7801d954-893c-45d3-8d28-5650035206da\n",
        "HR-b414dbe0-043b-42b0-b33b-46efdc5e4526\n",
        "WP-14e51385-33a3-4588-b60c-004a2a1f74b0\n",
        "SEED-2\n"
       ]
      }
     ],
     "prompt_number": 348
    },
    {
     "cell_type": "code",
     "collapsed": false,
     "input": [
      "for node in paths:\n",
      "    print nodes[nodes['GUID']== node]\n",
      "    print \"---------------------------\""
     ],
     "language": "python",
     "metadata": {},
     "outputs": [
      {
       "output_type": "stream",
       "stream": "stdout",
       "text": [
        "       Source    GUID LastName MiddleName FirstName Street City State  Zip  \\\n",
        "247472   SEED  SEED-1      NaN        NaN       NaN    NaN  NaN   NaN  NaN   \n",
        "\n",
        "             Phone  ID-DOC  \n",
        "247472  21299875XX     NaN  \n",
        "---------------------------\n",
        "       Source                                       GUID    LastName  \\\n",
        "247474   SRLU  SRLU-2a5289eb-5406-4da3-941d-dcb19b3ca628  Brandybuck   \n",
        "\n",
        "       MiddleName FirstName              Street      City State    Zip  \\\n",
        "247474          D  Gloriana  3306 Rosewood Lane  New York    NY  10003   \n",
        "\n",
        "             Phone  ID-DOC  \n",
        "247474  2129987506     NaN  "
       ]
      },
      {
       "output_type": "stream",
       "stream": "stdout",
       "text": [
        "\n",
        "---------------------------\n",
        "  Source                                       GUID    LastName MiddleName  \\\n",
        "0   CCCR  CCCR-a57685ee-ba9f-4bfb-b2f6-f179b693ee12  Brandybuck  Donnamira   \n",
        "\n",
        "  FirstName              Street       City State    Zip Phone        ID-DOC  \n",
        "0  Gloriana  2719 Pin Oak Drive  Manhattan    NY  10018   NaN  5.334857e+15  "
       ]
      },
      {
       "output_type": "stream",
       "stream": "stdout",
       "text": [
        "\n",
        "---------------------------\n",
        "      Source                                      GUID LastName MiddleName  \\\n",
        "99185    HPA  HPA-b55529d2-beb9-480f-a159-9f2c99ba1646     Took        NaN   \n",
        "\n",
        "      FirstName      Street       City State    Zip Phone  ID-DOC  \n",
        "99185   Tollman  Pin Oak Dr  Manhattan    NY  10018   NaN     NaN  "
       ]
      },
      {
       "output_type": "stream",
       "stream": "stdout",
       "text": [
        "\n",
        "---------------------------\n",
        "       Source                                     GUID LastName MiddleName  \\\n",
        "198261     ID  ID-4e357002-6446-4410-9470-50ef81fba41c     Took   Fredegar   \n",
        "\n",
        "       FirstName              Street           City State    Zip Phone  \\\n",
        "198261    Tolman  234 Trails End Rd.  Staten Island    NY  10301   NaN   \n",
        "\n",
        "           ID-DOC  \n",
        "198261  298808448  "
       ]
      },
      {
       "output_type": "stream",
       "stream": "stdout",
       "text": [
        "\n",
        "---------------------------\n",
        "       Source                                     GUID LastName MiddleName  \\\n",
        "247604     TR  TR-7801d954-893c-45d3-8d28-5650035206da      Tuk          F   \n",
        "\n",
        "       FirstName Street City State  Zip       Phone     ID-DOC  \n",
        "247604       Tom    NaN  NaN   NaN  NaN  6318085343  298808448  "
       ]
      },
      {
       "output_type": "stream",
       "stream": "stdout",
       "text": [
        "\n",
        "---------------------------\n",
        "       Source                                     GUID LastName MiddleName  \\\n",
        "148260     HR  HR-b414dbe0-043b-42b0-b33b-46efdc5e4526      NaN        NaN   \n",
        "\n",
        "       FirstName          Street      City State    Zip       Phone  ID-DOC  \n",
        "148260       NaN  322 Meadow Dr.  Bethesda    MD  20014  6318085343     NaN  "
       ]
      },
      {
       "output_type": "stream",
       "stream": "stdout",
       "text": [
        "\n",
        "---------------------------\n",
        "       Source                                     GUID    LastName MiddleName  \\\n",
        "296811     WP  WP-14e51385-33a3-4588-b60c-004a2a1f74b0  Hornblower        NaN   \n",
        "\n",
        "       FirstName                Street      City State    Zip       Phone  \\\n",
        "296811   Melilot  322 Doe Meadow Drive  Bethesda    MD  20014  3018035414   \n",
        "\n",
        "        ID-DOC  \n",
        "296811     NaN  "
       ]
      },
      {
       "output_type": "stream",
       "stream": "stdout",
       "text": [
        "\n",
        "---------------------------\n",
        "       Source    GUID LastName MiddleName FirstName                  Street  \\\n",
        "247473   SEED  SEED-2      NaN        NaN       NaN  4408 East Madison Ave.   \n",
        "\n",
        "            City State    Zip Phone  ID-DOC  \n",
        "247473  Bethesda    MD  20014   NaN     NaN  "
       ]
      },
      {
       "output_type": "stream",
       "stream": "stdout",
       "text": [
        "\n",
        "---------------------------\n"
       ]
      }
     ],
     "prompt_number": 368
    },
    {
     "cell_type": "code",
     "collapsed": false,
     "input": [
      "G.remove_edge(paths[-1],paths[-2])"
     ],
     "language": "python",
     "metadata": {},
     "outputs": [],
     "prompt_number": 369
    },
    {
     "cell_type": "code",
     "collapsed": false,
     "input": [
      "paths = nx.shortest_path(G,'SEED-1','SEED-2',weight='weight')"
     ],
     "language": "python",
     "metadata": {},
     "outputs": [
      {
       "ename": "NetworkXNoPath",
       "evalue": "node SEED-1 not reachable from SEED-2",
       "output_type": "pyerr",
       "traceback": [
        "\u001b[1;31m---------------------------------------------------------------------------\u001b[0m\n\u001b[1;31mNetworkXNoPath\u001b[0m                            Traceback (most recent call last)",
        "\u001b[1;32m<ipython-input-370-8f42a6e45340>\u001b[0m in \u001b[0;36m<module>\u001b[1;34m()\u001b[0m\n\u001b[1;32m----> 1\u001b[1;33m \u001b[0mpaths\u001b[0m \u001b[1;33m=\u001b[0m \u001b[0mnx\u001b[0m\u001b[1;33m.\u001b[0m\u001b[0mshortest_path\u001b[0m\u001b[1;33m(\u001b[0m\u001b[0mG\u001b[0m\u001b[1;33m,\u001b[0m\u001b[1;34m'SEED-1'\u001b[0m\u001b[1;33m,\u001b[0m\u001b[1;34m'SEED-2'\u001b[0m\u001b[1;33m,\u001b[0m\u001b[0mweight\u001b[0m\u001b[1;33m=\u001b[0m\u001b[1;34m'weight'\u001b[0m\u001b[1;33m)\u001b[0m\u001b[1;33m\u001b[0m\u001b[0m\n\u001b[0m",
        "\u001b[1;32m/home/harshal/anaconda/lib/python2.7/site-packages/networkx/algorithms/shortest_paths/generic.pyc\u001b[0m in \u001b[0;36mshortest_path\u001b[1;34m(G, source, target, weight)\u001b[0m\n\u001b[0;32m    136\u001b[0m                 \u001b[0mpaths\u001b[0m\u001b[1;33m=\u001b[0m\u001b[0mnx\u001b[0m\u001b[1;33m.\u001b[0m\u001b[0mbidirectional_shortest_path\u001b[0m\u001b[1;33m(\u001b[0m\u001b[0mG\u001b[0m\u001b[1;33m,\u001b[0m\u001b[0msource\u001b[0m\u001b[1;33m,\u001b[0m\u001b[0mtarget\u001b[0m\u001b[1;33m)\u001b[0m\u001b[1;33m\u001b[0m\u001b[0m\n\u001b[0;32m    137\u001b[0m             \u001b[1;32melse\u001b[0m\u001b[1;33m:\u001b[0m\u001b[1;33m\u001b[0m\u001b[0m\n\u001b[1;32m--> 138\u001b[1;33m                 \u001b[0mpaths\u001b[0m\u001b[1;33m=\u001b[0m\u001b[0mnx\u001b[0m\u001b[1;33m.\u001b[0m\u001b[0mdijkstra_path\u001b[0m\u001b[1;33m(\u001b[0m\u001b[0mG\u001b[0m\u001b[1;33m,\u001b[0m\u001b[0msource\u001b[0m\u001b[1;33m,\u001b[0m\u001b[0mtarget\u001b[0m\u001b[1;33m,\u001b[0m\u001b[0mweight\u001b[0m\u001b[1;33m)\u001b[0m\u001b[1;33m\u001b[0m\u001b[0m\n\u001b[0m\u001b[0;32m    139\u001b[0m \u001b[1;33m\u001b[0m\u001b[0m\n\u001b[0;32m    140\u001b[0m     \u001b[1;32mreturn\u001b[0m \u001b[0mpaths\u001b[0m\u001b[1;33m\u001b[0m\u001b[0m\n",
        "\u001b[1;32m/home/harshal/anaconda/lib/python2.7/site-packages/networkx/algorithms/shortest_paths/weighted.pyc\u001b[0m in \u001b[0;36mdijkstra_path\u001b[1;34m(G, source, target, weight)\u001b[0m\n\u001b[0;32m     80\u001b[0m     \u001b[1;32mexcept\u001b[0m \u001b[0mKeyError\u001b[0m\u001b[1;33m:\u001b[0m\u001b[1;33m\u001b[0m\u001b[0m\n\u001b[0;32m     81\u001b[0m         raise nx.NetworkXNoPath(\n\u001b[1;32m---> 82\u001b[1;33m             \"node %s not reachable from %s\" % (source, target))\n\u001b[0m\u001b[0;32m     83\u001b[0m \u001b[1;33m\u001b[0m\u001b[0m\n\u001b[0;32m     84\u001b[0m \u001b[1;33m\u001b[0m\u001b[0m\n",
        "\u001b[1;31mNetworkXNoPath\u001b[0m: node SEED-1 not reachable from SEED-2"
       ]
      }
     ],
     "prompt_number": 370
    },
    {
     "cell_type": "code",
     "collapsed": false,
     "input": [],
     "language": "python",
     "metadata": {},
     "outputs": []
    }
   ],
   "metadata": {}
  }
 ]
}