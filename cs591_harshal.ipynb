{
 "metadata": {
  "name": "",
  "signature": "sha256:2a80921fd366ed7ba869118847e182c59acde25d94c9d2190f7b23beec21f37b"
 },
 "nbformat": 3,
 "nbformat_minor": 0,
 "worksheets": [
  {
   "cells": [
    {
     "cell_type": "code",
     "collapsed": false,
     "input": [
      "import pandas as pd\n",
      "import numpy as np\n",
      "import difflib\n",
      "import matplotlib.pyplot as plt\n",
      "import cPickle as pickle\n",
      "import networkx as nx"
     ],
     "language": "python",
     "metadata": {},
     "outputs": [],
     "prompt_number": 142
    },
    {
     "cell_type": "code",
     "collapsed": false,
     "input": [
      "nodes = pd.read_excel('nodes.xlsx')\n",
      "edges = pd.read_excel('edges.xlsx')"
     ],
     "language": "python",
     "metadata": {},
     "outputs": [],
     "prompt_number": 7
    },
    {
     "cell_type": "code",
     "collapsed": false,
     "input": [
      "nodes.to_pickle('nodes.pkl')\n",
      "edges.to_pickle('edges.pkl')"
     ],
     "language": "python",
     "metadata": {},
     "outputs": [],
     "prompt_number": 15
    },
    {
     "cell_type": "code",
     "collapsed": false,
     "input": [
      "nodes[nodes['GUID']=='SEED-1']"
     ],
     "language": "python",
     "metadata": {},
     "outputs": [
      {
       "html": [
        "<div style=\"max-height:1000px;max-width:1500px;overflow:auto;\">\n",
        "<table border=\"1\" class=\"dataframe\">\n",
        "  <thead>\n",
        "    <tr style=\"text-align: right;\">\n",
        "      <th></th>\n",
        "      <th>Source</th>\n",
        "      <th>GUID</th>\n",
        "      <th>LastName</th>\n",
        "      <th>MiddleName</th>\n",
        "      <th>FirstName</th>\n",
        "      <th>Street</th>\n",
        "      <th>City</th>\n",
        "      <th>State</th>\n",
        "      <th>Zip</th>\n",
        "      <th>Phone</th>\n",
        "      <th>ID-DOC</th>\n",
        "    </tr>\n",
        "  </thead>\n",
        "  <tbody>\n",
        "    <tr>\n",
        "      <th>247472</th>\n",
        "      <td> SEED</td>\n",
        "      <td> SEED-1</td>\n",
        "      <td> NaN</td>\n",
        "      <td> NaN</td>\n",
        "      <td> NaN</td>\n",
        "      <td> NaN</td>\n",
        "      <td> NaN</td>\n",
        "      <td> NaN</td>\n",
        "      <td>NaN</td>\n",
        "      <td> 21299875XX</td>\n",
        "      <td>NaN</td>\n",
        "    </tr>\n",
        "  </tbody>\n",
        "</table>\n",
        "</div>"
       ],
       "metadata": {},
       "output_type": "pyout",
       "prompt_number": 18,
       "text": [
        "       Source    GUID LastName MiddleName FirstName Street City State  Zip  \\\n",
        "247472   SEED  SEED-1      NaN        NaN       NaN    NaN  NaN   NaN  NaN   \n",
        "\n",
        "             Phone  ID-DOC  \n",
        "247472  21299875XX     NaN  "
       ]
      }
     ],
     "prompt_number": 18
    },
    {
     "cell_type": "code",
     "collapsed": false,
     "input": [
      "nodes[nodes['GUID']=='SEED-2']"
     ],
     "language": "python",
     "metadata": {},
     "outputs": [
      {
       "html": [
        "<div style=\"max-height:1000px;max-width:1500px;overflow:auto;\">\n",
        "<table border=\"1\" class=\"dataframe\">\n",
        "  <thead>\n",
        "    <tr style=\"text-align: right;\">\n",
        "      <th></th>\n",
        "      <th>Source</th>\n",
        "      <th>GUID</th>\n",
        "      <th>LastName</th>\n",
        "      <th>MiddleName</th>\n",
        "      <th>FirstName</th>\n",
        "      <th>Street</th>\n",
        "      <th>City</th>\n",
        "      <th>State</th>\n",
        "      <th>Zip</th>\n",
        "      <th>Phone</th>\n",
        "      <th>ID-DOC</th>\n",
        "    </tr>\n",
        "  </thead>\n",
        "  <tbody>\n",
        "    <tr>\n",
        "      <th>247473</th>\n",
        "      <td> SEED</td>\n",
        "      <td> SEED-2</td>\n",
        "      <td> NaN</td>\n",
        "      <td> NaN</td>\n",
        "      <td> NaN</td>\n",
        "      <td> 4408 East Madison Ave.</td>\n",
        "      <td> Bethesda</td>\n",
        "      <td> MD</td>\n",
        "      <td> 20014</td>\n",
        "      <td> NaN</td>\n",
        "      <td>NaN</td>\n",
        "    </tr>\n",
        "  </tbody>\n",
        "</table>\n",
        "</div>"
       ],
       "metadata": {},
       "output_type": "pyout",
       "prompt_number": 19,
       "text": [
        "       Source    GUID LastName MiddleName FirstName                  Street  \\\n",
        "247473   SEED  SEED-2      NaN        NaN       NaN  4408 East Madison Ave.   \n",
        "\n",
        "            City State    Zip Phone  ID-DOC  \n",
        "247473  Bethesda    MD  20014   NaN     NaN  "
       ]
      }
     ],
     "prompt_number": 19
    },
    {
     "cell_type": "code",
     "collapsed": false,
     "input": [
      "len(edges[edges['GUID_1']=='SEED-1'])"
     ],
     "language": "python",
     "metadata": {},
     "outputs": [
      {
       "metadata": {},
       "output_type": "pyout",
       "prompt_number": 27,
       "text": [
        "130"
       ]
      }
     ],
     "prompt_number": 27
    },
    {
     "cell_type": "code",
     "collapsed": false,
     "input": [
      "len(edges[edges['GUID_2']=='SEED-2'])"
     ],
     "language": "python",
     "metadata": {},
     "outputs": [
      {
       "metadata": {},
       "output_type": "pyout",
       "prompt_number": 32,
       "text": [
        "9"
       ]
      }
     ],
     "prompt_number": 32
    },
    {
     "cell_type": "code",
     "collapsed": false,
     "input": [
      "edges_new = edges.groupby('GUID_1')"
     ],
     "language": "python",
     "metadata": {},
     "outputs": [],
     "prompt_number": 90
    },
    {
     "cell_type": "code",
     "collapsed": false,
     "input": [
      "guid_1 = edges['GUID_1'].tolist()\n",
      "guid_2 = edges['GUID_2'].tolist()\n",
      "tcs = edges['TCS'].tolist()\n",
      "\n",
      "guid_1 = [str(key) for key in guid_1]\n",
      "guid_2 = [str(key) for key in guid_2]\n",
      "tcs = [float(key) for key in tcs]"
     ],
     "language": "python",
     "metadata": {},
     "outputs": [],
     "prompt_number": 133
    },
    {
     "cell_type": "code",
     "collapsed": false,
     "input": [
      "adj_list=[]\n",
      "for i in range(0,len(guid_1)):\n",
      "    adj_list.append(guid_1[i] + ' ' + guid_2[i] + ' ' + str(tcs[i]))"
     ],
     "language": "python",
     "metadata": {},
     "outputs": [],
     "prompt_number": 140
    },
    {
     "cell_type": "code",
     "collapsed": false,
     "input": [
      "G = nx.parse_edgelist(adj_list, nodetype = str, data=(('weight',float),))"
     ],
     "language": "python",
     "metadata": {},
     "outputs": [],
     "prompt_number": 143
    },
    {
     "cell_type": "code",
     "collapsed": false,
     "input": [
      "paths = nx.all_simple_paths(G,'SEED-1','SEED-2',cutoff=4)"
     ],
     "language": "python",
     "metadata": {},
     "outputs": [],
     "prompt_number": 183
    },
    {
     "cell_type": "code",
     "collapsed": false,
     "input": [
      "for path in paths:\n",
      "    print (path)"
     ],
     "language": "python",
     "metadata": {},
     "outputs": [
      {
       "output_type": "stream",
       "stream": "stdout",
       "text": [
        "['SEED-1', 'SRLU-2a5289eb-5406-4da3-941d-dcb19b3ca628', 'CCCR-a57685ee-ba9f-4bfb-b2f6-f179b693ee12', 'CCTR-a95c7942-7d7a-43b7-9fff-1e01218b7b46', 'SEED-2']\n"
       ]
      }
     ],
     "prompt_number": 184
    },
    {
     "cell_type": "code",
     "collapsed": false,
     "input": [
      "G1 = G.copy()\n"
     ],
     "language": "python",
     "metadata": {},
     "outputs": [],
     "prompt_number": 248
    },
    {
     "cell_type": "code",
     "collapsed": false,
     "input": [
      "for node in path:\n",
      "    print nodes[nodes['GUID']== node]\n",
      "    print \"---------------------------\""
     ],
     "language": "python",
     "metadata": {},
     "outputs": [
      {
       "output_type": "stream",
       "stream": "stdout",
       "text": [
        "       Source    GUID LastName MiddleName FirstName Street City State  Zip  \\\n",
        "247472   SEED  SEED-1      NaN        NaN       NaN    NaN  NaN   NaN  NaN   \n",
        "\n",
        "             Phone  ID-DOC  \n",
        "247472  21299875XX     NaN  \n",
        "---------------------------\n",
        "       Source                                       GUID    LastName  \\\n",
        "247474   SRLU  SRLU-2a5289eb-5406-4da3-941d-dcb19b3ca628  Brandybuck   \n",
        "\n",
        "       MiddleName FirstName              Street      City State    Zip  \\\n",
        "247474          D  Gloriana  3306 Rosewood Lane  New York    NY  10003   \n",
        "\n",
        "             Phone  ID-DOC  \n",
        "247474  2129987506     NaN  "
       ]
      },
      {
       "output_type": "stream",
       "stream": "stdout",
       "text": [
        "\n",
        "---------------------------\n",
        "  Source                                       GUID    LastName MiddleName  \\\n",
        "0   CCCR  CCCR-a57685ee-ba9f-4bfb-b2f6-f179b693ee12  Brandybuck  Donnamira   \n",
        "\n",
        "  FirstName              Street       City State    Zip Phone        ID-DOC  \n",
        "0  Gloriana  2719 Pin Oak Drive  Manhattan    NY  10018   NaN  5.334857e+15  "
       ]
      },
      {
       "output_type": "stream",
       "stream": "stdout",
       "text": [
        "\n",
        "---------------------------\n",
        "      Source                                       GUID LastName MiddleName  \\\n",
        "49183   CCTR  CCTR-a95c7942-7d7a-43b7-9fff-1e01218b7b46      NaN        NaN   \n",
        "49187   CCTR  CCTR-a95c7942-7d7a-43b7-9fff-1e01218b7b46      NaN        NaN   \n",
        "\n",
        "      FirstName            Street      City State    Zip Phone        ID-DOC  \n",
        "49183       NaN   18 Wayback Road  Bethesda    MD  20014   NaN  5.334857e+15  \n",
        "49187       NaN  1323 Frosty Lane      Lodi    NY  14860   NaN  4.485358e+15  "
       ]
      },
      {
       "output_type": "stream",
       "stream": "stdout",
       "text": [
        "\n",
        "---------------------------\n",
        "       Source    GUID LastName MiddleName FirstName                  Street  \\\n",
        "247473   SEED  SEED-2      NaN        NaN       NaN  4408 East Madison Ave.   \n",
        "\n",
        "            City State    Zip Phone  ID-DOC  \n",
        "247473  Bethesda    MD  20014   NaN     NaN  "
       ]
      },
      {
       "output_type": "stream",
       "stream": "stdout",
       "text": [
        "\n",
        "---------------------------\n"
       ]
      }
     ],
     "prompt_number": 189
    },
    {
     "cell_type": "code",
     "collapsed": false,
     "input": [
      "partial_paths = {}\n",
      "for node in path:\n",
      "    partial_paths[node] = [path for path in nx.all_simple_paths(G,node,'SEED-2',cutoff=4)]"
     ],
     "language": "python",
     "metadata": {},
     "outputs": [],
     "prompt_number": 197
    },
    {
     "cell_type": "code",
     "collapsed": false,
     "input": [
      "partial_paths"
     ],
     "language": "python",
     "metadata": {},
     "outputs": [
      {
       "metadata": {},
       "output_type": "pyout",
       "prompt_number": 223,
       "text": [
        "{'CCCR-a57685ee-ba9f-4bfb-b2f6-f179b693ee12': [['CCCR-a57685ee-ba9f-4bfb-b2f6-f179b693ee12',\n",
        "   'CCTR-a95c7942-7d7a-43b7-9fff-1e01218b7b46',\n",
        "   'SEED-2'],\n",
        "  ['CCCR-a57685ee-ba9f-4bfb-b2f6-f179b693ee12',\n",
        "   'CCTR-bb85a67b-370d-4e05-a849-268eba20670c',\n",
        "   'CCCR-ac908031-33b2-4ea1-816b-7c79a67827d2',\n",
        "   'CCTR-a95c7942-7d7a-43b7-9fff-1e01218b7b46',\n",
        "   'SEED-2']],\n",
        " 'CCTR-a95c7942-7d7a-43b7-9fff-1e01218b7b46': [['CCTR-a95c7942-7d7a-43b7-9fff-1e01218b7b46',\n",
        "   'SEED-2']],\n",
        " 'SEED-1': [['SEED-1',\n",
        "   'SRLU-2a5289eb-5406-4da3-941d-dcb19b3ca628',\n",
        "   'CCCR-a57685ee-ba9f-4bfb-b2f6-f179b693ee12',\n",
        "   'CCTR-a95c7942-7d7a-43b7-9fff-1e01218b7b46',\n",
        "   'SEED-2']],\n",
        " 'SEED-2': [['SEED-2', 'WP-79f0c1b6-6954-4d59-950f-3467dcbf80bc', 'SEED-2'],\n",
        "  ['SEED-2', 'CCTR-d810ddcd-d30c-4627-ade6-c4507e307c51', 'SEED-2'],\n",
        "  ['SEED-2', 'CCTR-7c1ecc07-ad6a-435c-98e0-6f0e1b7f6135', 'SEED-2'],\n",
        "  ['SEED-2', 'WP-def1e3de-bca5-431c-9c89-a089141d07ec', 'SEED-2'],\n",
        "  ['SEED-2', 'CCTR-9132f2bd-4632-4b9e-831a-7407806f3df2', 'SEED-2'],\n",
        "  ['SEED-2', 'WP-13390206-aba0-46aa-a849-3f04dea6de91', 'SEED-2'],\n",
        "  ['SEED-2', 'CCTR-edaa2196-6317-4724-baaf-a139a710fea1', 'SEED-2'],\n",
        "  ['SEED-2', 'WP-3207a3ff-dd36-4d58-8f9c-26eeb8773609', 'SEED-2'],\n",
        "  ['SEED-2', 'CCTR-5c9ecb6d-0e7f-49e3-96db-07df2b46d2a0', 'SEED-2'],\n",
        "  ['SEED-2', 'WP-14e51385-33a3-4588-b60c-004a2a1f74b0', 'SEED-2'],\n",
        "  ['SEED-2', 'CCTR-a92ba803-1c17-47eb-b4b8-547869c7f526', 'SEED-2'],\n",
        "  ['SEED-2', 'WP-e643c93d-a3c2-468c-8604-56f15701f641', 'SEED-2'],\n",
        "  ['SEED-2', 'WP-04b18294-9c48-4837-9890-32c435a07671', 'SEED-2'],\n",
        "  ['SEED-2', 'CCTR-a95c7942-7d7a-43b7-9fff-1e01218b7b46', 'SEED-2'],\n",
        "  ['SEED-2', 'WP-b7ccd85d-a0c4-41b1-9362-6be51c15aa3c', 'SEED-2'],\n",
        "  ['SEED-2', 'WP-fd398bea-9cc1-4aea-998a-c6babd65e6d0', 'SEED-2'],\n",
        "  ['SEED-2', 'WP-81e6edcf-b0ea-403f-84e9-3ea421e22058', 'SEED-2'],\n",
        "  ['SEED-2', 'CCTR-a981288a-f6a3-44a7-91fd-78d96dc063ba', 'SEED-2'],\n",
        "  ['SEED-2', 'CCTR-47d45db9-4535-4933-8c2c-42c810e0c100', 'SEED-2'],\n",
        "  ['SEED-2', 'WP-dfcda25e-d402-42ef-813b-9ea310a95bdc', 'SEED-2'],\n",
        "  ['SEED-2', 'WP-bb9bed7e-882b-460a-81ba-69c67bce199d', 'SEED-2']],\n",
        " 'SRLU-2a5289eb-5406-4da3-941d-dcb19b3ca628': [['SRLU-2a5289eb-5406-4da3-941d-dcb19b3ca628',\n",
        "   'CCCR-a57685ee-ba9f-4bfb-b2f6-f179b693ee12',\n",
        "   'CCTR-a95c7942-7d7a-43b7-9fff-1e01218b7b46',\n",
        "   'SEED-2']]}"
       ]
      }
     ],
     "prompt_number": 223
    },
    {
     "cell_type": "code",
     "collapsed": false,
     "input": [],
     "language": "python",
     "metadata": {},
     "outputs": []
    }
   ],
   "metadata": {}
  }
 ]
}